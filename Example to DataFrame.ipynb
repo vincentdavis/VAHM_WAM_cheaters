{
 "cells": [
  {
   "cell_type": "code",
   "execution_count": 11,
   "outputs": [
    {
     "name": "stdout",
     "output_type": "stream",
     "text": [
      "The autoreload extension is already loaded. To reload it, use:\n",
      "  %reload_ext autoreload\n"
     ]
    },
    {
     "data": {
      "text/plain": "  accumulated_power                 timestamp temperature  fractional_cadence  \\\n0               175 2022-12-19 23:59:52+00:00          21                 0.0   \n1               351 2022-12-19 23:59:52+00:00          21                 0.0   \n2               521 2022-12-19 23:59:52+00:00          21                 0.0   \n3               841 2022-12-19 23:59:52+00:00          21                 0.0   \n4              1267 2022-12-19 23:59:55+00:00          21                 0.0   \n\n                    right_power_phase_peak cadence left_pco heart_rate  \\\n0  (57.65625090087892, 115.31250180175785)      89        0         83   \n1   (60.46875094482424, 119.5312518676758)      95        0         84   \n2   (56.25000087890626, 119.5312518676758)     100        0         84   \n3   (54.84375085693361, 116.7187518237305)     102        0         83   \n4   (54.84375085693361, 116.7187518237305)      98        0         82   \n\n  event_type                        right_power_phase data power  distance  \\\n0     marker  (2.812500043945313, 185.62500290039068)  NaN   175       0.0   \n1     marker  (1.4062500219726566, 191.2500029882813)  NaN   176       0.0   \n2     marker                (0.0, 196.87500307617194)  NaN   170       0.0   \n3     marker                (0.0, 202.50000316406255)  NaN   320       0.0   \n4     marker                (0.0, 202.50000316406255)  NaN   426       0.0   \n\n                     left_power_phase_peak  \\\n0  (57.65625090087892, 115.31250180175785)   \n1   (64.68750101074221, 119.5312518676758)   \n2   (61.87500096679689, 116.7187518237305)   \n3  (59.06250092285158, 113.90625177978518)   \n4  (60.46875094482424, 115.31250180175785)   \n\n                           left_power_phase left_right_balance right_pco  \\\n0  (1.4062500219726566, 180.00000281250004)                182         0   \n1  (1.4062500219726566, 185.62500290039068)                182         0   \n2   (2.812500043945313, 192.65625301025395)                191         0   \n3   (357.1875055810548, 192.65625301025395)                191         0   \n4    (344.53125538330085, 188.437502944336)                188         0   \n\n           rider_position                  event  \n0                  seated  rider_position_change  \n1                  seated  rider_position_change  \n2                  seated  rider_position_change  \n3                  seated  rider_position_change  \n4  transition_to_standing  rider_position_change  ",
      "text/html": "<div>\n<style scoped>\n    .dataframe tbody tr th:only-of-type {\n        vertical-align: middle;\n    }\n\n    .dataframe tbody tr th {\n        vertical-align: top;\n    }\n\n    .dataframe thead th {\n        text-align: right;\n    }\n</style>\n<table border=\"1\" class=\"dataframe\">\n  <thead>\n    <tr style=\"text-align: right;\">\n      <th></th>\n      <th>accumulated_power</th>\n      <th>timestamp</th>\n      <th>temperature</th>\n      <th>fractional_cadence</th>\n      <th>right_power_phase_peak</th>\n      <th>cadence</th>\n      <th>left_pco</th>\n      <th>heart_rate</th>\n      <th>event_type</th>\n      <th>right_power_phase</th>\n      <th>data</th>\n      <th>power</th>\n      <th>distance</th>\n      <th>left_power_phase_peak</th>\n      <th>left_power_phase</th>\n      <th>left_right_balance</th>\n      <th>right_pco</th>\n      <th>rider_position</th>\n      <th>event</th>\n    </tr>\n  </thead>\n  <tbody>\n    <tr>\n      <th>0</th>\n      <td>175</td>\n      <td>2022-12-19 23:59:52+00:00</td>\n      <td>21</td>\n      <td>0.0</td>\n      <td>(57.65625090087892, 115.31250180175785)</td>\n      <td>89</td>\n      <td>0</td>\n      <td>83</td>\n      <td>marker</td>\n      <td>(2.812500043945313, 185.62500290039068)</td>\n      <td>NaN</td>\n      <td>175</td>\n      <td>0.0</td>\n      <td>(57.65625090087892, 115.31250180175785)</td>\n      <td>(1.4062500219726566, 180.00000281250004)</td>\n      <td>182</td>\n      <td>0</td>\n      <td>seated</td>\n      <td>rider_position_change</td>\n    </tr>\n    <tr>\n      <th>1</th>\n      <td>351</td>\n      <td>2022-12-19 23:59:52+00:00</td>\n      <td>21</td>\n      <td>0.0</td>\n      <td>(60.46875094482424, 119.5312518676758)</td>\n      <td>95</td>\n      <td>0</td>\n      <td>84</td>\n      <td>marker</td>\n      <td>(1.4062500219726566, 191.2500029882813)</td>\n      <td>NaN</td>\n      <td>176</td>\n      <td>0.0</td>\n      <td>(64.68750101074221, 119.5312518676758)</td>\n      <td>(1.4062500219726566, 185.62500290039068)</td>\n      <td>182</td>\n      <td>0</td>\n      <td>seated</td>\n      <td>rider_position_change</td>\n    </tr>\n    <tr>\n      <th>2</th>\n      <td>521</td>\n      <td>2022-12-19 23:59:52+00:00</td>\n      <td>21</td>\n      <td>0.0</td>\n      <td>(56.25000087890626, 119.5312518676758)</td>\n      <td>100</td>\n      <td>0</td>\n      <td>84</td>\n      <td>marker</td>\n      <td>(0.0, 196.87500307617194)</td>\n      <td>NaN</td>\n      <td>170</td>\n      <td>0.0</td>\n      <td>(61.87500096679689, 116.7187518237305)</td>\n      <td>(2.812500043945313, 192.65625301025395)</td>\n      <td>191</td>\n      <td>0</td>\n      <td>seated</td>\n      <td>rider_position_change</td>\n    </tr>\n    <tr>\n      <th>3</th>\n      <td>841</td>\n      <td>2022-12-19 23:59:52+00:00</td>\n      <td>21</td>\n      <td>0.0</td>\n      <td>(54.84375085693361, 116.7187518237305)</td>\n      <td>102</td>\n      <td>0</td>\n      <td>83</td>\n      <td>marker</td>\n      <td>(0.0, 202.50000316406255)</td>\n      <td>NaN</td>\n      <td>320</td>\n      <td>0.0</td>\n      <td>(59.06250092285158, 113.90625177978518)</td>\n      <td>(357.1875055810548, 192.65625301025395)</td>\n      <td>191</td>\n      <td>0</td>\n      <td>seated</td>\n      <td>rider_position_change</td>\n    </tr>\n    <tr>\n      <th>4</th>\n      <td>1267</td>\n      <td>2022-12-19 23:59:55+00:00</td>\n      <td>21</td>\n      <td>0.0</td>\n      <td>(54.84375085693361, 116.7187518237305)</td>\n      <td>98</td>\n      <td>0</td>\n      <td>82</td>\n      <td>marker</td>\n      <td>(0.0, 202.50000316406255)</td>\n      <td>NaN</td>\n      <td>426</td>\n      <td>0.0</td>\n      <td>(60.46875094482424, 115.31250180175785)</td>\n      <td>(344.53125538330085, 188.437502944336)</td>\n      <td>188</td>\n      <td>0</td>\n      <td>transition_to_standing</td>\n      <td>rider_position_change</td>\n    </tr>\n  </tbody>\n</table>\n</div>"
     },
     "execution_count": 11,
     "metadata": {},
     "output_type": "execute_result"
    }
   ],
   "source": [
    "%load_ext autoreload\n",
    "%autoreload 2\n",
    "from loadfiles import fit2df\n",
    "\n",
    "fit_file = 'testdata/cheats/pedal_calibration/Garmin_assioma_160_wrong_Dec_19_2022.fit'\n",
    "df = fit2df(fit_file)\n",
    "df.head()"
   ],
   "metadata": {
    "collapsed": false
   }
  },
  {
   "cell_type": "markdown",
   "source": [
    "## Export to csv or excel\n",
    "df.to_csv('csvfile.csv')\n",
    "df.to_excel('excel.xlsx')"
   ],
   "metadata": {
    "collapsed": false
   }
  },
  {
   "cell_type": "markdown",
   "source": [],
   "metadata": {
    "collapsed": false
   }
  }
 ],
 "metadata": {
  "kernelspec": {
   "display_name": "Python 3",
   "language": "python",
   "name": "python3"
  },
  "language_info": {
   "codemirror_mode": {
    "name": "ipython",
    "version": 2
   },
   "file_extension": ".py",
   "mimetype": "text/x-python",
   "name": "python",
   "nbconvert_exporter": "python",
   "pygments_lexer": "ipython2",
   "version": "2.7.6"
  }
 },
 "nbformat": 4,
 "nbformat_minor": 0
}
