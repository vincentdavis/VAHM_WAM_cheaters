{
 "cells": [
  {
   "cell_type": "code",
   "execution_count": 8,
   "metadata": {
    "collapsed": true
   },
   "outputs": [
    {
     "name": "stdout",
     "output_type": "stream",
     "text": [
      "The autoreload extension is already loaded. To reload it, use:\n",
      "  %reload_ext autoreload\n"
     ]
    },
    {
     "data": {
      "text/plain": "  accumulated_power                 timestamp temperature  fractional_cadence  \\\n0               175 2022-12-19 23:59:52+00:00          21                 0.0   \n1               351 2022-12-19 23:59:52+00:00          21                 0.0   \n2               521 2022-12-19 23:59:52+00:00          21                 0.0   \n3               841 2022-12-19 23:59:52+00:00          21                 0.0   \n4              1267 2022-12-19 23:59:55+00:00          21                 0.0   \n\n                    right_power_phase_peak cadence left_pco heart_rate  \\\n0  (57.65625090087892, 115.31250180175785)      89        0         83   \n1   (60.46875094482424, 119.5312518676758)      95        0         84   \n2   (56.25000087890626, 119.5312518676758)     100        0         84   \n3   (54.84375085693361, 116.7187518237305)     102        0         83   \n4   (54.84375085693361, 116.7187518237305)      98        0         82   \n\n  event_type                        right_power_phase data power  distance  \\\n0     marker  (2.812500043945313, 185.62500290039068)  NaN   175       0.0   \n1     marker  (1.4062500219726566, 191.2500029882813)  NaN   176       0.0   \n2     marker                (0.0, 196.87500307617194)  NaN   170       0.0   \n3     marker                (0.0, 202.50000316406255)  NaN   320       0.0   \n4     marker                (0.0, 202.50000316406255)  NaN   426       0.0   \n\n                     left_power_phase_peak  \\\n0  (57.65625090087892, 115.31250180175785)   \n1   (64.68750101074221, 119.5312518676758)   \n2   (61.87500096679689, 116.7187518237305)   \n3  (59.06250092285158, 113.90625177978518)   \n4  (60.46875094482424, 115.31250180175785)   \n\n                           left_power_phase left_right_balance right_pco  \\\n0  (1.4062500219726566, 180.00000281250004)                182         0   \n1  (1.4062500219726566, 185.62500290039068)                182         0   \n2   (2.812500043945313, 192.65625301025395)                191         0   \n3   (357.1875055810548, 192.65625301025395)                191         0   \n4    (344.53125538330085, 188.437502944336)                188         0   \n\n           rider_position                  event  \n0                  seated  rider_position_change  \n1                  seated  rider_position_change  \n2                  seated  rider_position_change  \n3                  seated  rider_position_change  \n4  transition_to_standing  rider_position_change  ",
      "text/html": "<div>\n<style scoped>\n    .dataframe tbody tr th:only-of-type {\n        vertical-align: middle;\n    }\n\n    .dataframe tbody tr th {\n        vertical-align: top;\n    }\n\n    .dataframe thead th {\n        text-align: right;\n    }\n</style>\n<table border=\"1\" class=\"dataframe\">\n  <thead>\n    <tr style=\"text-align: right;\">\n      <th></th>\n      <th>accumulated_power</th>\n      <th>timestamp</th>\n      <th>temperature</th>\n      <th>fractional_cadence</th>\n      <th>right_power_phase_peak</th>\n      <th>cadence</th>\n      <th>left_pco</th>\n      <th>heart_rate</th>\n      <th>event_type</th>\n      <th>right_power_phase</th>\n      <th>data</th>\n      <th>power</th>\n      <th>distance</th>\n      <th>left_power_phase_peak</th>\n      <th>left_power_phase</th>\n      <th>left_right_balance</th>\n      <th>right_pco</th>\n      <th>rider_position</th>\n      <th>event</th>\n    </tr>\n  </thead>\n  <tbody>\n    <tr>\n      <th>0</th>\n      <td>175</td>\n      <td>2022-12-19 23:59:52+00:00</td>\n      <td>21</td>\n      <td>0.0</td>\n      <td>(57.65625090087892, 115.31250180175785)</td>\n      <td>89</td>\n      <td>0</td>\n      <td>83</td>\n      <td>marker</td>\n      <td>(2.812500043945313, 185.62500290039068)</td>\n      <td>NaN</td>\n      <td>175</td>\n      <td>0.0</td>\n      <td>(57.65625090087892, 115.31250180175785)</td>\n      <td>(1.4062500219726566, 180.00000281250004)</td>\n      <td>182</td>\n      <td>0</td>\n      <td>seated</td>\n      <td>rider_position_change</td>\n    </tr>\n    <tr>\n      <th>1</th>\n      <td>351</td>\n      <td>2022-12-19 23:59:52+00:00</td>\n      <td>21</td>\n      <td>0.0</td>\n      <td>(60.46875094482424, 119.5312518676758)</td>\n      <td>95</td>\n      <td>0</td>\n      <td>84</td>\n      <td>marker</td>\n      <td>(1.4062500219726566, 191.2500029882813)</td>\n      <td>NaN</td>\n      <td>176</td>\n      <td>0.0</td>\n      <td>(64.68750101074221, 119.5312518676758)</td>\n      <td>(1.4062500219726566, 185.62500290039068)</td>\n      <td>182</td>\n      <td>0</td>\n      <td>seated</td>\n      <td>rider_position_change</td>\n    </tr>\n    <tr>\n      <th>2</th>\n      <td>521</td>\n      <td>2022-12-19 23:59:52+00:00</td>\n      <td>21</td>\n      <td>0.0</td>\n      <td>(56.25000087890626, 119.5312518676758)</td>\n      <td>100</td>\n      <td>0</td>\n      <td>84</td>\n      <td>marker</td>\n      <td>(0.0, 196.87500307617194)</td>\n      <td>NaN</td>\n      <td>170</td>\n      <td>0.0</td>\n      <td>(61.87500096679689, 116.7187518237305)</td>\n      <td>(2.812500043945313, 192.65625301025395)</td>\n      <td>191</td>\n      <td>0</td>\n      <td>seated</td>\n      <td>rider_position_change</td>\n    </tr>\n    <tr>\n      <th>3</th>\n      <td>841</td>\n      <td>2022-12-19 23:59:52+00:00</td>\n      <td>21</td>\n      <td>0.0</td>\n      <td>(54.84375085693361, 116.7187518237305)</td>\n      <td>102</td>\n      <td>0</td>\n      <td>83</td>\n      <td>marker</td>\n      <td>(0.0, 202.50000316406255)</td>\n      <td>NaN</td>\n      <td>320</td>\n      <td>0.0</td>\n      <td>(59.06250092285158, 113.90625177978518)</td>\n      <td>(357.1875055810548, 192.65625301025395)</td>\n      <td>191</td>\n      <td>0</td>\n      <td>seated</td>\n      <td>rider_position_change</td>\n    </tr>\n    <tr>\n      <th>4</th>\n      <td>1267</td>\n      <td>2022-12-19 23:59:55+00:00</td>\n      <td>21</td>\n      <td>0.0</td>\n      <td>(54.84375085693361, 116.7187518237305)</td>\n      <td>98</td>\n      <td>0</td>\n      <td>82</td>\n      <td>marker</td>\n      <td>(0.0, 202.50000316406255)</td>\n      <td>NaN</td>\n      <td>426</td>\n      <td>0.0</td>\n      <td>(60.46875094482424, 115.31250180175785)</td>\n      <td>(344.53125538330085, 188.437502944336)</td>\n      <td>188</td>\n      <td>0</td>\n      <td>transition_to_standing</td>\n      <td>rider_position_change</td>\n    </tr>\n  </tbody>\n</table>\n</div>"
     },
     "execution_count": 8,
     "metadata": {},
     "output_type": "execute_result"
    }
   ],
   "source": [
    "%load_ext autoreload\n",
    "%autoreload 2\n",
    "from loadfiles import fit2df\n",
    "\n",
    "fit_file = 'testdata/cheats/pedal_calibration/Garmin_assioma_160_wrong_Dec_19_2022.fit'\n",
    "df = fit2df(fit_file)\n",
    "df.head()"
   ]
  },
  {
   "cell_type": "code",
   "execution_count": 209,
   "outputs": [
    {
     "data": {
      "text/plain": "                   timestamp                  event event_type  \\\n8  2022-12-19 23:59:52+00:00  rider_position_change     marker   \n29 2022-12-19 23:59:52+00:00                    NaN        NaN   \n30 2022-12-19 23:59:53+00:00                    NaN        NaN   \n31 2022-12-19 23:59:54+00:00                    NaN        NaN   \n32 2022-12-19 23:59:55+00:00                    NaN        NaN   \n33 2022-12-19 23:59:55+00:00  rider_position_change     marker   \n35 2022-12-19 23:59:56+00:00                    NaN        NaN   \n36 2022-12-19 23:59:57+00:00                    NaN        NaN   \n37 2022-12-19 23:59:58+00:00                    NaN        NaN   \n38 2022-12-19 23:59:59+00:00                    NaN        NaN   \n\n            rider_position  distance  accumulated_power  power  heart_rate  \\\n8                   seated       NaN                NaN    NaN         NaN   \n29                     NaN       0.0              175.0  175.0        83.0   \n30                     NaN       0.0              351.0  176.0        84.0   \n31                     NaN       0.0              521.0  170.0        84.0   \n32                     NaN       0.0              841.0  320.0        83.0   \n33  transition_to_standing       NaN                NaN    NaN         NaN   \n35                     NaN       0.0             1267.0  426.0        82.0   \n36                     NaN       0.0             1748.0  481.0        82.0   \n37                     NaN       0.0             2218.0  470.0        83.0   \n38                     NaN       0.0             2614.0  396.0        83.0   \n\n    cadence  temperature left_right_balance  fractional_cadence  left_pco  \\\n8       NaN          NaN                NaN                 NaN       NaN   \n29     89.0         21.0                182                 0.0       0.0   \n30     95.0         21.0                182                 0.0       0.0   \n31    100.0         21.0                191                 0.0       0.0   \n32    102.0         21.0                191                 0.0       0.0   \n33      NaN          NaN                NaN                 NaN       NaN   \n35     98.0         21.0                188                 0.0       0.0   \n36     82.0         21.0                187                 0.0       0.0   \n37     81.0         21.0                182                 0.0       0.0   \n38     82.0         21.0                183                 0.0       0.0   \n\n    right_pco                          left_power_phase  \\\n8         NaN                                       NaN   \n29        0.0  (1.4062500219726566, 180.00000281250004)   \n30        0.0  (1.4062500219726566, 185.62500290039068)   \n31        0.0   (2.812500043945313, 192.65625301025395)   \n32        0.0   (357.1875055810548, 192.65625301025395)   \n33        NaN                                       NaN   \n35        0.0    (344.53125538330085, 188.437502944336)   \n36        0.0    (344.53125538330085, 188.437502944336)   \n37        0.0    (344.53125538330085, 188.437502944336)   \n38        0.0  (331.87500518554697, 185.62500290039068)   \n\n                      left_power_phase_peak  \\\n8                                       NaN   \n29  (57.65625090087892, 115.31250180175785)   \n30   (64.68750101074221, 119.5312518676758)   \n31   (61.87500096679689, 116.7187518237305)   \n32  (59.06250092285158, 113.90625177978518)   \n33                                      NaN   \n35  (60.46875094482424, 115.31250180175785)   \n36  (60.46875094482424, 115.31250180175785)   \n37  (60.46875094482424, 115.31250180175785)   \n38  (68.90625107666017, 123.75000193359378)   \n\n                          right_power_phase  \\\n8                                       NaN   \n29  (2.812500043945313, 185.62500290039068)   \n30  (1.4062500219726566, 191.2500029882813)   \n31                (0.0, 196.87500307617194)   \n32                (0.0, 202.50000316406255)   \n33                                      NaN   \n35                (0.0, 202.50000316406255)   \n36                (0.0, 202.50000316406255)   \n37   (343.1250053613282, 223.5937534936524)   \n38   (343.1250053613282, 223.5937534936524)   \n\n                     right_power_phase_peak  data  \n8                                       NaN   NaN  \n29  (57.65625090087892, 115.31250180175785)   NaN  \n30   (60.46875094482424, 119.5312518676758)   NaN  \n31   (56.25000087890626, 119.5312518676758)   NaN  \n32   (54.84375085693361, 116.7187518237305)   NaN  \n33                                      NaN   NaN  \n35   (54.84375085693361, 116.7187518237305)   NaN  \n36   (54.84375085693361, 116.7187518237305)   NaN  \n37  (64.68750101074221, 123.75000193359378)   NaN  \n38  (64.68750101074221, 123.75000193359378)   NaN  ",
      "text/html": "<div>\n<style scoped>\n    .dataframe tbody tr th:only-of-type {\n        vertical-align: middle;\n    }\n\n    .dataframe tbody tr th {\n        vertical-align: top;\n    }\n\n    .dataframe thead th {\n        text-align: right;\n    }\n</style>\n<table border=\"1\" class=\"dataframe\">\n  <thead>\n    <tr style=\"text-align: right;\">\n      <th></th>\n      <th>timestamp</th>\n      <th>event</th>\n      <th>event_type</th>\n      <th>rider_position</th>\n      <th>distance</th>\n      <th>accumulated_power</th>\n      <th>power</th>\n      <th>heart_rate</th>\n      <th>cadence</th>\n      <th>temperature</th>\n      <th>left_right_balance</th>\n      <th>fractional_cadence</th>\n      <th>left_pco</th>\n      <th>right_pco</th>\n      <th>left_power_phase</th>\n      <th>left_power_phase_peak</th>\n      <th>right_power_phase</th>\n      <th>right_power_phase_peak</th>\n      <th>data</th>\n    </tr>\n  </thead>\n  <tbody>\n    <tr>\n      <th>8</th>\n      <td>2022-12-19 23:59:52+00:00</td>\n      <td>rider_position_change</td>\n      <td>marker</td>\n      <td>seated</td>\n      <td>NaN</td>\n      <td>NaN</td>\n      <td>NaN</td>\n      <td>NaN</td>\n      <td>NaN</td>\n      <td>NaN</td>\n      <td>NaN</td>\n      <td>NaN</td>\n      <td>NaN</td>\n      <td>NaN</td>\n      <td>NaN</td>\n      <td>NaN</td>\n      <td>NaN</td>\n      <td>NaN</td>\n      <td>NaN</td>\n    </tr>\n    <tr>\n      <th>29</th>\n      <td>2022-12-19 23:59:52+00:00</td>\n      <td>NaN</td>\n      <td>NaN</td>\n      <td>NaN</td>\n      <td>0.0</td>\n      <td>175.0</td>\n      <td>175.0</td>\n      <td>83.0</td>\n      <td>89.0</td>\n      <td>21.0</td>\n      <td>182</td>\n      <td>0.0</td>\n      <td>0.0</td>\n      <td>0.0</td>\n      <td>(1.4062500219726566, 180.00000281250004)</td>\n      <td>(57.65625090087892, 115.31250180175785)</td>\n      <td>(2.812500043945313, 185.62500290039068)</td>\n      <td>(57.65625090087892, 115.31250180175785)</td>\n      <td>NaN</td>\n    </tr>\n    <tr>\n      <th>30</th>\n      <td>2022-12-19 23:59:53+00:00</td>\n      <td>NaN</td>\n      <td>NaN</td>\n      <td>NaN</td>\n      <td>0.0</td>\n      <td>351.0</td>\n      <td>176.0</td>\n      <td>84.0</td>\n      <td>95.0</td>\n      <td>21.0</td>\n      <td>182</td>\n      <td>0.0</td>\n      <td>0.0</td>\n      <td>0.0</td>\n      <td>(1.4062500219726566, 185.62500290039068)</td>\n      <td>(64.68750101074221, 119.5312518676758)</td>\n      <td>(1.4062500219726566, 191.2500029882813)</td>\n      <td>(60.46875094482424, 119.5312518676758)</td>\n      <td>NaN</td>\n    </tr>\n    <tr>\n      <th>31</th>\n      <td>2022-12-19 23:59:54+00:00</td>\n      <td>NaN</td>\n      <td>NaN</td>\n      <td>NaN</td>\n      <td>0.0</td>\n      <td>521.0</td>\n      <td>170.0</td>\n      <td>84.0</td>\n      <td>100.0</td>\n      <td>21.0</td>\n      <td>191</td>\n      <td>0.0</td>\n      <td>0.0</td>\n      <td>0.0</td>\n      <td>(2.812500043945313, 192.65625301025395)</td>\n      <td>(61.87500096679689, 116.7187518237305)</td>\n      <td>(0.0, 196.87500307617194)</td>\n      <td>(56.25000087890626, 119.5312518676758)</td>\n      <td>NaN</td>\n    </tr>\n    <tr>\n      <th>32</th>\n      <td>2022-12-19 23:59:55+00:00</td>\n      <td>NaN</td>\n      <td>NaN</td>\n      <td>NaN</td>\n      <td>0.0</td>\n      <td>841.0</td>\n      <td>320.0</td>\n      <td>83.0</td>\n      <td>102.0</td>\n      <td>21.0</td>\n      <td>191</td>\n      <td>0.0</td>\n      <td>0.0</td>\n      <td>0.0</td>\n      <td>(357.1875055810548, 192.65625301025395)</td>\n      <td>(59.06250092285158, 113.90625177978518)</td>\n      <td>(0.0, 202.50000316406255)</td>\n      <td>(54.84375085693361, 116.7187518237305)</td>\n      <td>NaN</td>\n    </tr>\n    <tr>\n      <th>33</th>\n      <td>2022-12-19 23:59:55+00:00</td>\n      <td>rider_position_change</td>\n      <td>marker</td>\n      <td>transition_to_standing</td>\n      <td>NaN</td>\n      <td>NaN</td>\n      <td>NaN</td>\n      <td>NaN</td>\n      <td>NaN</td>\n      <td>NaN</td>\n      <td>NaN</td>\n      <td>NaN</td>\n      <td>NaN</td>\n      <td>NaN</td>\n      <td>NaN</td>\n      <td>NaN</td>\n      <td>NaN</td>\n      <td>NaN</td>\n      <td>NaN</td>\n    </tr>\n    <tr>\n      <th>35</th>\n      <td>2022-12-19 23:59:56+00:00</td>\n      <td>NaN</td>\n      <td>NaN</td>\n      <td>NaN</td>\n      <td>0.0</td>\n      <td>1267.0</td>\n      <td>426.0</td>\n      <td>82.0</td>\n      <td>98.0</td>\n      <td>21.0</td>\n      <td>188</td>\n      <td>0.0</td>\n      <td>0.0</td>\n      <td>0.0</td>\n      <td>(344.53125538330085, 188.437502944336)</td>\n      <td>(60.46875094482424, 115.31250180175785)</td>\n      <td>(0.0, 202.50000316406255)</td>\n      <td>(54.84375085693361, 116.7187518237305)</td>\n      <td>NaN</td>\n    </tr>\n    <tr>\n      <th>36</th>\n      <td>2022-12-19 23:59:57+00:00</td>\n      <td>NaN</td>\n      <td>NaN</td>\n      <td>NaN</td>\n      <td>0.0</td>\n      <td>1748.0</td>\n      <td>481.0</td>\n      <td>82.0</td>\n      <td>82.0</td>\n      <td>21.0</td>\n      <td>187</td>\n      <td>0.0</td>\n      <td>0.0</td>\n      <td>0.0</td>\n      <td>(344.53125538330085, 188.437502944336)</td>\n      <td>(60.46875094482424, 115.31250180175785)</td>\n      <td>(0.0, 202.50000316406255)</td>\n      <td>(54.84375085693361, 116.7187518237305)</td>\n      <td>NaN</td>\n    </tr>\n    <tr>\n      <th>37</th>\n      <td>2022-12-19 23:59:58+00:00</td>\n      <td>NaN</td>\n      <td>NaN</td>\n      <td>NaN</td>\n      <td>0.0</td>\n      <td>2218.0</td>\n      <td>470.0</td>\n      <td>83.0</td>\n      <td>81.0</td>\n      <td>21.0</td>\n      <td>182</td>\n      <td>0.0</td>\n      <td>0.0</td>\n      <td>0.0</td>\n      <td>(344.53125538330085, 188.437502944336)</td>\n      <td>(60.46875094482424, 115.31250180175785)</td>\n      <td>(343.1250053613282, 223.5937534936524)</td>\n      <td>(64.68750101074221, 123.75000193359378)</td>\n      <td>NaN</td>\n    </tr>\n    <tr>\n      <th>38</th>\n      <td>2022-12-19 23:59:59+00:00</td>\n      <td>NaN</td>\n      <td>NaN</td>\n      <td>NaN</td>\n      <td>0.0</td>\n      <td>2614.0</td>\n      <td>396.0</td>\n      <td>83.0</td>\n      <td>82.0</td>\n      <td>21.0</td>\n      <td>183</td>\n      <td>0.0</td>\n      <td>0.0</td>\n      <td>0.0</td>\n      <td>(331.87500518554697, 185.62500290039068)</td>\n      <td>(68.90625107666017, 123.75000193359378)</td>\n      <td>(343.1250053613282, 223.5937534936524)</td>\n      <td>(64.68750101074221, 123.75000193359378)</td>\n      <td>NaN</td>\n    </tr>\n  </tbody>\n</table>\n</div>"
     },
     "execution_count": 209,
     "metadata": {},
     "output_type": "execute_result"
    }
   ],
   "source": [
    "\n",
    "from loadfiles import fit2df\n",
    "header, definition, file_data, data, crc, other = fit2df('testdata/cheats/pedal_calibration/Garmin_assioma_160_wrong_Dec_19_2022.fit')\n",
    "data.head(10)"
   ],
   "metadata": {
    "collapsed": false
   }
  },
  {
   "cell_type": "markdown",
   "source": [
    "# If all you want to do is export to excel, do this."
   ],
   "metadata": {
    "collapsed": false
   }
  },
  {
   "cell_type": "code",
   "execution_count": 210,
   "outputs": [],
   "source": [
    "from loadfiles import fit2excel\n",
    "fitfile = 'testdata/cheats/pedal_calibration/Zwift_Kickr_true_Dec+19_2022.fit'\n",
    "fit2excel(fitfile, excel_file=fitfile.split('.')[0]+'.xlsx')"
   ],
   "metadata": {
    "collapsed": false
   }
  },
  {
   "cell_type": "code",
   "execution_count": null,
   "outputs": [],
   "source": [],
   "metadata": {
    "collapsed": false
   }
  }
 ],
 "metadata": {
  "kernelspec": {
   "display_name": "Python 3",
   "language": "python",
   "name": "python3"
  },
  "language_info": {
   "codemirror_mode": {
    "name": "ipython",
    "version": 2
   },
   "file_extension": ".py",
   "mimetype": "text/x-python",
   "name": "python",
   "nbconvert_exporter": "python",
   "pygments_lexer": "ipython2",
   "version": "2.7.6"
  }
 },
 "nbformat": 4,
 "nbformat_minor": 0
}
