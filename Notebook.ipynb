{
 "cells": [
  {
   "cell_type": "markdown",
   "source": [
    "## VAM WAM! cheaters"
   ],
   "metadata": {
    "collapsed": false
   }
  },
  {
   "cell_type": "code",
   "execution_count": 69,
   "metadata": {
    "collapsed": true
   },
   "outputs": [
    {
     "name": "stdout",
     "output_type": "stream",
     "text": [
      "The autoreload extension is already loaded. To reload it, use:\n",
      "  %reload_ext autoreload\n",
      "testdata/indoor/Zwift_Zwift_Fast_Fridays_Bologna_Time_Trial_E_.fit\n",
      "testdata/outdoor/Morning_Ride.fit\n"
     ]
    },
    {
     "name": "stderr",
     "output_type": "stream",
     "text": [
      "/Users/vincentdavis/.virtualenvs/VAM_Cheating_Detection/lib/python3.11/site-packages/fitdecode/reader.py:909: UserWarning:\n",
      "\n",
      "'field \"native_field_num\" (idx #0) not found in message \"field_description\"' (local_mesg_num: 0; chunk_offset: 142); adding dummy dev data...\n",
      "\n",
      "/Users/vincentdavis/.virtualenvs/VAM_Cheating_Detection/lib/python3.11/site-packages/fitdecode/reader.py:909: UserWarning:\n",
      "\n",
      "'field \"native_field_num\" (idx #0) not found in message \"field_description\"' (local_mesg_num: 0; chunk_offset: 162); adding dummy dev data...\n",
      "\n",
      "/Users/vincentdavis/.virtualenvs/VAM_Cheating_Detection/lib/python3.11/site-packages/fitdecode/reader.py:909: UserWarning:\n",
      "\n",
      "'field \"native_field_num\" (idx #0) not found in message \"field_description\"' (local_mesg_num: 0; chunk_offset: 203); adding dummy dev data...\n",
      "\n",
      "/Users/vincentdavis/.virtualenvs/VAM_Cheating_Detection/lib/python3.11/site-packages/fitdecode/reader.py:909: UserWarning:\n",
      "\n",
      "'field \"native_field_num\" (idx #0) not found in message \"field_description\"' (local_mesg_num: 0; chunk_offset: 249); adding dummy dev data...\n",
      "\n",
      "/Users/vincentdavis/.virtualenvs/VAM_Cheating_Detection/lib/python3.11/site-packages/fitdecode/reader.py:909: UserWarning:\n",
      "\n",
      "'field \"native_field_num\" (idx #0) not found in message \"field_description\"' (local_mesg_num: 0; chunk_offset: 285); adding dummy dev data...\n",
      "\n",
      "/Users/vincentdavis/.virtualenvs/VAM_Cheating_Detection/lib/python3.11/site-packages/fitdecode/reader.py:909: UserWarning:\n",
      "\n",
      "'field \"native_field_num\" (idx #0) not found in message \"field_description\"' (local_mesg_num: 0; chunk_offset: 326); adding dummy dev data...\n",
      "\n",
      "/Users/vincentdavis/.virtualenvs/VAM_Cheating_Detection/lib/python3.11/site-packages/fitdecode/reader.py:909: UserWarning:\n",
      "\n",
      "'field \"native_field_num\" (idx #0) not found in message \"field_description\"' (local_mesg_num: 0; chunk_offset: 351); adding dummy dev data...\n",
      "\n",
      "/Users/vincentdavis/.virtualenvs/VAM_Cheating_Detection/lib/python3.11/site-packages/fitdecode/reader.py:909: UserWarning:\n",
      "\n",
      "'field \"native_field_num\" (idx #0) not found in message \"field_description\"' (local_mesg_num: 0; chunk_offset: 397); adding dummy dev data...\n",
      "\n",
      "/Users/vincentdavis/.virtualenvs/VAM_Cheating_Detection/lib/python3.11/site-packages/fitdecode/reader.py:909: UserWarning:\n",
      "\n",
      "'field \"native_field_num\" (idx #0) not found in message \"field_description\"' (local_mesg_num: 0; chunk_offset: 443); adding dummy dev data...\n",
      "\n",
      "/Users/vincentdavis/.virtualenvs/VAM_Cheating_Detection/lib/python3.11/site-packages/fitdecode/reader.py:909: UserWarning:\n",
      "\n",
      "'field \"native_field_num\" (idx #0) not found in message \"field_description\"' (local_mesg_num: 0; chunk_offset: 487); adding dummy dev data...\n",
      "\n",
      "/Users/vincentdavis/.virtualenvs/VAM_Cheating_Detection/lib/python3.11/site-packages/fitdecode/reader.py:909: UserWarning:\n",
      "\n",
      "'field \"native_field_num\" (idx #0) not found in message \"field_description\"' (local_mesg_num: 0; chunk_offset: 531); adding dummy dev data...\n",
      "\n",
      "/Users/vincentdavis/.virtualenvs/VAM_Cheating_Detection/lib/python3.11/site-packages/fitdecode/reader.py:909: UserWarning:\n",
      "\n",
      "'field \"native_field_num\" (idx #0) not found in message \"field_description\"' (local_mesg_num: 0; chunk_offset: 575); adding dummy dev data...\n",
      "\n",
      "/Users/vincentdavis/.virtualenvs/VAM_Cheating_Detection/lib/python3.11/site-packages/fitdecode/reader.py:909: UserWarning:\n",
      "\n",
      "'field \"native_field_num\" (idx #0) not found in message \"field_description\"' (local_mesg_num: 0; chunk_offset: 619); adding dummy dev data...\n",
      "\n",
      "/Users/vincentdavis/.virtualenvs/VAM_Cheating_Detection/lib/python3.11/site-packages/fitdecode/reader.py:909: UserWarning:\n",
      "\n",
      "'field \"native_field_num\" (idx #0) not found in message \"field_description\"' (local_mesg_num: 0; chunk_offset: 663); adding dummy dev data...\n",
      "\n",
      "/Users/vincentdavis/.virtualenvs/VAM_Cheating_Detection/lib/python3.11/site-packages/fitdecode/reader.py:909: UserWarning:\n",
      "\n",
      "'field \"native_field_num\" (idx #0) not found in message \"field_description\"' (local_mesg_num: 0; chunk_offset: 707); adding dummy dev data...\n",
      "\n",
      "/Users/vincentdavis/.virtualenvs/VAM_Cheating_Detection/lib/python3.11/site-packages/fitdecode/reader.py:909: UserWarning:\n",
      "\n",
      "'field \"native_field_num\" (idx #0) not found in message \"field_description\"' (local_mesg_num: 0; chunk_offset: 751); adding dummy dev data...\n",
      "\n"
     ]
    }
   ],
   "source": [
    "%load_ext autoreload\n",
    "%autoreload 2\n",
    "\n",
    "import pandas as pd\n",
    "from vamwam import dataprep, vam_compare, plot_vam, vam_curves\n",
    "\n",
    "indoor_test_file = 'testdata/indoor/Zwift_Zwift_Fast_Fridays_Bologna_Time_Trial_E_.fit'\n",
    "outdoor_test_file = 'testdata/outdoor/Morning_Ride.fit'\n",
    "\n",
    "# load data\n",
    "ind = dataprep(indoor_test_file)\n",
    "outd = dataprep(outdoor_test_file)"
   ]
  },
  {
   "cell_type": "code",
   "execution_count": 70,
   "outputs": [
    {
     "data": {
      "application/vnd.plotly.v1+json": {
       "data": [
        {
         "hovertemplate": "variable=slope_3-4<br>interval=%{x}<br>value=%{y}<extra></extra>",
         "legendgroup": "slope_3-4",
         "line": {
          "color": "rgb(247,251,255)",
          "dash": "solid"
         },
         "marker": {
          "symbol": "circle"
         },
         "mode": "lines",
         "name": "slope_3-4",
         "orientation": "v",
         "showlegend": true,
         "x": [
          60.0,
          120.0,
          180.0,
          240.0,
          300.0,
          360.0,
          420.0,
          480.0,
          540.0,
          600.0,
          660.0,
          720.0,
          780.0,
          840.0,
          900.0,
          960.0,
          1020.0,
          1080.0,
          1140.0
         ],
         "xaxis": "x",
         "y": [
          1200.0,
          984.000000000002,
          927.9999999999995,
          849.0000000000003,
          784.7999999999997,
          734.000000000001,
          663.4285714285711,
          595.5000000000007,
          606.6666666666666,
          624.0,
          608.7272727272729,
          550.9999999999997,
          null,
          null,
          null,
          null,
          null,
          -35.33333333333341,
          -34.10526315789495
         ],
         "yaxis": "y",
         "type": "scatter"
        },
        {
         "hovertemplate": "variable=slope_4-5<br>interval=%{x}<br>value=%{y}<extra></extra>",
         "legendgroup": "slope_4-5",
         "line": {
          "color": "rgb(222,235,247)",
          "dash": "solid"
         },
         "marker": {
          "symbol": "circle"
         },
         "mode": "lines",
         "name": "slope_4-5",
         "orientation": "v",
         "showlegend": true,
         "x": [
          60.0,
          120.0,
          180.0,
          240.0,
          300.0,
          360.0,
          420.0,
          480.0,
          540.0,
          600.0,
          660.0,
          720.0,
          780.0,
          840.0,
          900.0,
          960.0,
          1020.0,
          1080.0,
          1140.0
         ],
         "xaxis": "x",
         "y": [
          1331.999999999996,
          1115.9999999999977,
          1020.0,
          965.9999999999997,
          900.0,
          842.0000000000005,
          833.1428571428565,
          826.4999999999994,
          794.666666666667,
          745.2000000000002,
          725.4545454545455,
          686.0000000000001,
          647.9999999999999,
          null,
          65.59999999999991,
          341.25,
          610.5882352941177,
          159.33333333333317,
          null
         ],
         "yaxis": "y",
         "type": "scatter"
        },
        {
         "hovertemplate": "variable=slope_5-6<br>interval=%{x}<br>value=%{y}<extra></extra>",
         "legendgroup": "slope_5-6",
         "line": {
          "color": "rgb(198,219,239)",
          "dash": "solid"
         },
         "marker": {
          "symbol": "circle"
         },
         "mode": "lines",
         "name": "slope_5-6",
         "orientation": "v",
         "showlegend": true,
         "x": [
          60.0,
          120.0,
          180.0,
          240.0,
          300.0,
          360.0,
          420.0,
          480.0,
          540.0,
          600.0,
          660.0,
          720.0,
          780.0,
          840.0,
          900.0,
          960.0,
          1020.0,
          1080.0,
          1140.0
         ],
         "xaxis": "x",
         "y": [
          1452.0000000000027,
          1224.0000000000023,
          1116.0000000000014,
          1065.0,
          1017.5999999999995,
          992.0000000000005,
          999.4285714285717,
          976.4999999999994,
          926.6666666666666,
          856.7999999999997,
          823.6363636363636,
          811.9999999999999,
          802.1538461538458,
          822.8571428571429,
          852.0,
          773.2499999999998,
          654.3529411764705,
          null,
          null
         ],
         "yaxis": "y",
         "type": "scatter"
        },
        {
         "hovertemplate": "variable=slope_6-7<br>interval=%{x}<br>value=%{y}<extra></extra>",
         "legendgroup": "slope_6-7",
         "line": {
          "color": "rgb(158,202,225)",
          "dash": "solid"
         },
         "marker": {
          "symbol": "circle"
         },
         "mode": "lines",
         "name": "slope_6-7",
         "orientation": "v",
         "showlegend": true,
         "x": [
          60.0,
          120.0,
          180.0,
          240.0,
          300.0,
          360.0,
          420.0,
          480.0,
          540.0,
          600.0,
          660.0,
          720.0,
          780.0,
          840.0,
          900.0,
          960.0,
          1020.0,
          1080.0,
          1140.0
         ],
         "xaxis": "x",
         "y": [
          1500.0,
          1308.0000000000007,
          1192.0000000000005,
          1149.0000000000005,
          1135.2000000000005,
          1150.0,
          1126.2857142857151,
          1075.5000000000007,
          1032.0000000000005,
          1000.7999999999998,
          962.1818181818181,
          991.9999999999999,
          1028.3076923076922,
          905.1428571428573,
          null,
          null,
          null,
          null,
          null
         ],
         "yaxis": "y",
         "type": "scatter"
        },
        {
         "hovertemplate": "variable=slope_7-8<br>interval=%{x}<br>value=%{y}<extra></extra>",
         "legendgroup": "slope_7-8",
         "line": {
          "color": "rgb(107,174,214)",
          "dash": "solid"
         },
         "marker": {
          "symbol": "circle"
         },
         "mode": "lines",
         "name": "slope_7-8",
         "orientation": "v",
         "showlegend": true,
         "x": [
          60.0,
          120.0,
          180.0,
          240.0,
          300.0,
          360.0,
          420.0,
          480.0,
          540.0,
          600.0,
          660.0,
          720.0,
          780.0,
          840.0,
          900.0,
          960.0,
          1020.0,
          1080.0,
          1140.0
         ],
         "xaxis": "x",
         "y": [
          1512.000000000003,
          1428.0000000000007,
          1311.9999999999982,
          1230.0,
          1252.7999999999995,
          1247.9999999999995,
          1206.8571428571424,
          1167.0000000000002,
          1141.3333333333328,
          1128.0,
          1161.8181818181818,
          1117.0000000000005,
          null,
          null,
          null,
          null,
          null,
          null,
          null
         ],
         "yaxis": "y",
         "type": "scatter"
        },
        {
         "hovertemplate": "variable=slope_8-9<br>interval=%{x}<br>value=%{y}<extra></extra>",
         "legendgroup": "slope_8-9",
         "line": {
          "color": "rgb(66,146,198)",
          "dash": "solid"
         },
         "marker": {
          "symbol": "circle"
         },
         "mode": "lines",
         "name": "slope_8-9",
         "orientation": "v",
         "showlegend": true,
         "x": [
          60.0,
          120.0,
          180.0,
          240.0,
          300.0,
          360.0,
          420.0,
          480.0,
          540.0,
          600.0,
          660.0,
          720.0,
          780.0,
          840.0,
          900.0,
          960.0,
          1020.0,
          1080.0,
          1140.0
         ],
         "xaxis": "x",
         "y": [
          1571.999999999996,
          1500.0,
          1395.999999999999,
          1380.0,
          1375.2000000000005,
          1313.9999999999998,
          1287.4285714285709,
          1266.0000000000005,
          1261.3333333333335,
          1308.0,
          1210.909090909091,
          null,
          null,
          null,
          null,
          null,
          null,
          null,
          null
         ],
         "yaxis": "y",
         "type": "scatter"
        },
        {
         "hovertemplate": "variable=slope_9-10<br>interval=%{x}<br>value=%{y}<extra></extra>",
         "legendgroup": "slope_9-10",
         "line": {
          "color": "rgb(33,113,181)",
          "dash": "solid"
         },
         "marker": {
          "symbol": "circle"
         },
         "mode": "lines",
         "name": "slope_9-10",
         "orientation": "v",
         "showlegend": true,
         "x": [
          60.0,
          120.0,
          180.0,
          240.0,
          300.0,
          360.0,
          420.0,
          480.0,
          540.0,
          600.0,
          660.0,
          720.0,
          780.0,
          840.0,
          900.0,
          960.0,
          1020.0,
          1080.0,
          1140.0
         ],
         "xaxis": "x",
         "y": [
          1691.999999999996,
          1536.0000000000014,
          1475.9999999999993,
          1466.9999999999993,
          1456.7999999999997,
          1398.0000000000007,
          1362.857142857143,
          1366.4999999999995,
          1394.666666666667,
          null,
          null,
          null,
          null,
          null,
          null,
          null,
          null,
          null,
          null
         ],
         "yaxis": "y",
         "type": "scatter"
        }
       ],
       "layout": {
        "template": {
         "data": {
          "histogram2dcontour": [
           {
            "type": "histogram2dcontour",
            "colorbar": {
             "outlinewidth": 0,
             "ticks": ""
            },
            "colorscale": [
             [
              0.0,
              "#0d0887"
             ],
             [
              0.1111111111111111,
              "#46039f"
             ],
             [
              0.2222222222222222,
              "#7201a8"
             ],
             [
              0.3333333333333333,
              "#9c179e"
             ],
             [
              0.4444444444444444,
              "#bd3786"
             ],
             [
              0.5555555555555556,
              "#d8576b"
             ],
             [
              0.6666666666666666,
              "#ed7953"
             ],
             [
              0.7777777777777778,
              "#fb9f3a"
             ],
             [
              0.8888888888888888,
              "#fdca26"
             ],
             [
              1.0,
              "#f0f921"
             ]
            ]
           }
          ],
          "choropleth": [
           {
            "type": "choropleth",
            "colorbar": {
             "outlinewidth": 0,
             "ticks": ""
            }
           }
          ],
          "histogram2d": [
           {
            "type": "histogram2d",
            "colorbar": {
             "outlinewidth": 0,
             "ticks": ""
            },
            "colorscale": [
             [
              0.0,
              "#0d0887"
             ],
             [
              0.1111111111111111,
              "#46039f"
             ],
             [
              0.2222222222222222,
              "#7201a8"
             ],
             [
              0.3333333333333333,
              "#9c179e"
             ],
             [
              0.4444444444444444,
              "#bd3786"
             ],
             [
              0.5555555555555556,
              "#d8576b"
             ],
             [
              0.6666666666666666,
              "#ed7953"
             ],
             [
              0.7777777777777778,
              "#fb9f3a"
             ],
             [
              0.8888888888888888,
              "#fdca26"
             ],
             [
              1.0,
              "#f0f921"
             ]
            ]
           }
          ],
          "heatmap": [
           {
            "type": "heatmap",
            "colorbar": {
             "outlinewidth": 0,
             "ticks": ""
            },
            "colorscale": [
             [
              0.0,
              "#0d0887"
             ],
             [
              0.1111111111111111,
              "#46039f"
             ],
             [
              0.2222222222222222,
              "#7201a8"
             ],
             [
              0.3333333333333333,
              "#9c179e"
             ],
             [
              0.4444444444444444,
              "#bd3786"
             ],
             [
              0.5555555555555556,
              "#d8576b"
             ],
             [
              0.6666666666666666,
              "#ed7953"
             ],
             [
              0.7777777777777778,
              "#fb9f3a"
             ],
             [
              0.8888888888888888,
              "#fdca26"
             ],
             [
              1.0,
              "#f0f921"
             ]
            ]
           }
          ],
          "heatmapgl": [
           {
            "type": "heatmapgl",
            "colorbar": {
             "outlinewidth": 0,
             "ticks": ""
            },
            "colorscale": [
             [
              0.0,
              "#0d0887"
             ],
             [
              0.1111111111111111,
              "#46039f"
             ],
             [
              0.2222222222222222,
              "#7201a8"
             ],
             [
              0.3333333333333333,
              "#9c179e"
             ],
             [
              0.4444444444444444,
              "#bd3786"
             ],
             [
              0.5555555555555556,
              "#d8576b"
             ],
             [
              0.6666666666666666,
              "#ed7953"
             ],
             [
              0.7777777777777778,
              "#fb9f3a"
             ],
             [
              0.8888888888888888,
              "#fdca26"
             ],
             [
              1.0,
              "#f0f921"
             ]
            ]
           }
          ],
          "contourcarpet": [
           {
            "type": "contourcarpet",
            "colorbar": {
             "outlinewidth": 0,
             "ticks": ""
            }
           }
          ],
          "contour": [
           {
            "type": "contour",
            "colorbar": {
             "outlinewidth": 0,
             "ticks": ""
            },
            "colorscale": [
             [
              0.0,
              "#0d0887"
             ],
             [
              0.1111111111111111,
              "#46039f"
             ],
             [
              0.2222222222222222,
              "#7201a8"
             ],
             [
              0.3333333333333333,
              "#9c179e"
             ],
             [
              0.4444444444444444,
              "#bd3786"
             ],
             [
              0.5555555555555556,
              "#d8576b"
             ],
             [
              0.6666666666666666,
              "#ed7953"
             ],
             [
              0.7777777777777778,
              "#fb9f3a"
             ],
             [
              0.8888888888888888,
              "#fdca26"
             ],
             [
              1.0,
              "#f0f921"
             ]
            ]
           }
          ],
          "surface": [
           {
            "type": "surface",
            "colorbar": {
             "outlinewidth": 0,
             "ticks": ""
            },
            "colorscale": [
             [
              0.0,
              "#0d0887"
             ],
             [
              0.1111111111111111,
              "#46039f"
             ],
             [
              0.2222222222222222,
              "#7201a8"
             ],
             [
              0.3333333333333333,
              "#9c179e"
             ],
             [
              0.4444444444444444,
              "#bd3786"
             ],
             [
              0.5555555555555556,
              "#d8576b"
             ],
             [
              0.6666666666666666,
              "#ed7953"
             ],
             [
              0.7777777777777778,
              "#fb9f3a"
             ],
             [
              0.8888888888888888,
              "#fdca26"
             ],
             [
              1.0,
              "#f0f921"
             ]
            ]
           }
          ],
          "mesh3d": [
           {
            "type": "mesh3d",
            "colorbar": {
             "outlinewidth": 0,
             "ticks": ""
            }
           }
          ],
          "scatter": [
           {
            "fillpattern": {
             "fillmode": "overlay",
             "size": 10,
             "solidity": 0.2
            },
            "type": "scatter"
           }
          ],
          "parcoords": [
           {
            "type": "parcoords",
            "line": {
             "colorbar": {
              "outlinewidth": 0,
              "ticks": ""
             }
            }
           }
          ],
          "scatterpolargl": [
           {
            "type": "scatterpolargl",
            "marker": {
             "colorbar": {
              "outlinewidth": 0,
              "ticks": ""
             }
            }
           }
          ],
          "bar": [
           {
            "error_x": {
             "color": "#2a3f5f"
            },
            "error_y": {
             "color": "#2a3f5f"
            },
            "marker": {
             "line": {
              "color": "#E5ECF6",
              "width": 0.5
             },
             "pattern": {
              "fillmode": "overlay",
              "size": 10,
              "solidity": 0.2
             }
            },
            "type": "bar"
           }
          ],
          "scattergeo": [
           {
            "type": "scattergeo",
            "marker": {
             "colorbar": {
              "outlinewidth": 0,
              "ticks": ""
             }
            }
           }
          ],
          "scatterpolar": [
           {
            "type": "scatterpolar",
            "marker": {
             "colorbar": {
              "outlinewidth": 0,
              "ticks": ""
             }
            }
           }
          ],
          "histogram": [
           {
            "marker": {
             "pattern": {
              "fillmode": "overlay",
              "size": 10,
              "solidity": 0.2
             }
            },
            "type": "histogram"
           }
          ],
          "scattergl": [
           {
            "type": "scattergl",
            "marker": {
             "colorbar": {
              "outlinewidth": 0,
              "ticks": ""
             }
            }
           }
          ],
          "scatter3d": [
           {
            "type": "scatter3d",
            "line": {
             "colorbar": {
              "outlinewidth": 0,
              "ticks": ""
             }
            },
            "marker": {
             "colorbar": {
              "outlinewidth": 0,
              "ticks": ""
             }
            }
           }
          ],
          "scattermapbox": [
           {
            "type": "scattermapbox",
            "marker": {
             "colorbar": {
              "outlinewidth": 0,
              "ticks": ""
             }
            }
           }
          ],
          "scatterternary": [
           {
            "type": "scatterternary",
            "marker": {
             "colorbar": {
              "outlinewidth": 0,
              "ticks": ""
             }
            }
           }
          ],
          "scattercarpet": [
           {
            "type": "scattercarpet",
            "marker": {
             "colorbar": {
              "outlinewidth": 0,
              "ticks": ""
             }
            }
           }
          ],
          "carpet": [
           {
            "aaxis": {
             "endlinecolor": "#2a3f5f",
             "gridcolor": "white",
             "linecolor": "white",
             "minorgridcolor": "white",
             "startlinecolor": "#2a3f5f"
            },
            "baxis": {
             "endlinecolor": "#2a3f5f",
             "gridcolor": "white",
             "linecolor": "white",
             "minorgridcolor": "white",
             "startlinecolor": "#2a3f5f"
            },
            "type": "carpet"
           }
          ],
          "table": [
           {
            "cells": {
             "fill": {
              "color": "#EBF0F8"
             },
             "line": {
              "color": "white"
             }
            },
            "header": {
             "fill": {
              "color": "#C8D4E3"
             },
             "line": {
              "color": "white"
             }
            },
            "type": "table"
           }
          ],
          "barpolar": [
           {
            "marker": {
             "line": {
              "color": "#E5ECF6",
              "width": 0.5
             },
             "pattern": {
              "fillmode": "overlay",
              "size": 10,
              "solidity": 0.2
             }
            },
            "type": "barpolar"
           }
          ],
          "pie": [
           {
            "automargin": true,
            "type": "pie"
           }
          ]
         },
         "layout": {
          "autotypenumbers": "strict",
          "colorway": [
           "#636efa",
           "#EF553B",
           "#00cc96",
           "#ab63fa",
           "#FFA15A",
           "#19d3f3",
           "#FF6692",
           "#B6E880",
           "#FF97FF",
           "#FECB52"
          ],
          "font": {
           "color": "#2a3f5f"
          },
          "hovermode": "closest",
          "hoverlabel": {
           "align": "left"
          },
          "paper_bgcolor": "white",
          "plot_bgcolor": "#E5ECF6",
          "polar": {
           "bgcolor": "#E5ECF6",
           "angularaxis": {
            "gridcolor": "white",
            "linecolor": "white",
            "ticks": ""
           },
           "radialaxis": {
            "gridcolor": "white",
            "linecolor": "white",
            "ticks": ""
           }
          },
          "ternary": {
           "bgcolor": "#E5ECF6",
           "aaxis": {
            "gridcolor": "white",
            "linecolor": "white",
            "ticks": ""
           },
           "baxis": {
            "gridcolor": "white",
            "linecolor": "white",
            "ticks": ""
           },
           "caxis": {
            "gridcolor": "white",
            "linecolor": "white",
            "ticks": ""
           }
          },
          "coloraxis": {
           "colorbar": {
            "outlinewidth": 0,
            "ticks": ""
           }
          },
          "colorscale": {
           "sequential": [
            [
             0.0,
             "#0d0887"
            ],
            [
             0.1111111111111111,
             "#46039f"
            ],
            [
             0.2222222222222222,
             "#7201a8"
            ],
            [
             0.3333333333333333,
             "#9c179e"
            ],
            [
             0.4444444444444444,
             "#bd3786"
            ],
            [
             0.5555555555555556,
             "#d8576b"
            ],
            [
             0.6666666666666666,
             "#ed7953"
            ],
            [
             0.7777777777777778,
             "#fb9f3a"
            ],
            [
             0.8888888888888888,
             "#fdca26"
            ],
            [
             1.0,
             "#f0f921"
            ]
           ],
           "sequentialminus": [
            [
             0.0,
             "#0d0887"
            ],
            [
             0.1111111111111111,
             "#46039f"
            ],
            [
             0.2222222222222222,
             "#7201a8"
            ],
            [
             0.3333333333333333,
             "#9c179e"
            ],
            [
             0.4444444444444444,
             "#bd3786"
            ],
            [
             0.5555555555555556,
             "#d8576b"
            ],
            [
             0.6666666666666666,
             "#ed7953"
            ],
            [
             0.7777777777777778,
             "#fb9f3a"
            ],
            [
             0.8888888888888888,
             "#fdca26"
            ],
            [
             1.0,
             "#f0f921"
            ]
           ],
           "diverging": [
            [
             0,
             "#8e0152"
            ],
            [
             0.1,
             "#c51b7d"
            ],
            [
             0.2,
             "#de77ae"
            ],
            [
             0.3,
             "#f1b6da"
            ],
            [
             0.4,
             "#fde0ef"
            ],
            [
             0.5,
             "#f7f7f7"
            ],
            [
             0.6,
             "#e6f5d0"
            ],
            [
             0.7,
             "#b8e186"
            ],
            [
             0.8,
             "#7fbc41"
            ],
            [
             0.9,
             "#4d9221"
            ],
            [
             1,
             "#276419"
            ]
           ]
          },
          "xaxis": {
           "gridcolor": "white",
           "linecolor": "white",
           "ticks": "",
           "title": {
            "standoff": 15
           },
           "zerolinecolor": "white",
           "automargin": true,
           "zerolinewidth": 2
          },
          "yaxis": {
           "gridcolor": "white",
           "linecolor": "white",
           "ticks": "",
           "title": {
            "standoff": 15
           },
           "zerolinecolor": "white",
           "automargin": true,
           "zerolinewidth": 2
          },
          "scene": {
           "xaxis": {
            "backgroundcolor": "#E5ECF6",
            "gridcolor": "white",
            "linecolor": "white",
            "showbackground": true,
            "ticks": "",
            "zerolinecolor": "white",
            "gridwidth": 2
           },
           "yaxis": {
            "backgroundcolor": "#E5ECF6",
            "gridcolor": "white",
            "linecolor": "white",
            "showbackground": true,
            "ticks": "",
            "zerolinecolor": "white",
            "gridwidth": 2
           },
           "zaxis": {
            "backgroundcolor": "#E5ECF6",
            "gridcolor": "white",
            "linecolor": "white",
            "showbackground": true,
            "ticks": "",
            "zerolinecolor": "white",
            "gridwidth": 2
           }
          },
          "shapedefaults": {
           "line": {
            "color": "#2a3f5f"
           }
          },
          "annotationdefaults": {
           "arrowcolor": "#2a3f5f",
           "arrowhead": 0,
           "arrowwidth": 1
          },
          "geo": {
           "bgcolor": "white",
           "landcolor": "#E5ECF6",
           "subunitcolor": "white",
           "showland": true,
           "showlakes": true,
           "lakecolor": "white"
          },
          "title": {
           "x": 0.05
          },
          "mapbox": {
           "style": "light"
          }
         }
        },
        "xaxis": {
         "anchor": "y",
         "domain": [
          0.0,
          1.0
         ],
         "title": {
          "text": "Seconds"
         }
        },
        "yaxis": {
         "anchor": "x",
         "domain": [
          0.0,
          1.0
         ],
         "title": {
          "text": "VAM/hr"
         }
        },
        "legend": {
         "title": {
          "text": "variable"
         },
         "tracegroupgap": 0
        },
        "title": {
         "text": "Seconds VS VAM"
        },
        "width": 1000,
        "height": 800
       },
       "config": {
        "plotlyServerURL": "https://plot.ly"
       }
      },
      "text/html": "<div>                            <div id=\"00d56620-ce92-4e5c-8764-433f40a048ed\" class=\"plotly-graph-div\" style=\"height:800px; width:1000px;\"></div>            <script type=\"text/javascript\">                require([\"plotly\"], function(Plotly) {                    window.PLOTLYENV=window.PLOTLYENV || {};                                    if (document.getElementById(\"00d56620-ce92-4e5c-8764-433f40a048ed\")) {                    Plotly.newPlot(                        \"00d56620-ce92-4e5c-8764-433f40a048ed\",                        [{\"hovertemplate\":\"variable=slope_3-4<br>interval=%{x}<br>value=%{y}<extra></extra>\",\"legendgroup\":\"slope_3-4\",\"line\":{\"color\":\"rgb(247,251,255)\",\"dash\":\"solid\"},\"marker\":{\"symbol\":\"circle\"},\"mode\":\"lines\",\"name\":\"slope_3-4\",\"orientation\":\"v\",\"showlegend\":true,\"x\":[60.0,120.0,180.0,240.0,300.0,360.0,420.0,480.0,540.0,600.0,660.0,720.0,780.0,840.0,900.0,960.0,1020.0,1080.0,1140.0],\"xaxis\":\"x\",\"y\":[1200.0,984.000000000002,927.9999999999995,849.0000000000003,784.7999999999997,734.000000000001,663.4285714285711,595.5000000000007,606.6666666666666,624.0,608.7272727272729,550.9999999999997,null,null,null,null,null,-35.33333333333341,-34.10526315789495],\"yaxis\":\"y\",\"type\":\"scatter\"},{\"hovertemplate\":\"variable=slope_4-5<br>interval=%{x}<br>value=%{y}<extra></extra>\",\"legendgroup\":\"slope_4-5\",\"line\":{\"color\":\"rgb(222,235,247)\",\"dash\":\"solid\"},\"marker\":{\"symbol\":\"circle\"},\"mode\":\"lines\",\"name\":\"slope_4-5\",\"orientation\":\"v\",\"showlegend\":true,\"x\":[60.0,120.0,180.0,240.0,300.0,360.0,420.0,480.0,540.0,600.0,660.0,720.0,780.0,840.0,900.0,960.0,1020.0,1080.0,1140.0],\"xaxis\":\"x\",\"y\":[1331.999999999996,1115.9999999999977,1020.0,965.9999999999997,900.0,842.0000000000005,833.1428571428565,826.4999999999994,794.666666666667,745.2000000000002,725.4545454545455,686.0000000000001,647.9999999999999,null,65.59999999999991,341.25,610.5882352941177,159.33333333333317,null],\"yaxis\":\"y\",\"type\":\"scatter\"},{\"hovertemplate\":\"variable=slope_5-6<br>interval=%{x}<br>value=%{y}<extra></extra>\",\"legendgroup\":\"slope_5-6\",\"line\":{\"color\":\"rgb(198,219,239)\",\"dash\":\"solid\"},\"marker\":{\"symbol\":\"circle\"},\"mode\":\"lines\",\"name\":\"slope_5-6\",\"orientation\":\"v\",\"showlegend\":true,\"x\":[60.0,120.0,180.0,240.0,300.0,360.0,420.0,480.0,540.0,600.0,660.0,720.0,780.0,840.0,900.0,960.0,1020.0,1080.0,1140.0],\"xaxis\":\"x\",\"y\":[1452.0000000000027,1224.0000000000023,1116.0000000000014,1065.0,1017.5999999999995,992.0000000000005,999.4285714285717,976.4999999999994,926.6666666666666,856.7999999999997,823.6363636363636,811.9999999999999,802.1538461538458,822.8571428571429,852.0,773.2499999999998,654.3529411764705,null,null],\"yaxis\":\"y\",\"type\":\"scatter\"},{\"hovertemplate\":\"variable=slope_6-7<br>interval=%{x}<br>value=%{y}<extra></extra>\",\"legendgroup\":\"slope_6-7\",\"line\":{\"color\":\"rgb(158,202,225)\",\"dash\":\"solid\"},\"marker\":{\"symbol\":\"circle\"},\"mode\":\"lines\",\"name\":\"slope_6-7\",\"orientation\":\"v\",\"showlegend\":true,\"x\":[60.0,120.0,180.0,240.0,300.0,360.0,420.0,480.0,540.0,600.0,660.0,720.0,780.0,840.0,900.0,960.0,1020.0,1080.0,1140.0],\"xaxis\":\"x\",\"y\":[1500.0,1308.0000000000007,1192.0000000000005,1149.0000000000005,1135.2000000000005,1150.0,1126.2857142857151,1075.5000000000007,1032.0000000000005,1000.7999999999998,962.1818181818181,991.9999999999999,1028.3076923076922,905.1428571428573,null,null,null,null,null],\"yaxis\":\"y\",\"type\":\"scatter\"},{\"hovertemplate\":\"variable=slope_7-8<br>interval=%{x}<br>value=%{y}<extra></extra>\",\"legendgroup\":\"slope_7-8\",\"line\":{\"color\":\"rgb(107,174,214)\",\"dash\":\"solid\"},\"marker\":{\"symbol\":\"circle\"},\"mode\":\"lines\",\"name\":\"slope_7-8\",\"orientation\":\"v\",\"showlegend\":true,\"x\":[60.0,120.0,180.0,240.0,300.0,360.0,420.0,480.0,540.0,600.0,660.0,720.0,780.0,840.0,900.0,960.0,1020.0,1080.0,1140.0],\"xaxis\":\"x\",\"y\":[1512.000000000003,1428.0000000000007,1311.9999999999982,1230.0,1252.7999999999995,1247.9999999999995,1206.8571428571424,1167.0000000000002,1141.3333333333328,1128.0,1161.8181818181818,1117.0000000000005,null,null,null,null,null,null,null],\"yaxis\":\"y\",\"type\":\"scatter\"},{\"hovertemplate\":\"variable=slope_8-9<br>interval=%{x}<br>value=%{y}<extra></extra>\",\"legendgroup\":\"slope_8-9\",\"line\":{\"color\":\"rgb(66,146,198)\",\"dash\":\"solid\"},\"marker\":{\"symbol\":\"circle\"},\"mode\":\"lines\",\"name\":\"slope_8-9\",\"orientation\":\"v\",\"showlegend\":true,\"x\":[60.0,120.0,180.0,240.0,300.0,360.0,420.0,480.0,540.0,600.0,660.0,720.0,780.0,840.0,900.0,960.0,1020.0,1080.0,1140.0],\"xaxis\":\"x\",\"y\":[1571.999999999996,1500.0,1395.999999999999,1380.0,1375.2000000000005,1313.9999999999998,1287.4285714285709,1266.0000000000005,1261.3333333333335,1308.0,1210.909090909091,null,null,null,null,null,null,null,null],\"yaxis\":\"y\",\"type\":\"scatter\"},{\"hovertemplate\":\"variable=slope_9-10<br>interval=%{x}<br>value=%{y}<extra></extra>\",\"legendgroup\":\"slope_9-10\",\"line\":{\"color\":\"rgb(33,113,181)\",\"dash\":\"solid\"},\"marker\":{\"symbol\":\"circle\"},\"mode\":\"lines\",\"name\":\"slope_9-10\",\"orientation\":\"v\",\"showlegend\":true,\"x\":[60.0,120.0,180.0,240.0,300.0,360.0,420.0,480.0,540.0,600.0,660.0,720.0,780.0,840.0,900.0,960.0,1020.0,1080.0,1140.0],\"xaxis\":\"x\",\"y\":[1691.999999999996,1536.0000000000014,1475.9999999999993,1466.9999999999993,1456.7999999999997,1398.0000000000007,1362.857142857143,1366.4999999999995,1394.666666666667,null,null,null,null,null,null,null,null,null,null],\"yaxis\":\"y\",\"type\":\"scatter\"}],                        {\"template\":{\"data\":{\"histogram2dcontour\":[{\"type\":\"histogram2dcontour\",\"colorbar\":{\"outlinewidth\":0,\"ticks\":\"\"},\"colorscale\":[[0.0,\"#0d0887\"],[0.1111111111111111,\"#46039f\"],[0.2222222222222222,\"#7201a8\"],[0.3333333333333333,\"#9c179e\"],[0.4444444444444444,\"#bd3786\"],[0.5555555555555556,\"#d8576b\"],[0.6666666666666666,\"#ed7953\"],[0.7777777777777778,\"#fb9f3a\"],[0.8888888888888888,\"#fdca26\"],[1.0,\"#f0f921\"]]}],\"choropleth\":[{\"type\":\"choropleth\",\"colorbar\":{\"outlinewidth\":0,\"ticks\":\"\"}}],\"histogram2d\":[{\"type\":\"histogram2d\",\"colorbar\":{\"outlinewidth\":0,\"ticks\":\"\"},\"colorscale\":[[0.0,\"#0d0887\"],[0.1111111111111111,\"#46039f\"],[0.2222222222222222,\"#7201a8\"],[0.3333333333333333,\"#9c179e\"],[0.4444444444444444,\"#bd3786\"],[0.5555555555555556,\"#d8576b\"],[0.6666666666666666,\"#ed7953\"],[0.7777777777777778,\"#fb9f3a\"],[0.8888888888888888,\"#fdca26\"],[1.0,\"#f0f921\"]]}],\"heatmap\":[{\"type\":\"heatmap\",\"colorbar\":{\"outlinewidth\":0,\"ticks\":\"\"},\"colorscale\":[[0.0,\"#0d0887\"],[0.1111111111111111,\"#46039f\"],[0.2222222222222222,\"#7201a8\"],[0.3333333333333333,\"#9c179e\"],[0.4444444444444444,\"#bd3786\"],[0.5555555555555556,\"#d8576b\"],[0.6666666666666666,\"#ed7953\"],[0.7777777777777778,\"#fb9f3a\"],[0.8888888888888888,\"#fdca26\"],[1.0,\"#f0f921\"]]}],\"heatmapgl\":[{\"type\":\"heatmapgl\",\"colorbar\":{\"outlinewidth\":0,\"ticks\":\"\"},\"colorscale\":[[0.0,\"#0d0887\"],[0.1111111111111111,\"#46039f\"],[0.2222222222222222,\"#7201a8\"],[0.3333333333333333,\"#9c179e\"],[0.4444444444444444,\"#bd3786\"],[0.5555555555555556,\"#d8576b\"],[0.6666666666666666,\"#ed7953\"],[0.7777777777777778,\"#fb9f3a\"],[0.8888888888888888,\"#fdca26\"],[1.0,\"#f0f921\"]]}],\"contourcarpet\":[{\"type\":\"contourcarpet\",\"colorbar\":{\"outlinewidth\":0,\"ticks\":\"\"}}],\"contour\":[{\"type\":\"contour\",\"colorbar\":{\"outlinewidth\":0,\"ticks\":\"\"},\"colorscale\":[[0.0,\"#0d0887\"],[0.1111111111111111,\"#46039f\"],[0.2222222222222222,\"#7201a8\"],[0.3333333333333333,\"#9c179e\"],[0.4444444444444444,\"#bd3786\"],[0.5555555555555556,\"#d8576b\"],[0.6666666666666666,\"#ed7953\"],[0.7777777777777778,\"#fb9f3a\"],[0.8888888888888888,\"#fdca26\"],[1.0,\"#f0f921\"]]}],\"surface\":[{\"type\":\"surface\",\"colorbar\":{\"outlinewidth\":0,\"ticks\":\"\"},\"colorscale\":[[0.0,\"#0d0887\"],[0.1111111111111111,\"#46039f\"],[0.2222222222222222,\"#7201a8\"],[0.3333333333333333,\"#9c179e\"],[0.4444444444444444,\"#bd3786\"],[0.5555555555555556,\"#d8576b\"],[0.6666666666666666,\"#ed7953\"],[0.7777777777777778,\"#fb9f3a\"],[0.8888888888888888,\"#fdca26\"],[1.0,\"#f0f921\"]]}],\"mesh3d\":[{\"type\":\"mesh3d\",\"colorbar\":{\"outlinewidth\":0,\"ticks\":\"\"}}],\"scatter\":[{\"fillpattern\":{\"fillmode\":\"overlay\",\"size\":10,\"solidity\":0.2},\"type\":\"scatter\"}],\"parcoords\":[{\"type\":\"parcoords\",\"line\":{\"colorbar\":{\"outlinewidth\":0,\"ticks\":\"\"}}}],\"scatterpolargl\":[{\"type\":\"scatterpolargl\",\"marker\":{\"colorbar\":{\"outlinewidth\":0,\"ticks\":\"\"}}}],\"bar\":[{\"error_x\":{\"color\":\"#2a3f5f\"},\"error_y\":{\"color\":\"#2a3f5f\"},\"marker\":{\"line\":{\"color\":\"#E5ECF6\",\"width\":0.5},\"pattern\":{\"fillmode\":\"overlay\",\"size\":10,\"solidity\":0.2}},\"type\":\"bar\"}],\"scattergeo\":[{\"type\":\"scattergeo\",\"marker\":{\"colorbar\":{\"outlinewidth\":0,\"ticks\":\"\"}}}],\"scatterpolar\":[{\"type\":\"scatterpolar\",\"marker\":{\"colorbar\":{\"outlinewidth\":0,\"ticks\":\"\"}}}],\"histogram\":[{\"marker\":{\"pattern\":{\"fillmode\":\"overlay\",\"size\":10,\"solidity\":0.2}},\"type\":\"histogram\"}],\"scattergl\":[{\"type\":\"scattergl\",\"marker\":{\"colorbar\":{\"outlinewidth\":0,\"ticks\":\"\"}}}],\"scatter3d\":[{\"type\":\"scatter3d\",\"line\":{\"colorbar\":{\"outlinewidth\":0,\"ticks\":\"\"}},\"marker\":{\"colorbar\":{\"outlinewidth\":0,\"ticks\":\"\"}}}],\"scattermapbox\":[{\"type\":\"scattermapbox\",\"marker\":{\"colorbar\":{\"outlinewidth\":0,\"ticks\":\"\"}}}],\"scatterternary\":[{\"type\":\"scatterternary\",\"marker\":{\"colorbar\":{\"outlinewidth\":0,\"ticks\":\"\"}}}],\"scattercarpet\":[{\"type\":\"scattercarpet\",\"marker\":{\"colorbar\":{\"outlinewidth\":0,\"ticks\":\"\"}}}],\"carpet\":[{\"aaxis\":{\"endlinecolor\":\"#2a3f5f\",\"gridcolor\":\"white\",\"linecolor\":\"white\",\"minorgridcolor\":\"white\",\"startlinecolor\":\"#2a3f5f\"},\"baxis\":{\"endlinecolor\":\"#2a3f5f\",\"gridcolor\":\"white\",\"linecolor\":\"white\",\"minorgridcolor\":\"white\",\"startlinecolor\":\"#2a3f5f\"},\"type\":\"carpet\"}],\"table\":[{\"cells\":{\"fill\":{\"color\":\"#EBF0F8\"},\"line\":{\"color\":\"white\"}},\"header\":{\"fill\":{\"color\":\"#C8D4E3\"},\"line\":{\"color\":\"white\"}},\"type\":\"table\"}],\"barpolar\":[{\"marker\":{\"line\":{\"color\":\"#E5ECF6\",\"width\":0.5},\"pattern\":{\"fillmode\":\"overlay\",\"size\":10,\"solidity\":0.2}},\"type\":\"barpolar\"}],\"pie\":[{\"automargin\":true,\"type\":\"pie\"}]},\"layout\":{\"autotypenumbers\":\"strict\",\"colorway\":[\"#636efa\",\"#EF553B\",\"#00cc96\",\"#ab63fa\",\"#FFA15A\",\"#19d3f3\",\"#FF6692\",\"#B6E880\",\"#FF97FF\",\"#FECB52\"],\"font\":{\"color\":\"#2a3f5f\"},\"hovermode\":\"closest\",\"hoverlabel\":{\"align\":\"left\"},\"paper_bgcolor\":\"white\",\"plot_bgcolor\":\"#E5ECF6\",\"polar\":{\"bgcolor\":\"#E5ECF6\",\"angularaxis\":{\"gridcolor\":\"white\",\"linecolor\":\"white\",\"ticks\":\"\"},\"radialaxis\":{\"gridcolor\":\"white\",\"linecolor\":\"white\",\"ticks\":\"\"}},\"ternary\":{\"bgcolor\":\"#E5ECF6\",\"aaxis\":{\"gridcolor\":\"white\",\"linecolor\":\"white\",\"ticks\":\"\"},\"baxis\":{\"gridcolor\":\"white\",\"linecolor\":\"white\",\"ticks\":\"\"},\"caxis\":{\"gridcolor\":\"white\",\"linecolor\":\"white\",\"ticks\":\"\"}},\"coloraxis\":{\"colorbar\":{\"outlinewidth\":0,\"ticks\":\"\"}},\"colorscale\":{\"sequential\":[[0.0,\"#0d0887\"],[0.1111111111111111,\"#46039f\"],[0.2222222222222222,\"#7201a8\"],[0.3333333333333333,\"#9c179e\"],[0.4444444444444444,\"#bd3786\"],[0.5555555555555556,\"#d8576b\"],[0.6666666666666666,\"#ed7953\"],[0.7777777777777778,\"#fb9f3a\"],[0.8888888888888888,\"#fdca26\"],[1.0,\"#f0f921\"]],\"sequentialminus\":[[0.0,\"#0d0887\"],[0.1111111111111111,\"#46039f\"],[0.2222222222222222,\"#7201a8\"],[0.3333333333333333,\"#9c179e\"],[0.4444444444444444,\"#bd3786\"],[0.5555555555555556,\"#d8576b\"],[0.6666666666666666,\"#ed7953\"],[0.7777777777777778,\"#fb9f3a\"],[0.8888888888888888,\"#fdca26\"],[1.0,\"#f0f921\"]],\"diverging\":[[0,\"#8e0152\"],[0.1,\"#c51b7d\"],[0.2,\"#de77ae\"],[0.3,\"#f1b6da\"],[0.4,\"#fde0ef\"],[0.5,\"#f7f7f7\"],[0.6,\"#e6f5d0\"],[0.7,\"#b8e186\"],[0.8,\"#7fbc41\"],[0.9,\"#4d9221\"],[1,\"#276419\"]]},\"xaxis\":{\"gridcolor\":\"white\",\"linecolor\":\"white\",\"ticks\":\"\",\"title\":{\"standoff\":15},\"zerolinecolor\":\"white\",\"automargin\":true,\"zerolinewidth\":2},\"yaxis\":{\"gridcolor\":\"white\",\"linecolor\":\"white\",\"ticks\":\"\",\"title\":{\"standoff\":15},\"zerolinecolor\":\"white\",\"automargin\":true,\"zerolinewidth\":2},\"scene\":{\"xaxis\":{\"backgroundcolor\":\"#E5ECF6\",\"gridcolor\":\"white\",\"linecolor\":\"white\",\"showbackground\":true,\"ticks\":\"\",\"zerolinecolor\":\"white\",\"gridwidth\":2},\"yaxis\":{\"backgroundcolor\":\"#E5ECF6\",\"gridcolor\":\"white\",\"linecolor\":\"white\",\"showbackground\":true,\"ticks\":\"\",\"zerolinecolor\":\"white\",\"gridwidth\":2},\"zaxis\":{\"backgroundcolor\":\"#E5ECF6\",\"gridcolor\":\"white\",\"linecolor\":\"white\",\"showbackground\":true,\"ticks\":\"\",\"zerolinecolor\":\"white\",\"gridwidth\":2}},\"shapedefaults\":{\"line\":{\"color\":\"#2a3f5f\"}},\"annotationdefaults\":{\"arrowcolor\":\"#2a3f5f\",\"arrowhead\":0,\"arrowwidth\":1},\"geo\":{\"bgcolor\":\"white\",\"landcolor\":\"#E5ECF6\",\"subunitcolor\":\"white\",\"showland\":true,\"showlakes\":true,\"lakecolor\":\"white\"},\"title\":{\"x\":0.05},\"mapbox\":{\"style\":\"light\"}}},\"xaxis\":{\"anchor\":\"y\",\"domain\":[0.0,1.0],\"title\":{\"text\":\"Seconds\"}},\"yaxis\":{\"anchor\":\"x\",\"domain\":[0.0,1.0],\"title\":{\"text\":\"VAM/hr\"}},\"legend\":{\"title\":{\"text\":\"variable\"},\"tracegroupgap\":0},\"title\":{\"text\":\"Seconds VS VAM\"},\"width\":1000,\"height\":800},                        {\"responsive\": true}                    ).then(function(){\n                            \nvar gd = document.getElementById('00d56620-ce92-4e5c-8764-433f40a048ed');\nvar x = new MutationObserver(function (mutations, observer) {{\n        var display = window.getComputedStyle(gd).display;\n        if (!display || display === 'none') {{\n            console.log([gd, 'removed!']);\n            Plotly.purge(gd);\n            observer.disconnect();\n        }}\n}});\n\n// Listen for the removal of the full notebook cells\nvar notebookContainer = gd.closest('#notebook-container');\nif (notebookContainer) {{\n    x.observe(notebookContainer, {childList: true});\n}}\n\n// Listen for the clearing of the current output cell\nvar outputEl = gd.closest('.output');\nif (outputEl) {{\n    x.observe(outputEl, {childList: true});\n}}\n\n                        })                };                });            </script>        </div>"
     },
     "metadata": {},
     "output_type": "display_data"
    },
    {
     "data": {
      "application/vnd.plotly.v1+json": {
       "data": [
        {
         "hovertemplate": "variable=slope_3-4<br>interval=%{x}<br>value=%{y}<extra></extra>",
         "legendgroup": "slope_3-4",
         "line": {
          "color": "rgb(247,251,255)",
          "dash": "solid"
         },
         "marker": {
          "symbol": "circle"
         },
         "mode": "lines",
         "name": "slope_3-4",
         "orientation": "v",
         "showlegend": true,
         "x": [
          60.0,
          120.0,
          180.0,
          240.0,
          300.0,
          360.0,
          420.0,
          480.0,
          540.0,
          600.0,
          660.0,
          720.0,
          780.0,
          840.0,
          900.0,
          960.0,
          1020.0,
          1080.0,
          1140.0
         ],
         "xaxis": "x",
         "y": [
          6.861842821807175,
          5.604754479293726,
          5.303464807233581,
          4.856774039815173,
          4.485556580813474,
          4.192941056879196,
          3.7666210594352916,
          3.353176355765543,
          3.4166565428697164,
          3.5227138021001423,
          3.415521493189428,
          3.0379658256411193,
          null,
          null,
          null,
          null,
          null,
          -0.3493497394673525,
          -0.3354739383842819
         ],
         "yaxis": "y",
         "type": "scatter"
        },
        {
         "hovertemplate": "variable=slope_4-5<br>interval=%{x}<br>value=%{y}<extra></extra>",
         "legendgroup": "slope_4-5",
         "line": {
          "color": "rgb(222,235,247)",
          "dash": "solid"
         },
         "marker": {
          "symbol": "circle"
         },
         "mode": "lines",
         "name": "slope_4-5",
         "orientation": "v",
         "showlegend": true,
         "x": [
          60.0,
          120.0,
          180.0,
          240.0,
          300.0,
          360.0,
          420.0,
          480.0,
          540.0,
          600.0,
          660.0,
          720.0,
          780.0,
          840.0,
          900.0,
          960.0,
          1020.0,
          1080.0,
          1140.0
         ],
         "xaxis": "x",
         "y": [
          7.5707656420447025,
          6.340750534003063,
          5.81849571492037,
          5.516791273904034,
          5.1347959882571805,
          4.791382814769639,
          4.740620353944007,
          4.690311137180897,
          4.485929358369473,
          4.191689552619959,
          4.0801470929605355,
          3.835964468280942,
          3.588728712882797,
          null,
          0.21649217975579066,
          1.8653371737996596,
          3.3406770253454012,
          0.7837395400191975,
          null
         ],
         "yaxis": "y",
         "type": "scatter"
        },
        {
         "hovertemplate": "variable=slope_5-6<br>interval=%{x}<br>value=%{y}<extra></extra>",
         "legendgroup": "slope_5-6",
         "line": {
          "color": "rgb(198,219,239)",
          "dash": "solid"
         },
         "marker": {
          "symbol": "circle"
         },
         "mode": "lines",
         "name": "slope_5-6",
         "orientation": "v",
         "showlegend": true,
         "x": [
          60.0,
          120.0,
          180.0,
          240.0,
          300.0,
          360.0,
          420.0,
          480.0,
          540.0,
          600.0,
          660.0,
          720.0,
          780.0,
          840.0,
          900.0,
          960.0,
          1020.0,
          1080.0,
          1140.0
         ],
         "xaxis": "x",
         "y": [
          8.23007408479484,
          6.9535268383160656,
          6.35119918078727,
          6.068677397756306,
          5.794034070831475,
          5.636157846463725,
          5.67268218208732,
          5.530114726243997,
          5.2375616585531795,
          4.816551117205962,
          4.617839530779943,
          4.549376092126829,
          4.4857424765723986,
          4.585624718695099,
          4.74947403775806,
          4.291338813510307,
          3.587920053078419,
          null,
          null
         ],
         "yaxis": "y",
         "type": "scatter"
        },
        {
         "hovertemplate": "variable=slope_6-7<br>interval=%{x}<br>value=%{y}<extra></extra>",
         "legendgroup": "slope_6-7",
         "line": {
          "color": "rgb(158,202,225)",
          "dash": "solid"
         },
         "marker": {
          "symbol": "circle"
         },
         "mode": "lines",
         "name": "slope_6-7",
         "orientation": "v",
         "showlegend": true,
         "x": [
          60.0,
          120.0,
          180.0,
          240.0,
          300.0,
          360.0,
          420.0,
          480.0,
          540.0,
          600.0,
          660.0,
          720.0,
          780.0,
          840.0,
          900.0,
          960.0,
          1020.0,
          1080.0,
          1140.0
         ],
         "xaxis": "x",
         "y": [
          8.489286391725349,
          7.420396686549014,
          6.76538209751385,
          6.5280272916952615,
          6.4436247974178755,
          6.516699933573483,
          6.373944080260189,
          6.0786583140163515,
          5.823172404044461,
          5.636927771499878,
          5.399078599308334,
          5.555247575685802,
          5.751352386070486,
          5.040935936009131,
          null,
          null,
          null,
          null,
          null
         ],
         "yaxis": "y",
         "type": "scatter"
        },
        {
         "hovertemplate": "variable=slope_7-8<br>interval=%{x}<br>value=%{y}<extra></extra>",
         "legendgroup": "slope_7-8",
         "line": {
          "color": "rgb(107,174,214)",
          "dash": "solid"
         },
         "marker": {
          "symbol": "circle"
         },
         "mode": "lines",
         "name": "slope_7-8",
         "orientation": "v",
         "showlegend": true,
         "x": [
          60.0,
          120.0,
          180.0,
          240.0,
          300.0,
          360.0,
          420.0,
          480.0,
          540.0,
          600.0,
          660.0,
          720.0,
          780.0,
          840.0,
          900.0,
          960.0,
          1020.0,
          1080.0,
          1140.0
         ],
         "xaxis": "x",
         "y": [
          8.545476238844493,
          8.097932788602263,
          7.4433892875869585,
          6.962449421339879,
          7.080714057766926,
          7.04794688744237,
          6.812873401375663,
          6.579169724660795,
          6.4265596763931665,
          6.338059298658015,
          6.507485638033976,
          6.246871152686015,
          null,
          null,
          null,
          null,
          null,
          null,
          null
         ],
         "yaxis": "y",
         "type": "scatter"
        },
        {
         "hovertemplate": "variable=slope_8-9<br>interval=%{x}<br>value=%{y}<extra></extra>",
         "legendgroup": "slope_8-9",
         "line": {
          "color": "rgb(66,146,198)",
          "dash": "solid"
         },
         "marker": {
          "symbol": "circle"
         },
         "mode": "lines",
         "name": "slope_8-9",
         "orientation": "v",
         "showlegend": true,
         "x": [
          60.0,
          120.0,
          180.0,
          240.0,
          300.0,
          360.0,
          420.0,
          480.0,
          540.0,
          600.0,
          660.0,
          720.0,
          780.0,
          840.0,
          900.0,
          960.0,
          1020.0,
          1080.0,
          1140.0
         ],
         "xaxis": "x",
         "y": [
          8.842797310484867,
          8.496131946869877,
          7.903236754874642,
          7.796425118098738,
          7.752143508072904,
          7.3990734309162125,
          7.247993919893569,
          7.121015108242323,
          7.076004870486101,
          7.3060120483972435,
          6.769599408713934,
          null,
          null,
          null,
          null,
          null,
          null,
          null,
          null
         ],
         "yaxis": "y",
         "type": "scatter"
        },
        {
         "hovertemplate": "variable=slope_9-10<br>interval=%{x}<br>value=%{y}<extra></extra>",
         "legendgroup": "slope_9-10",
         "line": {
          "color": "rgb(33,113,181)",
          "dash": "solid"
         },
         "marker": {
          "symbol": "circle"
         },
         "mode": "lines",
         "name": "slope_9-10",
         "orientation": "v",
         "showlegend": true,
         "x": [
          60.0,
          120.0,
          180.0,
          240.0,
          300.0,
          360.0,
          420.0,
          480.0,
          540.0,
          600.0,
          660.0,
          720.0,
          780.0,
          840.0,
          900.0,
          960.0,
          1020.0,
          1080.0,
          1140.0
         ],
         "xaxis": "x",
         "y": [
          9.526953154640713,
          8.691524093621242,
          8.339724498927746,
          8.254822808841306,
          8.198530708246016,
          7.86205617643184,
          7.647691199487801,
          7.648030417643422,
          7.772117572394565,
          null,
          null,
          null,
          null,
          null,
          null,
          null,
          null,
          null,
          null
         ],
         "yaxis": "y",
         "type": "scatter"
        }
       ],
       "layout": {
        "template": {
         "data": {
          "histogram2dcontour": [
           {
            "type": "histogram2dcontour",
            "colorbar": {
             "outlinewidth": 0,
             "ticks": ""
            },
            "colorscale": [
             [
              0.0,
              "#0d0887"
             ],
             [
              0.1111111111111111,
              "#46039f"
             ],
             [
              0.2222222222222222,
              "#7201a8"
             ],
             [
              0.3333333333333333,
              "#9c179e"
             ],
             [
              0.4444444444444444,
              "#bd3786"
             ],
             [
              0.5555555555555556,
              "#d8576b"
             ],
             [
              0.6666666666666666,
              "#ed7953"
             ],
             [
              0.7777777777777778,
              "#fb9f3a"
             ],
             [
              0.8888888888888888,
              "#fdca26"
             ],
             [
              1.0,
              "#f0f921"
             ]
            ]
           }
          ],
          "choropleth": [
           {
            "type": "choropleth",
            "colorbar": {
             "outlinewidth": 0,
             "ticks": ""
            }
           }
          ],
          "histogram2d": [
           {
            "type": "histogram2d",
            "colorbar": {
             "outlinewidth": 0,
             "ticks": ""
            },
            "colorscale": [
             [
              0.0,
              "#0d0887"
             ],
             [
              0.1111111111111111,
              "#46039f"
             ],
             [
              0.2222222222222222,
              "#7201a8"
             ],
             [
              0.3333333333333333,
              "#9c179e"
             ],
             [
              0.4444444444444444,
              "#bd3786"
             ],
             [
              0.5555555555555556,
              "#d8576b"
             ],
             [
              0.6666666666666666,
              "#ed7953"
             ],
             [
              0.7777777777777778,
              "#fb9f3a"
             ],
             [
              0.8888888888888888,
              "#fdca26"
             ],
             [
              1.0,
              "#f0f921"
             ]
            ]
           }
          ],
          "heatmap": [
           {
            "type": "heatmap",
            "colorbar": {
             "outlinewidth": 0,
             "ticks": ""
            },
            "colorscale": [
             [
              0.0,
              "#0d0887"
             ],
             [
              0.1111111111111111,
              "#46039f"
             ],
             [
              0.2222222222222222,
              "#7201a8"
             ],
             [
              0.3333333333333333,
              "#9c179e"
             ],
             [
              0.4444444444444444,
              "#bd3786"
             ],
             [
              0.5555555555555556,
              "#d8576b"
             ],
             [
              0.6666666666666666,
              "#ed7953"
             ],
             [
              0.7777777777777778,
              "#fb9f3a"
             ],
             [
              0.8888888888888888,
              "#fdca26"
             ],
             [
              1.0,
              "#f0f921"
             ]
            ]
           }
          ],
          "heatmapgl": [
           {
            "type": "heatmapgl",
            "colorbar": {
             "outlinewidth": 0,
             "ticks": ""
            },
            "colorscale": [
             [
              0.0,
              "#0d0887"
             ],
             [
              0.1111111111111111,
              "#46039f"
             ],
             [
              0.2222222222222222,
              "#7201a8"
             ],
             [
              0.3333333333333333,
              "#9c179e"
             ],
             [
              0.4444444444444444,
              "#bd3786"
             ],
             [
              0.5555555555555556,
              "#d8576b"
             ],
             [
              0.6666666666666666,
              "#ed7953"
             ],
             [
              0.7777777777777778,
              "#fb9f3a"
             ],
             [
              0.8888888888888888,
              "#fdca26"
             ],
             [
              1.0,
              "#f0f921"
             ]
            ]
           }
          ],
          "contourcarpet": [
           {
            "type": "contourcarpet",
            "colorbar": {
             "outlinewidth": 0,
             "ticks": ""
            }
           }
          ],
          "contour": [
           {
            "type": "contour",
            "colorbar": {
             "outlinewidth": 0,
             "ticks": ""
            },
            "colorscale": [
             [
              0.0,
              "#0d0887"
             ],
             [
              0.1111111111111111,
              "#46039f"
             ],
             [
              0.2222222222222222,
              "#7201a8"
             ],
             [
              0.3333333333333333,
              "#9c179e"
             ],
             [
              0.4444444444444444,
              "#bd3786"
             ],
             [
              0.5555555555555556,
              "#d8576b"
             ],
             [
              0.6666666666666666,
              "#ed7953"
             ],
             [
              0.7777777777777778,
              "#fb9f3a"
             ],
             [
              0.8888888888888888,
              "#fdca26"
             ],
             [
              1.0,
              "#f0f921"
             ]
            ]
           }
          ],
          "surface": [
           {
            "type": "surface",
            "colorbar": {
             "outlinewidth": 0,
             "ticks": ""
            },
            "colorscale": [
             [
              0.0,
              "#0d0887"
             ],
             [
              0.1111111111111111,
              "#46039f"
             ],
             [
              0.2222222222222222,
              "#7201a8"
             ],
             [
              0.3333333333333333,
              "#9c179e"
             ],
             [
              0.4444444444444444,
              "#bd3786"
             ],
             [
              0.5555555555555556,
              "#d8576b"
             ],
             [
              0.6666666666666666,
              "#ed7953"
             ],
             [
              0.7777777777777778,
              "#fb9f3a"
             ],
             [
              0.8888888888888888,
              "#fdca26"
             ],
             [
              1.0,
              "#f0f921"
             ]
            ]
           }
          ],
          "mesh3d": [
           {
            "type": "mesh3d",
            "colorbar": {
             "outlinewidth": 0,
             "ticks": ""
            }
           }
          ],
          "scatter": [
           {
            "fillpattern": {
             "fillmode": "overlay",
             "size": 10,
             "solidity": 0.2
            },
            "type": "scatter"
           }
          ],
          "parcoords": [
           {
            "type": "parcoords",
            "line": {
             "colorbar": {
              "outlinewidth": 0,
              "ticks": ""
             }
            }
           }
          ],
          "scatterpolargl": [
           {
            "type": "scatterpolargl",
            "marker": {
             "colorbar": {
              "outlinewidth": 0,
              "ticks": ""
             }
            }
           }
          ],
          "bar": [
           {
            "error_x": {
             "color": "#2a3f5f"
            },
            "error_y": {
             "color": "#2a3f5f"
            },
            "marker": {
             "line": {
              "color": "#E5ECF6",
              "width": 0.5
             },
             "pattern": {
              "fillmode": "overlay",
              "size": 10,
              "solidity": 0.2
             }
            },
            "type": "bar"
           }
          ],
          "scattergeo": [
           {
            "type": "scattergeo",
            "marker": {
             "colorbar": {
              "outlinewidth": 0,
              "ticks": ""
             }
            }
           }
          ],
          "scatterpolar": [
           {
            "type": "scatterpolar",
            "marker": {
             "colorbar": {
              "outlinewidth": 0,
              "ticks": ""
             }
            }
           }
          ],
          "histogram": [
           {
            "marker": {
             "pattern": {
              "fillmode": "overlay",
              "size": 10,
              "solidity": 0.2
             }
            },
            "type": "histogram"
           }
          ],
          "scattergl": [
           {
            "type": "scattergl",
            "marker": {
             "colorbar": {
              "outlinewidth": 0,
              "ticks": ""
             }
            }
           }
          ],
          "scatter3d": [
           {
            "type": "scatter3d",
            "line": {
             "colorbar": {
              "outlinewidth": 0,
              "ticks": ""
             }
            },
            "marker": {
             "colorbar": {
              "outlinewidth": 0,
              "ticks": ""
             }
            }
           }
          ],
          "scattermapbox": [
           {
            "type": "scattermapbox",
            "marker": {
             "colorbar": {
              "outlinewidth": 0,
              "ticks": ""
             }
            }
           }
          ],
          "scatterternary": [
           {
            "type": "scatterternary",
            "marker": {
             "colorbar": {
              "outlinewidth": 0,
              "ticks": ""
             }
            }
           }
          ],
          "scattercarpet": [
           {
            "type": "scattercarpet",
            "marker": {
             "colorbar": {
              "outlinewidth": 0,
              "ticks": ""
             }
            }
           }
          ],
          "carpet": [
           {
            "aaxis": {
             "endlinecolor": "#2a3f5f",
             "gridcolor": "white",
             "linecolor": "white",
             "minorgridcolor": "white",
             "startlinecolor": "#2a3f5f"
            },
            "baxis": {
             "endlinecolor": "#2a3f5f",
             "gridcolor": "white",
             "linecolor": "white",
             "minorgridcolor": "white",
             "startlinecolor": "#2a3f5f"
            },
            "type": "carpet"
           }
          ],
          "table": [
           {
            "cells": {
             "fill": {
              "color": "#EBF0F8"
             },
             "line": {
              "color": "white"
             }
            },
            "header": {
             "fill": {
              "color": "#C8D4E3"
             },
             "line": {
              "color": "white"
             }
            },
            "type": "table"
           }
          ],
          "barpolar": [
           {
            "marker": {
             "line": {
              "color": "#E5ECF6",
              "width": 0.5
             },
             "pattern": {
              "fillmode": "overlay",
              "size": 10,
              "solidity": 0.2
             }
            },
            "type": "barpolar"
           }
          ],
          "pie": [
           {
            "automargin": true,
            "type": "pie"
           }
          ]
         },
         "layout": {
          "autotypenumbers": "strict",
          "colorway": [
           "#636efa",
           "#EF553B",
           "#00cc96",
           "#ab63fa",
           "#FFA15A",
           "#19d3f3",
           "#FF6692",
           "#B6E880",
           "#FF97FF",
           "#FECB52"
          ],
          "font": {
           "color": "#2a3f5f"
          },
          "hovermode": "closest",
          "hoverlabel": {
           "align": "left"
          },
          "paper_bgcolor": "white",
          "plot_bgcolor": "#E5ECF6",
          "polar": {
           "bgcolor": "#E5ECF6",
           "angularaxis": {
            "gridcolor": "white",
            "linecolor": "white",
            "ticks": ""
           },
           "radialaxis": {
            "gridcolor": "white",
            "linecolor": "white",
            "ticks": ""
           }
          },
          "ternary": {
           "bgcolor": "#E5ECF6",
           "aaxis": {
            "gridcolor": "white",
            "linecolor": "white",
            "ticks": ""
           },
           "baxis": {
            "gridcolor": "white",
            "linecolor": "white",
            "ticks": ""
           },
           "caxis": {
            "gridcolor": "white",
            "linecolor": "white",
            "ticks": ""
           }
          },
          "coloraxis": {
           "colorbar": {
            "outlinewidth": 0,
            "ticks": ""
           }
          },
          "colorscale": {
           "sequential": [
            [
             0.0,
             "#0d0887"
            ],
            [
             0.1111111111111111,
             "#46039f"
            ],
            [
             0.2222222222222222,
             "#7201a8"
            ],
            [
             0.3333333333333333,
             "#9c179e"
            ],
            [
             0.4444444444444444,
             "#bd3786"
            ],
            [
             0.5555555555555556,
             "#d8576b"
            ],
            [
             0.6666666666666666,
             "#ed7953"
            ],
            [
             0.7777777777777778,
             "#fb9f3a"
            ],
            [
             0.8888888888888888,
             "#fdca26"
            ],
            [
             1.0,
             "#f0f921"
            ]
           ],
           "sequentialminus": [
            [
             0.0,
             "#0d0887"
            ],
            [
             0.1111111111111111,
             "#46039f"
            ],
            [
             0.2222222222222222,
             "#7201a8"
            ],
            [
             0.3333333333333333,
             "#9c179e"
            ],
            [
             0.4444444444444444,
             "#bd3786"
            ],
            [
             0.5555555555555556,
             "#d8576b"
            ],
            [
             0.6666666666666666,
             "#ed7953"
            ],
            [
             0.7777777777777778,
             "#fb9f3a"
            ],
            [
             0.8888888888888888,
             "#fdca26"
            ],
            [
             1.0,
             "#f0f921"
            ]
           ],
           "diverging": [
            [
             0,
             "#8e0152"
            ],
            [
             0.1,
             "#c51b7d"
            ],
            [
             0.2,
             "#de77ae"
            ],
            [
             0.3,
             "#f1b6da"
            ],
            [
             0.4,
             "#fde0ef"
            ],
            [
             0.5,
             "#f7f7f7"
            ],
            [
             0.6,
             "#e6f5d0"
            ],
            [
             0.7,
             "#b8e186"
            ],
            [
             0.8,
             "#7fbc41"
            ],
            [
             0.9,
             "#4d9221"
            ],
            [
             1,
             "#276419"
            ]
           ]
          },
          "xaxis": {
           "gridcolor": "white",
           "linecolor": "white",
           "ticks": "",
           "title": {
            "standoff": 15
           },
           "zerolinecolor": "white",
           "automargin": true,
           "zerolinewidth": 2
          },
          "yaxis": {
           "gridcolor": "white",
           "linecolor": "white",
           "ticks": "",
           "title": {
            "standoff": 15
           },
           "zerolinecolor": "white",
           "automargin": true,
           "zerolinewidth": 2
          },
          "scene": {
           "xaxis": {
            "backgroundcolor": "#E5ECF6",
            "gridcolor": "white",
            "linecolor": "white",
            "showbackground": true,
            "ticks": "",
            "zerolinecolor": "white",
            "gridwidth": 2
           },
           "yaxis": {
            "backgroundcolor": "#E5ECF6",
            "gridcolor": "white",
            "linecolor": "white",
            "showbackground": true,
            "ticks": "",
            "zerolinecolor": "white",
            "gridwidth": 2
           },
           "zaxis": {
            "backgroundcolor": "#E5ECF6",
            "gridcolor": "white",
            "linecolor": "white",
            "showbackground": true,
            "ticks": "",
            "zerolinecolor": "white",
            "gridwidth": 2
           }
          },
          "shapedefaults": {
           "line": {
            "color": "#2a3f5f"
           }
          },
          "annotationdefaults": {
           "arrowcolor": "#2a3f5f",
           "arrowhead": 0,
           "arrowwidth": 1
          },
          "geo": {
           "bgcolor": "white",
           "landcolor": "#E5ECF6",
           "subunitcolor": "white",
           "showland": true,
           "showlakes": true,
           "lakecolor": "white"
          },
          "title": {
           "x": 0.05
          },
          "mapbox": {
           "style": "light"
          }
         }
        },
        "xaxis": {
         "anchor": "y",
         "domain": [
          0.0,
          1.0
         ],
         "title": {
          "text": "Seconds"
         }
        },
        "yaxis": {
         "anchor": "x",
         "domain": [
          0.0,
          1.0
         ],
         "title": {
          "text": "VAM/hr"
         }
        },
        "legend": {
         "title": {
          "text": "variable"
         },
         "tracegroupgap": 0
        },
        "title": {
         "text": "Seconds VS VAM/hr"
        },
        "width": 1000,
        "height": 800
       },
       "config": {
        "plotlyServerURL": "https://plot.ly"
       }
      },
      "text/html": "<div>                            <div id=\"af64a0b6-7bca-41d6-9425-dc68b2205306\" class=\"plotly-graph-div\" style=\"height:800px; width:1000px;\"></div>            <script type=\"text/javascript\">                require([\"plotly\"], function(Plotly) {                    window.PLOTLYENV=window.PLOTLYENV || {};                                    if (document.getElementById(\"af64a0b6-7bca-41d6-9425-dc68b2205306\")) {                    Plotly.newPlot(                        \"af64a0b6-7bca-41d6-9425-dc68b2205306\",                        [{\"hovertemplate\":\"variable=slope_3-4<br>interval=%{x}<br>value=%{y}<extra></extra>\",\"legendgroup\":\"slope_3-4\",\"line\":{\"color\":\"rgb(247,251,255)\",\"dash\":\"solid\"},\"marker\":{\"symbol\":\"circle\"},\"mode\":\"lines\",\"name\":\"slope_3-4\",\"orientation\":\"v\",\"showlegend\":true,\"x\":[60.0,120.0,180.0,240.0,300.0,360.0,420.0,480.0,540.0,600.0,660.0,720.0,780.0,840.0,900.0,960.0,1020.0,1080.0,1140.0],\"xaxis\":\"x\",\"y\":[6.861842821807175,5.604754479293726,5.303464807233581,4.856774039815173,4.485556580813474,4.192941056879196,3.7666210594352916,3.353176355765543,3.4166565428697164,3.5227138021001423,3.415521493189428,3.0379658256411193,null,null,null,null,null,-0.3493497394673525,-0.3354739383842819],\"yaxis\":\"y\",\"type\":\"scatter\"},{\"hovertemplate\":\"variable=slope_4-5<br>interval=%{x}<br>value=%{y}<extra></extra>\",\"legendgroup\":\"slope_4-5\",\"line\":{\"color\":\"rgb(222,235,247)\",\"dash\":\"solid\"},\"marker\":{\"symbol\":\"circle\"},\"mode\":\"lines\",\"name\":\"slope_4-5\",\"orientation\":\"v\",\"showlegend\":true,\"x\":[60.0,120.0,180.0,240.0,300.0,360.0,420.0,480.0,540.0,600.0,660.0,720.0,780.0,840.0,900.0,960.0,1020.0,1080.0,1140.0],\"xaxis\":\"x\",\"y\":[7.5707656420447025,6.340750534003063,5.81849571492037,5.516791273904034,5.1347959882571805,4.791382814769639,4.740620353944007,4.690311137180897,4.485929358369473,4.191689552619959,4.0801470929605355,3.835964468280942,3.588728712882797,null,0.21649217975579066,1.8653371737996596,3.3406770253454012,0.7837395400191975,null],\"yaxis\":\"y\",\"type\":\"scatter\"},{\"hovertemplate\":\"variable=slope_5-6<br>interval=%{x}<br>value=%{y}<extra></extra>\",\"legendgroup\":\"slope_5-6\",\"line\":{\"color\":\"rgb(198,219,239)\",\"dash\":\"solid\"},\"marker\":{\"symbol\":\"circle\"},\"mode\":\"lines\",\"name\":\"slope_5-6\",\"orientation\":\"v\",\"showlegend\":true,\"x\":[60.0,120.0,180.0,240.0,300.0,360.0,420.0,480.0,540.0,600.0,660.0,720.0,780.0,840.0,900.0,960.0,1020.0,1080.0,1140.0],\"xaxis\":\"x\",\"y\":[8.23007408479484,6.9535268383160656,6.35119918078727,6.068677397756306,5.794034070831475,5.636157846463725,5.67268218208732,5.530114726243997,5.2375616585531795,4.816551117205962,4.617839530779943,4.549376092126829,4.4857424765723986,4.585624718695099,4.74947403775806,4.291338813510307,3.587920053078419,null,null],\"yaxis\":\"y\",\"type\":\"scatter\"},{\"hovertemplate\":\"variable=slope_6-7<br>interval=%{x}<br>value=%{y}<extra></extra>\",\"legendgroup\":\"slope_6-7\",\"line\":{\"color\":\"rgb(158,202,225)\",\"dash\":\"solid\"},\"marker\":{\"symbol\":\"circle\"},\"mode\":\"lines\",\"name\":\"slope_6-7\",\"orientation\":\"v\",\"showlegend\":true,\"x\":[60.0,120.0,180.0,240.0,300.0,360.0,420.0,480.0,540.0,600.0,660.0,720.0,780.0,840.0,900.0,960.0,1020.0,1080.0,1140.0],\"xaxis\":\"x\",\"y\":[8.489286391725349,7.420396686549014,6.76538209751385,6.5280272916952615,6.4436247974178755,6.516699933573483,6.373944080260189,6.0786583140163515,5.823172404044461,5.636927771499878,5.399078599308334,5.555247575685802,5.751352386070486,5.040935936009131,null,null,null,null,null],\"yaxis\":\"y\",\"type\":\"scatter\"},{\"hovertemplate\":\"variable=slope_7-8<br>interval=%{x}<br>value=%{y}<extra></extra>\",\"legendgroup\":\"slope_7-8\",\"line\":{\"color\":\"rgb(107,174,214)\",\"dash\":\"solid\"},\"marker\":{\"symbol\":\"circle\"},\"mode\":\"lines\",\"name\":\"slope_7-8\",\"orientation\":\"v\",\"showlegend\":true,\"x\":[60.0,120.0,180.0,240.0,300.0,360.0,420.0,480.0,540.0,600.0,660.0,720.0,780.0,840.0,900.0,960.0,1020.0,1080.0,1140.0],\"xaxis\":\"x\",\"y\":[8.545476238844493,8.097932788602263,7.4433892875869585,6.962449421339879,7.080714057766926,7.04794688744237,6.812873401375663,6.579169724660795,6.4265596763931665,6.338059298658015,6.507485638033976,6.246871152686015,null,null,null,null,null,null,null],\"yaxis\":\"y\",\"type\":\"scatter\"},{\"hovertemplate\":\"variable=slope_8-9<br>interval=%{x}<br>value=%{y}<extra></extra>\",\"legendgroup\":\"slope_8-9\",\"line\":{\"color\":\"rgb(66,146,198)\",\"dash\":\"solid\"},\"marker\":{\"symbol\":\"circle\"},\"mode\":\"lines\",\"name\":\"slope_8-9\",\"orientation\":\"v\",\"showlegend\":true,\"x\":[60.0,120.0,180.0,240.0,300.0,360.0,420.0,480.0,540.0,600.0,660.0,720.0,780.0,840.0,900.0,960.0,1020.0,1080.0,1140.0],\"xaxis\":\"x\",\"y\":[8.842797310484867,8.496131946869877,7.903236754874642,7.796425118098738,7.752143508072904,7.3990734309162125,7.247993919893569,7.121015108242323,7.076004870486101,7.3060120483972435,6.769599408713934,null,null,null,null,null,null,null,null],\"yaxis\":\"y\",\"type\":\"scatter\"},{\"hovertemplate\":\"variable=slope_9-10<br>interval=%{x}<br>value=%{y}<extra></extra>\",\"legendgroup\":\"slope_9-10\",\"line\":{\"color\":\"rgb(33,113,181)\",\"dash\":\"solid\"},\"marker\":{\"symbol\":\"circle\"},\"mode\":\"lines\",\"name\":\"slope_9-10\",\"orientation\":\"v\",\"showlegend\":true,\"x\":[60.0,120.0,180.0,240.0,300.0,360.0,420.0,480.0,540.0,600.0,660.0,720.0,780.0,840.0,900.0,960.0,1020.0,1080.0,1140.0],\"xaxis\":\"x\",\"y\":[9.526953154640713,8.691524093621242,8.339724498927746,8.254822808841306,8.198530708246016,7.86205617643184,7.647691199487801,7.648030417643422,7.772117572394565,null,null,null,null,null,null,null,null,null,null],\"yaxis\":\"y\",\"type\":\"scatter\"}],                        {\"template\":{\"data\":{\"histogram2dcontour\":[{\"type\":\"histogram2dcontour\",\"colorbar\":{\"outlinewidth\":0,\"ticks\":\"\"},\"colorscale\":[[0.0,\"#0d0887\"],[0.1111111111111111,\"#46039f\"],[0.2222222222222222,\"#7201a8\"],[0.3333333333333333,\"#9c179e\"],[0.4444444444444444,\"#bd3786\"],[0.5555555555555556,\"#d8576b\"],[0.6666666666666666,\"#ed7953\"],[0.7777777777777778,\"#fb9f3a\"],[0.8888888888888888,\"#fdca26\"],[1.0,\"#f0f921\"]]}],\"choropleth\":[{\"type\":\"choropleth\",\"colorbar\":{\"outlinewidth\":0,\"ticks\":\"\"}}],\"histogram2d\":[{\"type\":\"histogram2d\",\"colorbar\":{\"outlinewidth\":0,\"ticks\":\"\"},\"colorscale\":[[0.0,\"#0d0887\"],[0.1111111111111111,\"#46039f\"],[0.2222222222222222,\"#7201a8\"],[0.3333333333333333,\"#9c179e\"],[0.4444444444444444,\"#bd3786\"],[0.5555555555555556,\"#d8576b\"],[0.6666666666666666,\"#ed7953\"],[0.7777777777777778,\"#fb9f3a\"],[0.8888888888888888,\"#fdca26\"],[1.0,\"#f0f921\"]]}],\"heatmap\":[{\"type\":\"heatmap\",\"colorbar\":{\"outlinewidth\":0,\"ticks\":\"\"},\"colorscale\":[[0.0,\"#0d0887\"],[0.1111111111111111,\"#46039f\"],[0.2222222222222222,\"#7201a8\"],[0.3333333333333333,\"#9c179e\"],[0.4444444444444444,\"#bd3786\"],[0.5555555555555556,\"#d8576b\"],[0.6666666666666666,\"#ed7953\"],[0.7777777777777778,\"#fb9f3a\"],[0.8888888888888888,\"#fdca26\"],[1.0,\"#f0f921\"]]}],\"heatmapgl\":[{\"type\":\"heatmapgl\",\"colorbar\":{\"outlinewidth\":0,\"ticks\":\"\"},\"colorscale\":[[0.0,\"#0d0887\"],[0.1111111111111111,\"#46039f\"],[0.2222222222222222,\"#7201a8\"],[0.3333333333333333,\"#9c179e\"],[0.4444444444444444,\"#bd3786\"],[0.5555555555555556,\"#d8576b\"],[0.6666666666666666,\"#ed7953\"],[0.7777777777777778,\"#fb9f3a\"],[0.8888888888888888,\"#fdca26\"],[1.0,\"#f0f921\"]]}],\"contourcarpet\":[{\"type\":\"contourcarpet\",\"colorbar\":{\"outlinewidth\":0,\"ticks\":\"\"}}],\"contour\":[{\"type\":\"contour\",\"colorbar\":{\"outlinewidth\":0,\"ticks\":\"\"},\"colorscale\":[[0.0,\"#0d0887\"],[0.1111111111111111,\"#46039f\"],[0.2222222222222222,\"#7201a8\"],[0.3333333333333333,\"#9c179e\"],[0.4444444444444444,\"#bd3786\"],[0.5555555555555556,\"#d8576b\"],[0.6666666666666666,\"#ed7953\"],[0.7777777777777778,\"#fb9f3a\"],[0.8888888888888888,\"#fdca26\"],[1.0,\"#f0f921\"]]}],\"surface\":[{\"type\":\"surface\",\"colorbar\":{\"outlinewidth\":0,\"ticks\":\"\"},\"colorscale\":[[0.0,\"#0d0887\"],[0.1111111111111111,\"#46039f\"],[0.2222222222222222,\"#7201a8\"],[0.3333333333333333,\"#9c179e\"],[0.4444444444444444,\"#bd3786\"],[0.5555555555555556,\"#d8576b\"],[0.6666666666666666,\"#ed7953\"],[0.7777777777777778,\"#fb9f3a\"],[0.8888888888888888,\"#fdca26\"],[1.0,\"#f0f921\"]]}],\"mesh3d\":[{\"type\":\"mesh3d\",\"colorbar\":{\"outlinewidth\":0,\"ticks\":\"\"}}],\"scatter\":[{\"fillpattern\":{\"fillmode\":\"overlay\",\"size\":10,\"solidity\":0.2},\"type\":\"scatter\"}],\"parcoords\":[{\"type\":\"parcoords\",\"line\":{\"colorbar\":{\"outlinewidth\":0,\"ticks\":\"\"}}}],\"scatterpolargl\":[{\"type\":\"scatterpolargl\",\"marker\":{\"colorbar\":{\"outlinewidth\":0,\"ticks\":\"\"}}}],\"bar\":[{\"error_x\":{\"color\":\"#2a3f5f\"},\"error_y\":{\"color\":\"#2a3f5f\"},\"marker\":{\"line\":{\"color\":\"#E5ECF6\",\"width\":0.5},\"pattern\":{\"fillmode\":\"overlay\",\"size\":10,\"solidity\":0.2}},\"type\":\"bar\"}],\"scattergeo\":[{\"type\":\"scattergeo\",\"marker\":{\"colorbar\":{\"outlinewidth\":0,\"ticks\":\"\"}}}],\"scatterpolar\":[{\"type\":\"scatterpolar\",\"marker\":{\"colorbar\":{\"outlinewidth\":0,\"ticks\":\"\"}}}],\"histogram\":[{\"marker\":{\"pattern\":{\"fillmode\":\"overlay\",\"size\":10,\"solidity\":0.2}},\"type\":\"histogram\"}],\"scattergl\":[{\"type\":\"scattergl\",\"marker\":{\"colorbar\":{\"outlinewidth\":0,\"ticks\":\"\"}}}],\"scatter3d\":[{\"type\":\"scatter3d\",\"line\":{\"colorbar\":{\"outlinewidth\":0,\"ticks\":\"\"}},\"marker\":{\"colorbar\":{\"outlinewidth\":0,\"ticks\":\"\"}}}],\"scattermapbox\":[{\"type\":\"scattermapbox\",\"marker\":{\"colorbar\":{\"outlinewidth\":0,\"ticks\":\"\"}}}],\"scatterternary\":[{\"type\":\"scatterternary\",\"marker\":{\"colorbar\":{\"outlinewidth\":0,\"ticks\":\"\"}}}],\"scattercarpet\":[{\"type\":\"scattercarpet\",\"marker\":{\"colorbar\":{\"outlinewidth\":0,\"ticks\":\"\"}}}],\"carpet\":[{\"aaxis\":{\"endlinecolor\":\"#2a3f5f\",\"gridcolor\":\"white\",\"linecolor\":\"white\",\"minorgridcolor\":\"white\",\"startlinecolor\":\"#2a3f5f\"},\"baxis\":{\"endlinecolor\":\"#2a3f5f\",\"gridcolor\":\"white\",\"linecolor\":\"white\",\"minorgridcolor\":\"white\",\"startlinecolor\":\"#2a3f5f\"},\"type\":\"carpet\"}],\"table\":[{\"cells\":{\"fill\":{\"color\":\"#EBF0F8\"},\"line\":{\"color\":\"white\"}},\"header\":{\"fill\":{\"color\":\"#C8D4E3\"},\"line\":{\"color\":\"white\"}},\"type\":\"table\"}],\"barpolar\":[{\"marker\":{\"line\":{\"color\":\"#E5ECF6\",\"width\":0.5},\"pattern\":{\"fillmode\":\"overlay\",\"size\":10,\"solidity\":0.2}},\"type\":\"barpolar\"}],\"pie\":[{\"automargin\":true,\"type\":\"pie\"}]},\"layout\":{\"autotypenumbers\":\"strict\",\"colorway\":[\"#636efa\",\"#EF553B\",\"#00cc96\",\"#ab63fa\",\"#FFA15A\",\"#19d3f3\",\"#FF6692\",\"#B6E880\",\"#FF97FF\",\"#FECB52\"],\"font\":{\"color\":\"#2a3f5f\"},\"hovermode\":\"closest\",\"hoverlabel\":{\"align\":\"left\"},\"paper_bgcolor\":\"white\",\"plot_bgcolor\":\"#E5ECF6\",\"polar\":{\"bgcolor\":\"#E5ECF6\",\"angularaxis\":{\"gridcolor\":\"white\",\"linecolor\":\"white\",\"ticks\":\"\"},\"radialaxis\":{\"gridcolor\":\"white\",\"linecolor\":\"white\",\"ticks\":\"\"}},\"ternary\":{\"bgcolor\":\"#E5ECF6\",\"aaxis\":{\"gridcolor\":\"white\",\"linecolor\":\"white\",\"ticks\":\"\"},\"baxis\":{\"gridcolor\":\"white\",\"linecolor\":\"white\",\"ticks\":\"\"},\"caxis\":{\"gridcolor\":\"white\",\"linecolor\":\"white\",\"ticks\":\"\"}},\"coloraxis\":{\"colorbar\":{\"outlinewidth\":0,\"ticks\":\"\"}},\"colorscale\":{\"sequential\":[[0.0,\"#0d0887\"],[0.1111111111111111,\"#46039f\"],[0.2222222222222222,\"#7201a8\"],[0.3333333333333333,\"#9c179e\"],[0.4444444444444444,\"#bd3786\"],[0.5555555555555556,\"#d8576b\"],[0.6666666666666666,\"#ed7953\"],[0.7777777777777778,\"#fb9f3a\"],[0.8888888888888888,\"#fdca26\"],[1.0,\"#f0f921\"]],\"sequentialminus\":[[0.0,\"#0d0887\"],[0.1111111111111111,\"#46039f\"],[0.2222222222222222,\"#7201a8\"],[0.3333333333333333,\"#9c179e\"],[0.4444444444444444,\"#bd3786\"],[0.5555555555555556,\"#d8576b\"],[0.6666666666666666,\"#ed7953\"],[0.7777777777777778,\"#fb9f3a\"],[0.8888888888888888,\"#fdca26\"],[1.0,\"#f0f921\"]],\"diverging\":[[0,\"#8e0152\"],[0.1,\"#c51b7d\"],[0.2,\"#de77ae\"],[0.3,\"#f1b6da\"],[0.4,\"#fde0ef\"],[0.5,\"#f7f7f7\"],[0.6,\"#e6f5d0\"],[0.7,\"#b8e186\"],[0.8,\"#7fbc41\"],[0.9,\"#4d9221\"],[1,\"#276419\"]]},\"xaxis\":{\"gridcolor\":\"white\",\"linecolor\":\"white\",\"ticks\":\"\",\"title\":{\"standoff\":15},\"zerolinecolor\":\"white\",\"automargin\":true,\"zerolinewidth\":2},\"yaxis\":{\"gridcolor\":\"white\",\"linecolor\":\"white\",\"ticks\":\"\",\"title\":{\"standoff\":15},\"zerolinecolor\":\"white\",\"automargin\":true,\"zerolinewidth\":2},\"scene\":{\"xaxis\":{\"backgroundcolor\":\"#E5ECF6\",\"gridcolor\":\"white\",\"linecolor\":\"white\",\"showbackground\":true,\"ticks\":\"\",\"zerolinecolor\":\"white\",\"gridwidth\":2},\"yaxis\":{\"backgroundcolor\":\"#E5ECF6\",\"gridcolor\":\"white\",\"linecolor\":\"white\",\"showbackground\":true,\"ticks\":\"\",\"zerolinecolor\":\"white\",\"gridwidth\":2},\"zaxis\":{\"backgroundcolor\":\"#E5ECF6\",\"gridcolor\":\"white\",\"linecolor\":\"white\",\"showbackground\":true,\"ticks\":\"\",\"zerolinecolor\":\"white\",\"gridwidth\":2}},\"shapedefaults\":{\"line\":{\"color\":\"#2a3f5f\"}},\"annotationdefaults\":{\"arrowcolor\":\"#2a3f5f\",\"arrowhead\":0,\"arrowwidth\":1},\"geo\":{\"bgcolor\":\"white\",\"landcolor\":\"#E5ECF6\",\"subunitcolor\":\"white\",\"showland\":true,\"showlakes\":true,\"lakecolor\":\"white\"},\"title\":{\"x\":0.05},\"mapbox\":{\"style\":\"light\"}}},\"xaxis\":{\"anchor\":\"y\",\"domain\":[0.0,1.0],\"title\":{\"text\":\"Seconds\"}},\"yaxis\":{\"anchor\":\"x\",\"domain\":[0.0,1.0],\"title\":{\"text\":\"VAM/hr\"}},\"legend\":{\"title\":{\"text\":\"variable\"},\"tracegroupgap\":0},\"title\":{\"text\":\"Seconds VS VAM/hr\"},\"width\":1000,\"height\":800},                        {\"responsive\": true}                    ).then(function(){\n                            \nvar gd = document.getElementById('af64a0b6-7bca-41d6-9425-dc68b2205306');\nvar x = new MutationObserver(function (mutations, observer) {{\n        var display = window.getComputedStyle(gd).display;\n        if (!display || display === 'none') {{\n            console.log([gd, 'removed!']);\n            Plotly.purge(gd);\n            observer.disconnect();\n        }}\n}});\n\n// Listen for the removal of the full notebook cells\nvar notebookContainer = gd.closest('#notebook-container');\nif (notebookContainer) {{\n    x.observe(notebookContainer, {childList: true});\n}}\n\n// Listen for the clearing of the current output cell\nvar outputEl = gd.closest('.output');\nif (outputEl) {{\n    x.observe(outputEl, {childList: true});\n}}\n\n                        })                };                });            </script>        </div>"
     },
     "metadata": {},
     "output_type": "display_data"
    }
   ],
   "source": [
    "plot_vam(ind)"
   ],
   "metadata": {
    "collapsed": false
   }
  },
  {
   "cell_type": "code",
   "execution_count": 71,
   "outputs": [
    {
     "data": {
      "application/vnd.plotly.v1+json": {
       "data": [
        {
         "hovertemplate": "variable=slope_3-4<br>interval=%{x}<br>value=%{y}<extra></extra>",
         "legendgroup": "slope_3-4",
         "line": {
          "color": "rgb(247,251,255)",
          "dash": "solid"
         },
         "marker": {
          "symbol": "circle"
         },
         "mode": "lines",
         "name": "slope_3-4",
         "orientation": "v",
         "showlegend": true,
         "x": [
          60.0,
          120.0,
          180.0,
          240.0,
          300.0,
          360.0,
          420.0,
          480.0,
          540.0,
          600.0,
          660.0,
          720.0,
          780.0,
          840.0,
          900.0,
          960.0,
          1020.0,
          1080.0,
          1140.0
         ],
         "xaxis": "x",
         "y": [
          6.861842821807175,
          5.604754479293726,
          5.303464807233581,
          4.856774039815173,
          4.485556580813474,
          4.192941056879196,
          3.7666210594352916,
          3.353176355765543,
          3.4166565428697164,
          3.5227138021001423,
          3.415521493189428,
          3.0379658256411193,
          null,
          null,
          null,
          null,
          null,
          -0.3493497394673525,
          -0.3354739383842819
         ],
         "yaxis": "y",
         "type": "scatter"
        },
        {
         "hovertemplate": "variable=slope_4-5<br>interval=%{x}<br>value=%{y}<extra></extra>",
         "legendgroup": "slope_4-5",
         "line": {
          "color": "rgb(222,235,247)",
          "dash": "solid"
         },
         "marker": {
          "symbol": "circle"
         },
         "mode": "lines",
         "name": "slope_4-5",
         "orientation": "v",
         "showlegend": true,
         "x": [
          60.0,
          120.0,
          180.0,
          240.0,
          300.0,
          360.0,
          420.0,
          480.0,
          540.0,
          600.0,
          660.0,
          720.0,
          780.0,
          840.0,
          900.0,
          960.0,
          1020.0,
          1080.0,
          1140.0
         ],
         "xaxis": "x",
         "y": [
          7.5707656420447025,
          6.340750534003063,
          5.81849571492037,
          5.516791273904034,
          5.1347959882571805,
          4.791382814769639,
          4.740620353944007,
          4.690311137180897,
          4.485929358369473,
          4.191689552619959,
          4.0801470929605355,
          3.835964468280942,
          3.588728712882797,
          null,
          0.21649217975579066,
          1.8653371737996596,
          3.3406770253454012,
          0.7837395400191975,
          null
         ],
         "yaxis": "y",
         "type": "scatter"
        },
        {
         "hovertemplate": "variable=slope_5-6<br>interval=%{x}<br>value=%{y}<extra></extra>",
         "legendgroup": "slope_5-6",
         "line": {
          "color": "rgb(198,219,239)",
          "dash": "solid"
         },
         "marker": {
          "symbol": "circle"
         },
         "mode": "lines",
         "name": "slope_5-6",
         "orientation": "v",
         "showlegend": true,
         "x": [
          60.0,
          120.0,
          180.0,
          240.0,
          300.0,
          360.0,
          420.0,
          480.0,
          540.0,
          600.0,
          660.0,
          720.0,
          780.0,
          840.0,
          900.0,
          960.0,
          1020.0,
          1080.0,
          1140.0
         ],
         "xaxis": "x",
         "y": [
          8.23007408479484,
          6.9535268383160656,
          6.35119918078727,
          6.068677397756306,
          5.794034070831475,
          5.636157846463725,
          5.67268218208732,
          5.530114726243997,
          5.2375616585531795,
          4.816551117205962,
          4.617839530779943,
          4.549376092126829,
          4.4857424765723986,
          4.585624718695099,
          4.74947403775806,
          4.291338813510307,
          3.587920053078419,
          null,
          null
         ],
         "yaxis": "y",
         "type": "scatter"
        },
        {
         "hovertemplate": "variable=slope_6-7<br>interval=%{x}<br>value=%{y}<extra></extra>",
         "legendgroup": "slope_6-7",
         "line": {
          "color": "rgb(158,202,225)",
          "dash": "solid"
         },
         "marker": {
          "symbol": "circle"
         },
         "mode": "lines",
         "name": "slope_6-7",
         "orientation": "v",
         "showlegend": true,
         "x": [
          60.0,
          120.0,
          180.0,
          240.0,
          300.0,
          360.0,
          420.0,
          480.0,
          540.0,
          600.0,
          660.0,
          720.0,
          780.0,
          840.0,
          900.0,
          960.0,
          1020.0,
          1080.0,
          1140.0
         ],
         "xaxis": "x",
         "y": [
          8.489286391725349,
          7.420396686549014,
          6.76538209751385,
          6.5280272916952615,
          6.4436247974178755,
          6.516699933573483,
          6.373944080260189,
          6.0786583140163515,
          5.823172404044461,
          5.636927771499878,
          5.399078599308334,
          5.555247575685802,
          5.751352386070486,
          5.040935936009131,
          null,
          null,
          null,
          null,
          null
         ],
         "yaxis": "y",
         "type": "scatter"
        },
        {
         "hovertemplate": "variable=slope_7-8<br>interval=%{x}<br>value=%{y}<extra></extra>",
         "legendgroup": "slope_7-8",
         "line": {
          "color": "rgb(107,174,214)",
          "dash": "solid"
         },
         "marker": {
          "symbol": "circle"
         },
         "mode": "lines",
         "name": "slope_7-8",
         "orientation": "v",
         "showlegend": true,
         "x": [
          60.0,
          120.0,
          180.0,
          240.0,
          300.0,
          360.0,
          420.0,
          480.0,
          540.0,
          600.0,
          660.0,
          720.0,
          780.0,
          840.0,
          900.0,
          960.0,
          1020.0,
          1080.0,
          1140.0
         ],
         "xaxis": "x",
         "y": [
          8.545476238844493,
          8.097932788602263,
          7.4433892875869585,
          6.962449421339879,
          7.080714057766926,
          7.04794688744237,
          6.812873401375663,
          6.579169724660795,
          6.4265596763931665,
          6.338059298658015,
          6.507485638033976,
          6.246871152686015,
          null,
          null,
          null,
          null,
          null,
          null,
          null
         ],
         "yaxis": "y",
         "type": "scatter"
        },
        {
         "hovertemplate": "variable=slope_8-9<br>interval=%{x}<br>value=%{y}<extra></extra>",
         "legendgroup": "slope_8-9",
         "line": {
          "color": "rgb(66,146,198)",
          "dash": "solid"
         },
         "marker": {
          "symbol": "circle"
         },
         "mode": "lines",
         "name": "slope_8-9",
         "orientation": "v",
         "showlegend": true,
         "x": [
          60.0,
          120.0,
          180.0,
          240.0,
          300.0,
          360.0,
          420.0,
          480.0,
          540.0,
          600.0,
          660.0,
          720.0,
          780.0,
          840.0,
          900.0,
          960.0,
          1020.0,
          1080.0,
          1140.0
         ],
         "xaxis": "x",
         "y": [
          8.842797310484867,
          8.496131946869877,
          7.903236754874642,
          7.796425118098738,
          7.752143508072904,
          7.3990734309162125,
          7.247993919893569,
          7.121015108242323,
          7.076004870486101,
          7.3060120483972435,
          6.769599408713934,
          null,
          null,
          null,
          null,
          null,
          null,
          null,
          null
         ],
         "yaxis": "y",
         "type": "scatter"
        },
        {
         "hovertemplate": "variable=slope_9-10<br>interval=%{x}<br>value=%{y}<extra></extra>",
         "legendgroup": "slope_9-10",
         "line": {
          "color": "rgb(33,113,181)",
          "dash": "solid"
         },
         "marker": {
          "symbol": "circle"
         },
         "mode": "lines",
         "name": "slope_9-10",
         "orientation": "v",
         "showlegend": true,
         "x": [
          60.0,
          120.0,
          180.0,
          240.0,
          300.0,
          360.0,
          420.0,
          480.0,
          540.0,
          600.0,
          660.0,
          720.0,
          780.0,
          840.0,
          900.0,
          960.0,
          1020.0,
          1080.0,
          1140.0
         ],
         "xaxis": "x",
         "y": [
          9.526953154640713,
          8.691524093621242,
          8.339724498927746,
          8.254822808841306,
          8.198530708246016,
          7.86205617643184,
          7.647691199487801,
          7.648030417643422,
          7.772117572394565,
          null,
          null,
          null,
          null,
          null,
          null,
          null,
          null,
          null,
          null
         ],
         "yaxis": "y",
         "type": "scatter"
        },
        {
         "hovertemplate": "variable=slope_3-4<br>interval=%{x}<br>value=%{y}<extra></extra>",
         "legendgroup": "slope_3-4",
         "line": {
          "color": "rgb(247,252,245)",
          "dash": "solid"
         },
         "marker": {
          "symbol": "circle"
         },
         "mode": "lines",
         "name": "slope_3-4",
         "orientation": "v",
         "showlegend": true,
         "x": [
          60.0,
          120.0,
          180.0,
          240.0,
          300.0,
          360.0,
          420.0,
          480.0,
          540.0,
          600.0,
          660.0,
          720.0,
          780.0,
          840.0,
          900.0,
          960.0,
          1020.0,
          1080.0,
          1140.0
         ],
         "xaxis": "x",
         "y": [
          7.5722339304177115,
          6.093316793523018,
          5.774678728149543,
          4.291668292189617,
          3.758662957292384,
          3.6649442740566314,
          3.6955363899909535,
          3.6379620989149717,
          3.427743004874155,
          3.4953946455465923,
          3.4941670745682814,
          3.5155063073763255,
          3.617941104402632,
          3.729094661152428,
          3.7147363882409095,
          3.7268894421443557,
          3.551270336131973,
          3.395909993394201,
          3.295337506662332
         ],
         "yaxis": "y",
         "type": "scatter"
        },
        {
         "hovertemplate": "variable=slope_4-5<br>interval=%{x}<br>value=%{y}<extra></extra>",
         "legendgroup": "slope_4-5",
         "line": {
          "color": "rgb(229,245,224)",
          "dash": "solid"
         },
         "marker": {
          "symbol": "circle"
         },
         "mode": "lines",
         "name": "slope_4-5",
         "orientation": "v",
         "showlegend": true,
         "x": [
          60.0,
          120.0,
          180.0,
          240.0,
          300.0,
          360.0,
          420.0,
          480.0,
          540.0,
          600.0,
          660.0,
          720.0,
          780.0,
          840.0,
          900.0,
          960.0,
          1020.0,
          1080.0,
          1140.0
         ],
         "xaxis": "x",
         "y": [
          8.983083991145117,
          5.659302392628667,
          5.632765546303916,
          5.332979036249872,
          5.277808497668449,
          4.889815122899161,
          4.312912561307167,
          4.3451857293065155,
          4.4301928667611685,
          4.465594159155045,
          4.646914196638472,
          4.69971695951577,
          4.745737165973857,
          4.517635523364943,
          4.185361102923074,
          3.9285145189606143,
          null,
          null,
          null
         ],
         "yaxis": "y",
         "type": "scatter"
        },
        {
         "hovertemplate": "variable=slope_5-6<br>interval=%{x}<br>value=%{y}<extra></extra>",
         "legendgroup": "slope_5-6",
         "line": {
          "color": "rgb(199,233,192)",
          "dash": "solid"
         },
         "marker": {
          "symbol": "circle"
         },
         "mode": "lines",
         "name": "slope_5-6",
         "orientation": "v",
         "showlegend": true,
         "x": [
          60.0,
          120.0,
          180.0,
          240.0,
          300.0,
          360.0,
          420.0,
          480.0,
          540.0,
          600.0,
          660.0,
          720.0,
          780.0,
          840.0,
          900.0,
          960.0,
          1020.0,
          1080.0,
          1140.0
         ],
         "xaxis": "x",
         "y": [
          9.329130137504485,
          6.482608600562992,
          5.675303653358138,
          5.7411560132055275,
          5.755547187697505,
          5.755686414160272,
          5.721768946862722,
          5.809778129421214,
          5.617097176939057,
          5.676636218718397,
          5.759293351694821,
          5.295261361268662,
          4.819611978644365,
          null,
          null,
          null,
          null,
          null,
          null
         ],
         "yaxis": "y",
         "type": "scatter"
        },
        {
         "hovertemplate": "variable=slope_6-7<br>interval=%{x}<br>value=%{y}<extra></extra>",
         "legendgroup": "slope_6-7",
         "line": {
          "color": "rgb(161,217,155)",
          "dash": "solid"
         },
         "marker": {
          "symbol": "circle"
         },
         "mode": "lines",
         "name": "slope_6-7",
         "orientation": "v",
         "showlegend": true,
         "x": [
          60.0,
          120.0,
          180.0,
          240.0,
          300.0,
          360.0,
          420.0,
          480.0,
          540.0,
          600.0,
          660.0,
          720.0,
          780.0,
          840.0,
          900.0,
          960.0,
          1020.0,
          1080.0,
          1140.0
         ],
         "xaxis": "x",
         "y": [
          9.008942953459558,
          7.64478014802454,
          6.753194117558209,
          6.588097484837727,
          6.212595893017557,
          6.245768468163284,
          6.258292126514931,
          6.246254604145865,
          6.38319306295748,
          6.314995155904818,
          5.764575080488712,
          null,
          null,
          null,
          null,
          null,
          null,
          null,
          null
         ],
         "yaxis": "y",
         "type": "scatter"
        },
        {
         "hovertemplate": "variable=slope_7-8<br>interval=%{x}<br>value=%{y}<extra></extra>",
         "legendgroup": "slope_7-8",
         "line": {
          "color": "rgb(116,196,118)",
          "dash": "solid"
         },
         "marker": {
          "symbol": "circle"
         },
         "mode": "lines",
         "name": "slope_7-8",
         "orientation": "v",
         "showlegend": true,
         "x": [
          60.0,
          120.0,
          180.0,
          240.0,
          300.0,
          360.0,
          420.0,
          480.0,
          540.0,
          600.0,
          660.0,
          720.0,
          780.0,
          840.0,
          900.0,
          960.0,
          1020.0,
          1080.0,
          1140.0
         ],
         "xaxis": "x",
         "y": [
          9.156414171656396,
          7.469245276093988,
          7.185328756150917,
          7.168774472572645,
          6.957934061085458,
          7.035733603236897,
          6.590566593898055,
          null,
          null,
          null,
          null,
          null,
          null,
          null,
          null,
          null,
          null,
          null,
          null
         ],
         "yaxis": "y",
         "type": "scatter"
        },
        {
         "hovertemplate": "variable=slope_8-9<br>interval=%{x}<br>value=%{y}<extra></extra>",
         "legendgroup": "slope_8-9",
         "line": {
          "color": "rgb(65,171,93)",
          "dash": "solid"
         },
         "marker": {
          "symbol": "circle"
         },
         "mode": "lines",
         "name": "slope_8-9",
         "orientation": "v",
         "showlegend": true,
         "x": [
          60.0,
          120.0,
          180.0,
          240.0,
          300.0,
          360.0,
          420.0,
          480.0,
          540.0,
          600.0,
          660.0,
          720.0,
          780.0,
          840.0,
          900.0,
          960.0,
          1020.0,
          1080.0,
          1140.0
         ],
         "xaxis": "x",
         "y": [
          9.646769443138545,
          7.85805206844553,
          7.124520165097953,
          7.09069882076828,
          6.983536659624031,
          null,
          null,
          null,
          null,
          null,
          null,
          null,
          null,
          null,
          null,
          null,
          null,
          null,
          null
         ],
         "yaxis": "y",
         "type": "scatter"
        },
        {
         "hovertemplate": "variable=slope_9-10<br>interval=%{x}<br>value=%{y}<extra></extra>",
         "legendgroup": "slope_9-10",
         "line": {
          "color": "rgb(35,139,69)",
          "dash": "solid"
         },
         "marker": {
          "symbol": "circle"
         },
         "mode": "lines",
         "name": "slope_9-10",
         "orientation": "v",
         "showlegend": true,
         "x": [
          60.0,
          120.0,
          180.0,
          240.0,
          300.0,
          360.0,
          420.0,
          480.0,
          540.0,
          600.0,
          660.0,
          720.0,
          780.0,
          840.0,
          900.0,
          960.0,
          1020.0,
          1080.0,
          1140.0
         ],
         "xaxis": "x",
         "y": [
          7.863190100177676,
          null,
          null,
          null,
          null,
          null,
          null,
          null,
          null,
          null,
          null,
          null,
          null,
          null,
          null,
          null,
          null,
          null,
          null
         ],
         "yaxis": "y",
         "type": "scatter"
        }
       ],
       "layout": {
        "template": {
         "data": {
          "histogram2dcontour": [
           {
            "type": "histogram2dcontour",
            "colorbar": {
             "outlinewidth": 0,
             "ticks": ""
            },
            "colorscale": [
             [
              0.0,
              "#0d0887"
             ],
             [
              0.1111111111111111,
              "#46039f"
             ],
             [
              0.2222222222222222,
              "#7201a8"
             ],
             [
              0.3333333333333333,
              "#9c179e"
             ],
             [
              0.4444444444444444,
              "#bd3786"
             ],
             [
              0.5555555555555556,
              "#d8576b"
             ],
             [
              0.6666666666666666,
              "#ed7953"
             ],
             [
              0.7777777777777778,
              "#fb9f3a"
             ],
             [
              0.8888888888888888,
              "#fdca26"
             ],
             [
              1.0,
              "#f0f921"
             ]
            ]
           }
          ],
          "choropleth": [
           {
            "type": "choropleth",
            "colorbar": {
             "outlinewidth": 0,
             "ticks": ""
            }
           }
          ],
          "histogram2d": [
           {
            "type": "histogram2d",
            "colorbar": {
             "outlinewidth": 0,
             "ticks": ""
            },
            "colorscale": [
             [
              0.0,
              "#0d0887"
             ],
             [
              0.1111111111111111,
              "#46039f"
             ],
             [
              0.2222222222222222,
              "#7201a8"
             ],
             [
              0.3333333333333333,
              "#9c179e"
             ],
             [
              0.4444444444444444,
              "#bd3786"
             ],
             [
              0.5555555555555556,
              "#d8576b"
             ],
             [
              0.6666666666666666,
              "#ed7953"
             ],
             [
              0.7777777777777778,
              "#fb9f3a"
             ],
             [
              0.8888888888888888,
              "#fdca26"
             ],
             [
              1.0,
              "#f0f921"
             ]
            ]
           }
          ],
          "heatmap": [
           {
            "type": "heatmap",
            "colorbar": {
             "outlinewidth": 0,
             "ticks": ""
            },
            "colorscale": [
             [
              0.0,
              "#0d0887"
             ],
             [
              0.1111111111111111,
              "#46039f"
             ],
             [
              0.2222222222222222,
              "#7201a8"
             ],
             [
              0.3333333333333333,
              "#9c179e"
             ],
             [
              0.4444444444444444,
              "#bd3786"
             ],
             [
              0.5555555555555556,
              "#d8576b"
             ],
             [
              0.6666666666666666,
              "#ed7953"
             ],
             [
              0.7777777777777778,
              "#fb9f3a"
             ],
             [
              0.8888888888888888,
              "#fdca26"
             ],
             [
              1.0,
              "#f0f921"
             ]
            ]
           }
          ],
          "heatmapgl": [
           {
            "type": "heatmapgl",
            "colorbar": {
             "outlinewidth": 0,
             "ticks": ""
            },
            "colorscale": [
             [
              0.0,
              "#0d0887"
             ],
             [
              0.1111111111111111,
              "#46039f"
             ],
             [
              0.2222222222222222,
              "#7201a8"
             ],
             [
              0.3333333333333333,
              "#9c179e"
             ],
             [
              0.4444444444444444,
              "#bd3786"
             ],
             [
              0.5555555555555556,
              "#d8576b"
             ],
             [
              0.6666666666666666,
              "#ed7953"
             ],
             [
              0.7777777777777778,
              "#fb9f3a"
             ],
             [
              0.8888888888888888,
              "#fdca26"
             ],
             [
              1.0,
              "#f0f921"
             ]
            ]
           }
          ],
          "contourcarpet": [
           {
            "type": "contourcarpet",
            "colorbar": {
             "outlinewidth": 0,
             "ticks": ""
            }
           }
          ],
          "contour": [
           {
            "type": "contour",
            "colorbar": {
             "outlinewidth": 0,
             "ticks": ""
            },
            "colorscale": [
             [
              0.0,
              "#0d0887"
             ],
             [
              0.1111111111111111,
              "#46039f"
             ],
             [
              0.2222222222222222,
              "#7201a8"
             ],
             [
              0.3333333333333333,
              "#9c179e"
             ],
             [
              0.4444444444444444,
              "#bd3786"
             ],
             [
              0.5555555555555556,
              "#d8576b"
             ],
             [
              0.6666666666666666,
              "#ed7953"
             ],
             [
              0.7777777777777778,
              "#fb9f3a"
             ],
             [
              0.8888888888888888,
              "#fdca26"
             ],
             [
              1.0,
              "#f0f921"
             ]
            ]
           }
          ],
          "surface": [
           {
            "type": "surface",
            "colorbar": {
             "outlinewidth": 0,
             "ticks": ""
            },
            "colorscale": [
             [
              0.0,
              "#0d0887"
             ],
             [
              0.1111111111111111,
              "#46039f"
             ],
             [
              0.2222222222222222,
              "#7201a8"
             ],
             [
              0.3333333333333333,
              "#9c179e"
             ],
             [
              0.4444444444444444,
              "#bd3786"
             ],
             [
              0.5555555555555556,
              "#d8576b"
             ],
             [
              0.6666666666666666,
              "#ed7953"
             ],
             [
              0.7777777777777778,
              "#fb9f3a"
             ],
             [
              0.8888888888888888,
              "#fdca26"
             ],
             [
              1.0,
              "#f0f921"
             ]
            ]
           }
          ],
          "mesh3d": [
           {
            "type": "mesh3d",
            "colorbar": {
             "outlinewidth": 0,
             "ticks": ""
            }
           }
          ],
          "scatter": [
           {
            "fillpattern": {
             "fillmode": "overlay",
             "size": 10,
             "solidity": 0.2
            },
            "type": "scatter"
           }
          ],
          "parcoords": [
           {
            "type": "parcoords",
            "line": {
             "colorbar": {
              "outlinewidth": 0,
              "ticks": ""
             }
            }
           }
          ],
          "scatterpolargl": [
           {
            "type": "scatterpolargl",
            "marker": {
             "colorbar": {
              "outlinewidth": 0,
              "ticks": ""
             }
            }
           }
          ],
          "bar": [
           {
            "error_x": {
             "color": "#2a3f5f"
            },
            "error_y": {
             "color": "#2a3f5f"
            },
            "marker": {
             "line": {
              "color": "#E5ECF6",
              "width": 0.5
             },
             "pattern": {
              "fillmode": "overlay",
              "size": 10,
              "solidity": 0.2
             }
            },
            "type": "bar"
           }
          ],
          "scattergeo": [
           {
            "type": "scattergeo",
            "marker": {
             "colorbar": {
              "outlinewidth": 0,
              "ticks": ""
             }
            }
           }
          ],
          "scatterpolar": [
           {
            "type": "scatterpolar",
            "marker": {
             "colorbar": {
              "outlinewidth": 0,
              "ticks": ""
             }
            }
           }
          ],
          "histogram": [
           {
            "marker": {
             "pattern": {
              "fillmode": "overlay",
              "size": 10,
              "solidity": 0.2
             }
            },
            "type": "histogram"
           }
          ],
          "scattergl": [
           {
            "type": "scattergl",
            "marker": {
             "colorbar": {
              "outlinewidth": 0,
              "ticks": ""
             }
            }
           }
          ],
          "scatter3d": [
           {
            "type": "scatter3d",
            "line": {
             "colorbar": {
              "outlinewidth": 0,
              "ticks": ""
             }
            },
            "marker": {
             "colorbar": {
              "outlinewidth": 0,
              "ticks": ""
             }
            }
           }
          ],
          "scattermapbox": [
           {
            "type": "scattermapbox",
            "marker": {
             "colorbar": {
              "outlinewidth": 0,
              "ticks": ""
             }
            }
           }
          ],
          "scatterternary": [
           {
            "type": "scatterternary",
            "marker": {
             "colorbar": {
              "outlinewidth": 0,
              "ticks": ""
             }
            }
           }
          ],
          "scattercarpet": [
           {
            "type": "scattercarpet",
            "marker": {
             "colorbar": {
              "outlinewidth": 0,
              "ticks": ""
             }
            }
           }
          ],
          "carpet": [
           {
            "aaxis": {
             "endlinecolor": "#2a3f5f",
             "gridcolor": "white",
             "linecolor": "white",
             "minorgridcolor": "white",
             "startlinecolor": "#2a3f5f"
            },
            "baxis": {
             "endlinecolor": "#2a3f5f",
             "gridcolor": "white",
             "linecolor": "white",
             "minorgridcolor": "white",
             "startlinecolor": "#2a3f5f"
            },
            "type": "carpet"
           }
          ],
          "table": [
           {
            "cells": {
             "fill": {
              "color": "#EBF0F8"
             },
             "line": {
              "color": "white"
             }
            },
            "header": {
             "fill": {
              "color": "#C8D4E3"
             },
             "line": {
              "color": "white"
             }
            },
            "type": "table"
           }
          ],
          "barpolar": [
           {
            "marker": {
             "line": {
              "color": "#E5ECF6",
              "width": 0.5
             },
             "pattern": {
              "fillmode": "overlay",
              "size": 10,
              "solidity": 0.2
             }
            },
            "type": "barpolar"
           }
          ],
          "pie": [
           {
            "automargin": true,
            "type": "pie"
           }
          ]
         },
         "layout": {
          "autotypenumbers": "strict",
          "colorway": [
           "#636efa",
           "#EF553B",
           "#00cc96",
           "#ab63fa",
           "#FFA15A",
           "#19d3f3",
           "#FF6692",
           "#B6E880",
           "#FF97FF",
           "#FECB52"
          ],
          "font": {
           "color": "#2a3f5f"
          },
          "hovermode": "closest",
          "hoverlabel": {
           "align": "left"
          },
          "paper_bgcolor": "white",
          "plot_bgcolor": "#E5ECF6",
          "polar": {
           "bgcolor": "#E5ECF6",
           "angularaxis": {
            "gridcolor": "white",
            "linecolor": "white",
            "ticks": ""
           },
           "radialaxis": {
            "gridcolor": "white",
            "linecolor": "white",
            "ticks": ""
           }
          },
          "ternary": {
           "bgcolor": "#E5ECF6",
           "aaxis": {
            "gridcolor": "white",
            "linecolor": "white",
            "ticks": ""
           },
           "baxis": {
            "gridcolor": "white",
            "linecolor": "white",
            "ticks": ""
           },
           "caxis": {
            "gridcolor": "white",
            "linecolor": "white",
            "ticks": ""
           }
          },
          "coloraxis": {
           "colorbar": {
            "outlinewidth": 0,
            "ticks": ""
           }
          },
          "colorscale": {
           "sequential": [
            [
             0.0,
             "#0d0887"
            ],
            [
             0.1111111111111111,
             "#46039f"
            ],
            [
             0.2222222222222222,
             "#7201a8"
            ],
            [
             0.3333333333333333,
             "#9c179e"
            ],
            [
             0.4444444444444444,
             "#bd3786"
            ],
            [
             0.5555555555555556,
             "#d8576b"
            ],
            [
             0.6666666666666666,
             "#ed7953"
            ],
            [
             0.7777777777777778,
             "#fb9f3a"
            ],
            [
             0.8888888888888888,
             "#fdca26"
            ],
            [
             1.0,
             "#f0f921"
            ]
           ],
           "sequentialminus": [
            [
             0.0,
             "#0d0887"
            ],
            [
             0.1111111111111111,
             "#46039f"
            ],
            [
             0.2222222222222222,
             "#7201a8"
            ],
            [
             0.3333333333333333,
             "#9c179e"
            ],
            [
             0.4444444444444444,
             "#bd3786"
            ],
            [
             0.5555555555555556,
             "#d8576b"
            ],
            [
             0.6666666666666666,
             "#ed7953"
            ],
            [
             0.7777777777777778,
             "#fb9f3a"
            ],
            [
             0.8888888888888888,
             "#fdca26"
            ],
            [
             1.0,
             "#f0f921"
            ]
           ],
           "diverging": [
            [
             0,
             "#8e0152"
            ],
            [
             0.1,
             "#c51b7d"
            ],
            [
             0.2,
             "#de77ae"
            ],
            [
             0.3,
             "#f1b6da"
            ],
            [
             0.4,
             "#fde0ef"
            ],
            [
             0.5,
             "#f7f7f7"
            ],
            [
             0.6,
             "#e6f5d0"
            ],
            [
             0.7,
             "#b8e186"
            ],
            [
             0.8,
             "#7fbc41"
            ],
            [
             0.9,
             "#4d9221"
            ],
            [
             1,
             "#276419"
            ]
           ]
          },
          "xaxis": {
           "gridcolor": "white",
           "linecolor": "white",
           "ticks": "",
           "title": {
            "standoff": 15
           },
           "zerolinecolor": "white",
           "automargin": true,
           "zerolinewidth": 2
          },
          "yaxis": {
           "gridcolor": "white",
           "linecolor": "white",
           "ticks": "",
           "title": {
            "standoff": 15
           },
           "zerolinecolor": "white",
           "automargin": true,
           "zerolinewidth": 2
          },
          "scene": {
           "xaxis": {
            "backgroundcolor": "#E5ECF6",
            "gridcolor": "white",
            "linecolor": "white",
            "showbackground": true,
            "ticks": "",
            "zerolinecolor": "white",
            "gridwidth": 2
           },
           "yaxis": {
            "backgroundcolor": "#E5ECF6",
            "gridcolor": "white",
            "linecolor": "white",
            "showbackground": true,
            "ticks": "",
            "zerolinecolor": "white",
            "gridwidth": 2
           },
           "zaxis": {
            "backgroundcolor": "#E5ECF6",
            "gridcolor": "white",
            "linecolor": "white",
            "showbackground": true,
            "ticks": "",
            "zerolinecolor": "white",
            "gridwidth": 2
           }
          },
          "shapedefaults": {
           "line": {
            "color": "#2a3f5f"
           }
          },
          "annotationdefaults": {
           "arrowcolor": "#2a3f5f",
           "arrowhead": 0,
           "arrowwidth": 1
          },
          "geo": {
           "bgcolor": "white",
           "landcolor": "#E5ECF6",
           "subunitcolor": "white",
           "showland": true,
           "showlakes": true,
           "lakecolor": "white"
          },
          "title": {
           "x": 0.05
          },
          "mapbox": {
           "style": "light"
          }
         }
        },
        "width": 1000,
        "height": 800
       },
       "config": {
        "plotlyServerURL": "https://plot.ly"
       }
      },
      "text/html": "<div>                            <div id=\"7e6c47d6-c209-49bb-ba46-5055011baebd\" class=\"plotly-graph-div\" style=\"height:800px; width:1000px;\"></div>            <script type=\"text/javascript\">                require([\"plotly\"], function(Plotly) {                    window.PLOTLYENV=window.PLOTLYENV || {};                                    if (document.getElementById(\"7e6c47d6-c209-49bb-ba46-5055011baebd\")) {                    Plotly.newPlot(                        \"7e6c47d6-c209-49bb-ba46-5055011baebd\",                        [{\"hovertemplate\":\"variable=slope_3-4<br>interval=%{x}<br>value=%{y}<extra></extra>\",\"legendgroup\":\"slope_3-4\",\"line\":{\"color\":\"rgb(247,251,255)\",\"dash\":\"solid\"},\"marker\":{\"symbol\":\"circle\"},\"mode\":\"lines\",\"name\":\"slope_3-4\",\"orientation\":\"v\",\"showlegend\":true,\"x\":[60.0,120.0,180.0,240.0,300.0,360.0,420.0,480.0,540.0,600.0,660.0,720.0,780.0,840.0,900.0,960.0,1020.0,1080.0,1140.0],\"xaxis\":\"x\",\"y\":[6.861842821807175,5.604754479293726,5.303464807233581,4.856774039815173,4.485556580813474,4.192941056879196,3.7666210594352916,3.353176355765543,3.4166565428697164,3.5227138021001423,3.415521493189428,3.0379658256411193,null,null,null,null,null,-0.3493497394673525,-0.3354739383842819],\"yaxis\":\"y\",\"type\":\"scatter\"},{\"hovertemplate\":\"variable=slope_4-5<br>interval=%{x}<br>value=%{y}<extra></extra>\",\"legendgroup\":\"slope_4-5\",\"line\":{\"color\":\"rgb(222,235,247)\",\"dash\":\"solid\"},\"marker\":{\"symbol\":\"circle\"},\"mode\":\"lines\",\"name\":\"slope_4-5\",\"orientation\":\"v\",\"showlegend\":true,\"x\":[60.0,120.0,180.0,240.0,300.0,360.0,420.0,480.0,540.0,600.0,660.0,720.0,780.0,840.0,900.0,960.0,1020.0,1080.0,1140.0],\"xaxis\":\"x\",\"y\":[7.5707656420447025,6.340750534003063,5.81849571492037,5.516791273904034,5.1347959882571805,4.791382814769639,4.740620353944007,4.690311137180897,4.485929358369473,4.191689552619959,4.0801470929605355,3.835964468280942,3.588728712882797,null,0.21649217975579066,1.8653371737996596,3.3406770253454012,0.7837395400191975,null],\"yaxis\":\"y\",\"type\":\"scatter\"},{\"hovertemplate\":\"variable=slope_5-6<br>interval=%{x}<br>value=%{y}<extra></extra>\",\"legendgroup\":\"slope_5-6\",\"line\":{\"color\":\"rgb(198,219,239)\",\"dash\":\"solid\"},\"marker\":{\"symbol\":\"circle\"},\"mode\":\"lines\",\"name\":\"slope_5-6\",\"orientation\":\"v\",\"showlegend\":true,\"x\":[60.0,120.0,180.0,240.0,300.0,360.0,420.0,480.0,540.0,600.0,660.0,720.0,780.0,840.0,900.0,960.0,1020.0,1080.0,1140.0],\"xaxis\":\"x\",\"y\":[8.23007408479484,6.9535268383160656,6.35119918078727,6.068677397756306,5.794034070831475,5.636157846463725,5.67268218208732,5.530114726243997,5.2375616585531795,4.816551117205962,4.617839530779943,4.549376092126829,4.4857424765723986,4.585624718695099,4.74947403775806,4.291338813510307,3.587920053078419,null,null],\"yaxis\":\"y\",\"type\":\"scatter\"},{\"hovertemplate\":\"variable=slope_6-7<br>interval=%{x}<br>value=%{y}<extra></extra>\",\"legendgroup\":\"slope_6-7\",\"line\":{\"color\":\"rgb(158,202,225)\",\"dash\":\"solid\"},\"marker\":{\"symbol\":\"circle\"},\"mode\":\"lines\",\"name\":\"slope_6-7\",\"orientation\":\"v\",\"showlegend\":true,\"x\":[60.0,120.0,180.0,240.0,300.0,360.0,420.0,480.0,540.0,600.0,660.0,720.0,780.0,840.0,900.0,960.0,1020.0,1080.0,1140.0],\"xaxis\":\"x\",\"y\":[8.489286391725349,7.420396686549014,6.76538209751385,6.5280272916952615,6.4436247974178755,6.516699933573483,6.373944080260189,6.0786583140163515,5.823172404044461,5.636927771499878,5.399078599308334,5.555247575685802,5.751352386070486,5.040935936009131,null,null,null,null,null],\"yaxis\":\"y\",\"type\":\"scatter\"},{\"hovertemplate\":\"variable=slope_7-8<br>interval=%{x}<br>value=%{y}<extra></extra>\",\"legendgroup\":\"slope_7-8\",\"line\":{\"color\":\"rgb(107,174,214)\",\"dash\":\"solid\"},\"marker\":{\"symbol\":\"circle\"},\"mode\":\"lines\",\"name\":\"slope_7-8\",\"orientation\":\"v\",\"showlegend\":true,\"x\":[60.0,120.0,180.0,240.0,300.0,360.0,420.0,480.0,540.0,600.0,660.0,720.0,780.0,840.0,900.0,960.0,1020.0,1080.0,1140.0],\"xaxis\":\"x\",\"y\":[8.545476238844493,8.097932788602263,7.4433892875869585,6.962449421339879,7.080714057766926,7.04794688744237,6.812873401375663,6.579169724660795,6.4265596763931665,6.338059298658015,6.507485638033976,6.246871152686015,null,null,null,null,null,null,null],\"yaxis\":\"y\",\"type\":\"scatter\"},{\"hovertemplate\":\"variable=slope_8-9<br>interval=%{x}<br>value=%{y}<extra></extra>\",\"legendgroup\":\"slope_8-9\",\"line\":{\"color\":\"rgb(66,146,198)\",\"dash\":\"solid\"},\"marker\":{\"symbol\":\"circle\"},\"mode\":\"lines\",\"name\":\"slope_8-9\",\"orientation\":\"v\",\"showlegend\":true,\"x\":[60.0,120.0,180.0,240.0,300.0,360.0,420.0,480.0,540.0,600.0,660.0,720.0,780.0,840.0,900.0,960.0,1020.0,1080.0,1140.0],\"xaxis\":\"x\",\"y\":[8.842797310484867,8.496131946869877,7.903236754874642,7.796425118098738,7.752143508072904,7.3990734309162125,7.247993919893569,7.121015108242323,7.076004870486101,7.3060120483972435,6.769599408713934,null,null,null,null,null,null,null,null],\"yaxis\":\"y\",\"type\":\"scatter\"},{\"hovertemplate\":\"variable=slope_9-10<br>interval=%{x}<br>value=%{y}<extra></extra>\",\"legendgroup\":\"slope_9-10\",\"line\":{\"color\":\"rgb(33,113,181)\",\"dash\":\"solid\"},\"marker\":{\"symbol\":\"circle\"},\"mode\":\"lines\",\"name\":\"slope_9-10\",\"orientation\":\"v\",\"showlegend\":true,\"x\":[60.0,120.0,180.0,240.0,300.0,360.0,420.0,480.0,540.0,600.0,660.0,720.0,780.0,840.0,900.0,960.0,1020.0,1080.0,1140.0],\"xaxis\":\"x\",\"y\":[9.526953154640713,8.691524093621242,8.339724498927746,8.254822808841306,8.198530708246016,7.86205617643184,7.647691199487801,7.648030417643422,7.772117572394565,null,null,null,null,null,null,null,null,null,null],\"yaxis\":\"y\",\"type\":\"scatter\"},{\"hovertemplate\":\"variable=slope_3-4<br>interval=%{x}<br>value=%{y}<extra></extra>\",\"legendgroup\":\"slope_3-4\",\"line\":{\"color\":\"rgb(247,252,245)\",\"dash\":\"solid\"},\"marker\":{\"symbol\":\"circle\"},\"mode\":\"lines\",\"name\":\"slope_3-4\",\"orientation\":\"v\",\"showlegend\":true,\"x\":[60.0,120.0,180.0,240.0,300.0,360.0,420.0,480.0,540.0,600.0,660.0,720.0,780.0,840.0,900.0,960.0,1020.0,1080.0,1140.0],\"xaxis\":\"x\",\"y\":[7.5722339304177115,6.093316793523018,5.774678728149543,4.291668292189617,3.758662957292384,3.6649442740566314,3.6955363899909535,3.6379620989149717,3.427743004874155,3.4953946455465923,3.4941670745682814,3.5155063073763255,3.617941104402632,3.729094661152428,3.7147363882409095,3.7268894421443557,3.551270336131973,3.395909993394201,3.295337506662332],\"yaxis\":\"y\",\"type\":\"scatter\"},{\"hovertemplate\":\"variable=slope_4-5<br>interval=%{x}<br>value=%{y}<extra></extra>\",\"legendgroup\":\"slope_4-5\",\"line\":{\"color\":\"rgb(229,245,224)\",\"dash\":\"solid\"},\"marker\":{\"symbol\":\"circle\"},\"mode\":\"lines\",\"name\":\"slope_4-5\",\"orientation\":\"v\",\"showlegend\":true,\"x\":[60.0,120.0,180.0,240.0,300.0,360.0,420.0,480.0,540.0,600.0,660.0,720.0,780.0,840.0,900.0,960.0,1020.0,1080.0,1140.0],\"xaxis\":\"x\",\"y\":[8.983083991145117,5.659302392628667,5.632765546303916,5.332979036249872,5.277808497668449,4.889815122899161,4.312912561307167,4.3451857293065155,4.4301928667611685,4.465594159155045,4.646914196638472,4.69971695951577,4.745737165973857,4.517635523364943,4.185361102923074,3.9285145189606143,null,null,null],\"yaxis\":\"y\",\"type\":\"scatter\"},{\"hovertemplate\":\"variable=slope_5-6<br>interval=%{x}<br>value=%{y}<extra></extra>\",\"legendgroup\":\"slope_5-6\",\"line\":{\"color\":\"rgb(199,233,192)\",\"dash\":\"solid\"},\"marker\":{\"symbol\":\"circle\"},\"mode\":\"lines\",\"name\":\"slope_5-6\",\"orientation\":\"v\",\"showlegend\":true,\"x\":[60.0,120.0,180.0,240.0,300.0,360.0,420.0,480.0,540.0,600.0,660.0,720.0,780.0,840.0,900.0,960.0,1020.0,1080.0,1140.0],\"xaxis\":\"x\",\"y\":[9.329130137504485,6.482608600562992,5.675303653358138,5.7411560132055275,5.755547187697505,5.755686414160272,5.721768946862722,5.809778129421214,5.617097176939057,5.676636218718397,5.759293351694821,5.295261361268662,4.819611978644365,null,null,null,null,null,null],\"yaxis\":\"y\",\"type\":\"scatter\"},{\"hovertemplate\":\"variable=slope_6-7<br>interval=%{x}<br>value=%{y}<extra></extra>\",\"legendgroup\":\"slope_6-7\",\"line\":{\"color\":\"rgb(161,217,155)\",\"dash\":\"solid\"},\"marker\":{\"symbol\":\"circle\"},\"mode\":\"lines\",\"name\":\"slope_6-7\",\"orientation\":\"v\",\"showlegend\":true,\"x\":[60.0,120.0,180.0,240.0,300.0,360.0,420.0,480.0,540.0,600.0,660.0,720.0,780.0,840.0,900.0,960.0,1020.0,1080.0,1140.0],\"xaxis\":\"x\",\"y\":[9.008942953459558,7.64478014802454,6.753194117558209,6.588097484837727,6.212595893017557,6.245768468163284,6.258292126514931,6.246254604145865,6.38319306295748,6.314995155904818,5.764575080488712,null,null,null,null,null,null,null,null],\"yaxis\":\"y\",\"type\":\"scatter\"},{\"hovertemplate\":\"variable=slope_7-8<br>interval=%{x}<br>value=%{y}<extra></extra>\",\"legendgroup\":\"slope_7-8\",\"line\":{\"color\":\"rgb(116,196,118)\",\"dash\":\"solid\"},\"marker\":{\"symbol\":\"circle\"},\"mode\":\"lines\",\"name\":\"slope_7-8\",\"orientation\":\"v\",\"showlegend\":true,\"x\":[60.0,120.0,180.0,240.0,300.0,360.0,420.0,480.0,540.0,600.0,660.0,720.0,780.0,840.0,900.0,960.0,1020.0,1080.0,1140.0],\"xaxis\":\"x\",\"y\":[9.156414171656396,7.469245276093988,7.185328756150917,7.168774472572645,6.957934061085458,7.035733603236897,6.590566593898055,null,null,null,null,null,null,null,null,null,null,null,null],\"yaxis\":\"y\",\"type\":\"scatter\"},{\"hovertemplate\":\"variable=slope_8-9<br>interval=%{x}<br>value=%{y}<extra></extra>\",\"legendgroup\":\"slope_8-9\",\"line\":{\"color\":\"rgb(65,171,93)\",\"dash\":\"solid\"},\"marker\":{\"symbol\":\"circle\"},\"mode\":\"lines\",\"name\":\"slope_8-9\",\"orientation\":\"v\",\"showlegend\":true,\"x\":[60.0,120.0,180.0,240.0,300.0,360.0,420.0,480.0,540.0,600.0,660.0,720.0,780.0,840.0,900.0,960.0,1020.0,1080.0,1140.0],\"xaxis\":\"x\",\"y\":[9.646769443138545,7.85805206844553,7.124520165097953,7.09069882076828,6.983536659624031,null,null,null,null,null,null,null,null,null,null,null,null,null,null],\"yaxis\":\"y\",\"type\":\"scatter\"},{\"hovertemplate\":\"variable=slope_9-10<br>interval=%{x}<br>value=%{y}<extra></extra>\",\"legendgroup\":\"slope_9-10\",\"line\":{\"color\":\"rgb(35,139,69)\",\"dash\":\"solid\"},\"marker\":{\"symbol\":\"circle\"},\"mode\":\"lines\",\"name\":\"slope_9-10\",\"orientation\":\"v\",\"showlegend\":true,\"x\":[60.0,120.0,180.0,240.0,300.0,360.0,420.0,480.0,540.0,600.0,660.0,720.0,780.0,840.0,900.0,960.0,1020.0,1080.0,1140.0],\"xaxis\":\"x\",\"y\":[7.863190100177676,null,null,null,null,null,null,null,null,null,null,null,null,null,null,null,null,null,null],\"yaxis\":\"y\",\"type\":\"scatter\"}],                        {\"template\":{\"data\":{\"histogram2dcontour\":[{\"type\":\"histogram2dcontour\",\"colorbar\":{\"outlinewidth\":0,\"ticks\":\"\"},\"colorscale\":[[0.0,\"#0d0887\"],[0.1111111111111111,\"#46039f\"],[0.2222222222222222,\"#7201a8\"],[0.3333333333333333,\"#9c179e\"],[0.4444444444444444,\"#bd3786\"],[0.5555555555555556,\"#d8576b\"],[0.6666666666666666,\"#ed7953\"],[0.7777777777777778,\"#fb9f3a\"],[0.8888888888888888,\"#fdca26\"],[1.0,\"#f0f921\"]]}],\"choropleth\":[{\"type\":\"choropleth\",\"colorbar\":{\"outlinewidth\":0,\"ticks\":\"\"}}],\"histogram2d\":[{\"type\":\"histogram2d\",\"colorbar\":{\"outlinewidth\":0,\"ticks\":\"\"},\"colorscale\":[[0.0,\"#0d0887\"],[0.1111111111111111,\"#46039f\"],[0.2222222222222222,\"#7201a8\"],[0.3333333333333333,\"#9c179e\"],[0.4444444444444444,\"#bd3786\"],[0.5555555555555556,\"#d8576b\"],[0.6666666666666666,\"#ed7953\"],[0.7777777777777778,\"#fb9f3a\"],[0.8888888888888888,\"#fdca26\"],[1.0,\"#f0f921\"]]}],\"heatmap\":[{\"type\":\"heatmap\",\"colorbar\":{\"outlinewidth\":0,\"ticks\":\"\"},\"colorscale\":[[0.0,\"#0d0887\"],[0.1111111111111111,\"#46039f\"],[0.2222222222222222,\"#7201a8\"],[0.3333333333333333,\"#9c179e\"],[0.4444444444444444,\"#bd3786\"],[0.5555555555555556,\"#d8576b\"],[0.6666666666666666,\"#ed7953\"],[0.7777777777777778,\"#fb9f3a\"],[0.8888888888888888,\"#fdca26\"],[1.0,\"#f0f921\"]]}],\"heatmapgl\":[{\"type\":\"heatmapgl\",\"colorbar\":{\"outlinewidth\":0,\"ticks\":\"\"},\"colorscale\":[[0.0,\"#0d0887\"],[0.1111111111111111,\"#46039f\"],[0.2222222222222222,\"#7201a8\"],[0.3333333333333333,\"#9c179e\"],[0.4444444444444444,\"#bd3786\"],[0.5555555555555556,\"#d8576b\"],[0.6666666666666666,\"#ed7953\"],[0.7777777777777778,\"#fb9f3a\"],[0.8888888888888888,\"#fdca26\"],[1.0,\"#f0f921\"]]}],\"contourcarpet\":[{\"type\":\"contourcarpet\",\"colorbar\":{\"outlinewidth\":0,\"ticks\":\"\"}}],\"contour\":[{\"type\":\"contour\",\"colorbar\":{\"outlinewidth\":0,\"ticks\":\"\"},\"colorscale\":[[0.0,\"#0d0887\"],[0.1111111111111111,\"#46039f\"],[0.2222222222222222,\"#7201a8\"],[0.3333333333333333,\"#9c179e\"],[0.4444444444444444,\"#bd3786\"],[0.5555555555555556,\"#d8576b\"],[0.6666666666666666,\"#ed7953\"],[0.7777777777777778,\"#fb9f3a\"],[0.8888888888888888,\"#fdca26\"],[1.0,\"#f0f921\"]]}],\"surface\":[{\"type\":\"surface\",\"colorbar\":{\"outlinewidth\":0,\"ticks\":\"\"},\"colorscale\":[[0.0,\"#0d0887\"],[0.1111111111111111,\"#46039f\"],[0.2222222222222222,\"#7201a8\"],[0.3333333333333333,\"#9c179e\"],[0.4444444444444444,\"#bd3786\"],[0.5555555555555556,\"#d8576b\"],[0.6666666666666666,\"#ed7953\"],[0.7777777777777778,\"#fb9f3a\"],[0.8888888888888888,\"#fdca26\"],[1.0,\"#f0f921\"]]}],\"mesh3d\":[{\"type\":\"mesh3d\",\"colorbar\":{\"outlinewidth\":0,\"ticks\":\"\"}}],\"scatter\":[{\"fillpattern\":{\"fillmode\":\"overlay\",\"size\":10,\"solidity\":0.2},\"type\":\"scatter\"}],\"parcoords\":[{\"type\":\"parcoords\",\"line\":{\"colorbar\":{\"outlinewidth\":0,\"ticks\":\"\"}}}],\"scatterpolargl\":[{\"type\":\"scatterpolargl\",\"marker\":{\"colorbar\":{\"outlinewidth\":0,\"ticks\":\"\"}}}],\"bar\":[{\"error_x\":{\"color\":\"#2a3f5f\"},\"error_y\":{\"color\":\"#2a3f5f\"},\"marker\":{\"line\":{\"color\":\"#E5ECF6\",\"width\":0.5},\"pattern\":{\"fillmode\":\"overlay\",\"size\":10,\"solidity\":0.2}},\"type\":\"bar\"}],\"scattergeo\":[{\"type\":\"scattergeo\",\"marker\":{\"colorbar\":{\"outlinewidth\":0,\"ticks\":\"\"}}}],\"scatterpolar\":[{\"type\":\"scatterpolar\",\"marker\":{\"colorbar\":{\"outlinewidth\":0,\"ticks\":\"\"}}}],\"histogram\":[{\"marker\":{\"pattern\":{\"fillmode\":\"overlay\",\"size\":10,\"solidity\":0.2}},\"type\":\"histogram\"}],\"scattergl\":[{\"type\":\"scattergl\",\"marker\":{\"colorbar\":{\"outlinewidth\":0,\"ticks\":\"\"}}}],\"scatter3d\":[{\"type\":\"scatter3d\",\"line\":{\"colorbar\":{\"outlinewidth\":0,\"ticks\":\"\"}},\"marker\":{\"colorbar\":{\"outlinewidth\":0,\"ticks\":\"\"}}}],\"scattermapbox\":[{\"type\":\"scattermapbox\",\"marker\":{\"colorbar\":{\"outlinewidth\":0,\"ticks\":\"\"}}}],\"scatterternary\":[{\"type\":\"scatterternary\",\"marker\":{\"colorbar\":{\"outlinewidth\":0,\"ticks\":\"\"}}}],\"scattercarpet\":[{\"type\":\"scattercarpet\",\"marker\":{\"colorbar\":{\"outlinewidth\":0,\"ticks\":\"\"}}}],\"carpet\":[{\"aaxis\":{\"endlinecolor\":\"#2a3f5f\",\"gridcolor\":\"white\",\"linecolor\":\"white\",\"minorgridcolor\":\"white\",\"startlinecolor\":\"#2a3f5f\"},\"baxis\":{\"endlinecolor\":\"#2a3f5f\",\"gridcolor\":\"white\",\"linecolor\":\"white\",\"minorgridcolor\":\"white\",\"startlinecolor\":\"#2a3f5f\"},\"type\":\"carpet\"}],\"table\":[{\"cells\":{\"fill\":{\"color\":\"#EBF0F8\"},\"line\":{\"color\":\"white\"}},\"header\":{\"fill\":{\"color\":\"#C8D4E3\"},\"line\":{\"color\":\"white\"}},\"type\":\"table\"}],\"barpolar\":[{\"marker\":{\"line\":{\"color\":\"#E5ECF6\",\"width\":0.5},\"pattern\":{\"fillmode\":\"overlay\",\"size\":10,\"solidity\":0.2}},\"type\":\"barpolar\"}],\"pie\":[{\"automargin\":true,\"type\":\"pie\"}]},\"layout\":{\"autotypenumbers\":\"strict\",\"colorway\":[\"#636efa\",\"#EF553B\",\"#00cc96\",\"#ab63fa\",\"#FFA15A\",\"#19d3f3\",\"#FF6692\",\"#B6E880\",\"#FF97FF\",\"#FECB52\"],\"font\":{\"color\":\"#2a3f5f\"},\"hovermode\":\"closest\",\"hoverlabel\":{\"align\":\"left\"},\"paper_bgcolor\":\"white\",\"plot_bgcolor\":\"#E5ECF6\",\"polar\":{\"bgcolor\":\"#E5ECF6\",\"angularaxis\":{\"gridcolor\":\"white\",\"linecolor\":\"white\",\"ticks\":\"\"},\"radialaxis\":{\"gridcolor\":\"white\",\"linecolor\":\"white\",\"ticks\":\"\"}},\"ternary\":{\"bgcolor\":\"#E5ECF6\",\"aaxis\":{\"gridcolor\":\"white\",\"linecolor\":\"white\",\"ticks\":\"\"},\"baxis\":{\"gridcolor\":\"white\",\"linecolor\":\"white\",\"ticks\":\"\"},\"caxis\":{\"gridcolor\":\"white\",\"linecolor\":\"white\",\"ticks\":\"\"}},\"coloraxis\":{\"colorbar\":{\"outlinewidth\":0,\"ticks\":\"\"}},\"colorscale\":{\"sequential\":[[0.0,\"#0d0887\"],[0.1111111111111111,\"#46039f\"],[0.2222222222222222,\"#7201a8\"],[0.3333333333333333,\"#9c179e\"],[0.4444444444444444,\"#bd3786\"],[0.5555555555555556,\"#d8576b\"],[0.6666666666666666,\"#ed7953\"],[0.7777777777777778,\"#fb9f3a\"],[0.8888888888888888,\"#fdca26\"],[1.0,\"#f0f921\"]],\"sequentialminus\":[[0.0,\"#0d0887\"],[0.1111111111111111,\"#46039f\"],[0.2222222222222222,\"#7201a8\"],[0.3333333333333333,\"#9c179e\"],[0.4444444444444444,\"#bd3786\"],[0.5555555555555556,\"#d8576b\"],[0.6666666666666666,\"#ed7953\"],[0.7777777777777778,\"#fb9f3a\"],[0.8888888888888888,\"#fdca26\"],[1.0,\"#f0f921\"]],\"diverging\":[[0,\"#8e0152\"],[0.1,\"#c51b7d\"],[0.2,\"#de77ae\"],[0.3,\"#f1b6da\"],[0.4,\"#fde0ef\"],[0.5,\"#f7f7f7\"],[0.6,\"#e6f5d0\"],[0.7,\"#b8e186\"],[0.8,\"#7fbc41\"],[0.9,\"#4d9221\"],[1,\"#276419\"]]},\"xaxis\":{\"gridcolor\":\"white\",\"linecolor\":\"white\",\"ticks\":\"\",\"title\":{\"standoff\":15},\"zerolinecolor\":\"white\",\"automargin\":true,\"zerolinewidth\":2},\"yaxis\":{\"gridcolor\":\"white\",\"linecolor\":\"white\",\"ticks\":\"\",\"title\":{\"standoff\":15},\"zerolinecolor\":\"white\",\"automargin\":true,\"zerolinewidth\":2},\"scene\":{\"xaxis\":{\"backgroundcolor\":\"#E5ECF6\",\"gridcolor\":\"white\",\"linecolor\":\"white\",\"showbackground\":true,\"ticks\":\"\",\"zerolinecolor\":\"white\",\"gridwidth\":2},\"yaxis\":{\"backgroundcolor\":\"#E5ECF6\",\"gridcolor\":\"white\",\"linecolor\":\"white\",\"showbackground\":true,\"ticks\":\"\",\"zerolinecolor\":\"white\",\"gridwidth\":2},\"zaxis\":{\"backgroundcolor\":\"#E5ECF6\",\"gridcolor\":\"white\",\"linecolor\":\"white\",\"showbackground\":true,\"ticks\":\"\",\"zerolinecolor\":\"white\",\"gridwidth\":2}},\"shapedefaults\":{\"line\":{\"color\":\"#2a3f5f\"}},\"annotationdefaults\":{\"arrowcolor\":\"#2a3f5f\",\"arrowhead\":0,\"arrowwidth\":1},\"geo\":{\"bgcolor\":\"white\",\"landcolor\":\"#E5ECF6\",\"subunitcolor\":\"white\",\"showland\":true,\"showlakes\":true,\"lakecolor\":\"white\"},\"title\":{\"x\":0.05},\"mapbox\":{\"style\":\"light\"}}},\"width\":1000,\"height\":800},                        {\"responsive\": true}                    ).then(function(){\n                            \nvar gd = document.getElementById('7e6c47d6-c209-49bb-ba46-5055011baebd');\nvar x = new MutationObserver(function (mutations, observer) {{\n        var display = window.getComputedStyle(gd).display;\n        if (!display || display === 'none') {{\n            console.log([gd, 'removed!']);\n            Plotly.purge(gd);\n            observer.disconnect();\n        }}\n}});\n\n// Listen for the removal of the full notebook cells\nvar notebookContainer = gd.closest('#notebook-container');\nif (notebookContainer) {{\n    x.observe(notebookContainer, {childList: true});\n}}\n\n// Listen for the clearing of the current output cell\nvar outputEl = gd.closest('.output');\nif (outputEl) {{\n    x.observe(outputEl, {childList: true});\n}}\n\n                        })                };                });            </script>        </div>"
     },
     "metadata": {},
     "output_type": "display_data"
    }
   ],
   "source": [
    "import plotly.express as px\n",
    "import plotly.graph_objects as go\n",
    "\n",
    "vam_plot_in, vamh_plot_in = plot_vam(ind, show=False)\n",
    "vam_plot_out, vamh_plot_out = plot_vam(outd, show=False, color=px.colors.sequential.Greens)\n",
    "\n",
    "# vam_plot_in.show()\n",
    "# vam_plot_out.show()\n",
    "# vam_plot_out.color_discrete_sequence=px.colors.sequential.Greens\n",
    "# vamh_plot_out.color_discrete_sequence=px.colors.sequential.Greens\n",
    "# fig1 = go.Scatter(vam_plot_in.data)\n",
    "# fig1.show()\n",
    "\n",
    "#\n",
    "fig = go.Figure(data = vamh_plot_in.data + vamh_plot_out.data)\n",
    "fig.update_layout(\n",
    "        width=1000,\n",
    "        height=800)\n",
    "fig.show()\n"
   ],
   "metadata": {
    "collapsed": false
   }
  },
  {
   "cell_type": "code",
   "execution_count": 28,
   "outputs": [
    {
     "data": {
      "text/plain": "['__class__',\n '__contains__',\n '__delattr__',\n '__dict__',\n '__dir__',\n '__doc__',\n '__eq__',\n '__format__',\n '__ge__',\n '__getattribute__',\n '__getitem__',\n '__getstate__',\n '__gt__',\n '__hash__',\n '__init__',\n '__init_subclass__',\n '__iter__',\n '__le__',\n '__lt__',\n '__module__',\n '__ne__',\n '__new__',\n '__reduce__',\n '__reduce_ex__',\n '__repr__',\n '__setattr__',\n '__setitem__',\n '__sizeof__',\n '__str__',\n '__subclasshook__',\n '__weakref__',\n '_add_annotation_like',\n '_allow_disable_validation',\n '_animation_duration_validator',\n '_animation_easing_validator',\n '_batch_layout_edits',\n '_batch_trace_edits',\n '_bracket_re',\n '_build_dispatch_plan',\n '_build_update_params_from_batch',\n '_config',\n '_data',\n '_data_defaults',\n '_data_objs',\n '_data_validator',\n '_dispatch_layout_change_callbacks',\n '_dispatch_trace_change_callbacks',\n '_filter_by_selector',\n '_frame_objs',\n '_frames_validator',\n '_get_child_prop_defaults',\n '_get_child_props',\n '_get_subplot_coordinates',\n '_get_subplot_rows_columns',\n '_grid_ref',\n '_grid_str',\n '_has_subplots',\n '_in_batch_mode',\n '_index_is',\n '_init_child_props',\n '_initialize_layout_template',\n '_ipython_display_',\n '_is_dict_list',\n '_is_key_path_compatible',\n '_layout',\n '_layout_defaults',\n '_layout_obj',\n '_layout_validator',\n '_make_axis_spanning_layout_object',\n '_normalize_trace_indexes',\n '_perform_batch_animate',\n '_perform_plotly_relayout',\n '_perform_plotly_restyle',\n '_perform_plotly_update',\n '_perform_select_traces',\n '_perform_update',\n '_process_multiple_axis_spanning_shapes',\n '_px_trendlines',\n '_raise_invalid_rows_cols',\n '_relayout_child',\n '_repr_html_',\n '_repr_mimebundle_',\n '_restyle_child',\n '_select_annotations_like',\n '_select_layout_subplots_by_prefix',\n '_select_subplot_coordinates',\n '_selector_matches',\n '_send_addTraces_msg',\n '_send_animate_msg',\n '_send_deleteTraces_msg',\n '_send_moveTraces_msg',\n '_send_relayout_msg',\n '_send_restyle_msg',\n '_send_update_msg',\n '_set_in',\n '_set_trace_grid_position',\n '_set_trace_uid',\n '_str_to_dict_path',\n '_subplot_not_empty',\n '_to_ordered_dict',\n '_valid_underscore_properties',\n '_validate',\n '_validate_get_grid_ref',\n '_validate_rows_cols',\n 'add_annotation',\n 'add_bar',\n 'add_barpolar',\n 'add_box',\n 'add_candlestick',\n 'add_carpet',\n 'add_choropleth',\n 'add_choroplethmapbox',\n 'add_cone',\n 'add_contour',\n 'add_contourcarpet',\n 'add_densitymapbox',\n 'add_funnel',\n 'add_funnelarea',\n 'add_heatmap',\n 'add_heatmapgl',\n 'add_histogram',\n 'add_histogram2d',\n 'add_histogram2dcontour',\n 'add_hline',\n 'add_hrect',\n 'add_icicle',\n 'add_image',\n 'add_indicator',\n 'add_isosurface',\n 'add_layout_image',\n 'add_mesh3d',\n 'add_ohlc',\n 'add_parcats',\n 'add_parcoords',\n 'add_pie',\n 'add_pointcloud',\n 'add_sankey',\n 'add_scatter',\n 'add_scatter3d',\n 'add_scattercarpet',\n 'add_scattergeo',\n 'add_scattergl',\n 'add_scattermapbox',\n 'add_scatterpolar',\n 'add_scatterpolargl',\n 'add_scattersmith',\n 'add_scatterternary',\n 'add_selection',\n 'add_shape',\n 'add_splom',\n 'add_streamtube',\n 'add_sunburst',\n 'add_surface',\n 'add_table',\n 'add_trace',\n 'add_traces',\n 'add_treemap',\n 'add_violin',\n 'add_vline',\n 'add_volume',\n 'add_vrect',\n 'add_waterfall',\n 'append_trace',\n 'batch_animate',\n 'batch_update',\n 'data',\n 'for_each_annotation',\n 'for_each_coloraxis',\n 'for_each_geo',\n 'for_each_layout_image',\n 'for_each_mapbox',\n 'for_each_polar',\n 'for_each_scene',\n 'for_each_selection',\n 'for_each_shape',\n 'for_each_smith',\n 'for_each_ternary',\n 'for_each_trace',\n 'for_each_xaxis',\n 'for_each_yaxis',\n 'frames',\n 'full_figure_for_development',\n 'get_subplot',\n 'layout',\n 'plotly_relayout',\n 'plotly_restyle',\n 'plotly_update',\n 'pop',\n 'print_grid',\n 'select_annotations',\n 'select_coloraxes',\n 'select_geos',\n 'select_layout_images',\n 'select_mapboxes',\n 'select_polars',\n 'select_scenes',\n 'select_selections',\n 'select_shapes',\n 'select_smiths',\n 'select_ternaries',\n 'select_traces',\n 'select_xaxes',\n 'select_yaxes',\n 'set_subplots',\n 'show',\n 'to_dict',\n 'to_html',\n 'to_image',\n 'to_json',\n 'to_ordered_dict',\n 'to_plotly_json',\n 'update',\n 'update_annotations',\n 'update_coloraxes',\n 'update_geos',\n 'update_layout',\n 'update_layout_images',\n 'update_mapboxes',\n 'update_polars',\n 'update_scenes',\n 'update_selections',\n 'update_shapes',\n 'update_smiths',\n 'update_ternaries',\n 'update_traces',\n 'update_xaxes',\n 'update_yaxes',\n 'write_html',\n 'write_image',\n 'write_json']"
     },
     "execution_count": 28,
     "metadata": {},
     "output_type": "execute_result"
    }
   ],
   "source": [
    "dir(vam_plot_out)"
   ],
   "metadata": {
    "collapsed": false
   }
  },
  {
   "cell_type": "code",
   "execution_count": 64,
   "outputs": [
    {
     "data": {
      "text/plain": "       latitude  longitude  lap  altitude  distance                 timestamp  \\\n1124  44.491386  11.304648    1     285.0  10749.23 2021-12-17 17:22:21+00:00   \n1125  44.491374  11.304441    1     285.0  10765.72 2021-12-17 17:22:22+00:00   \n1126  44.491358  11.304250    1     285.0  10780.97 2021-12-17 17:22:23+00:00   \n1127  44.491336  11.304037    1     285.0  10798.04 2021-12-17 17:22:24+00:00   \n1128  44.491316  11.303850    1     285.2  10813.05 2021-12-17 17:22:25+00:00   \n...         ...        ...  ...       ...       ...                       ...   \n1219  44.497197  11.298295    1     271.8  12071.76 2021-12-17 17:23:56+00:00   \n1220  44.497231  11.298337    1     271.8  12076.74 2021-12-17 17:23:57+00:00   \n1221  44.497258  11.298372    1     271.8  12080.79 2021-12-17 17:23:58+00:00   \n1222  44.497279  11.298398    1     271.8  12083.89 2021-12-17 17:23:59+00:00   \n1223  44.497297  11.298420    1     271.8  12086.48 2021-12-17 17:24:00+00:00   \n\n      heart_rate  cadence speed  power  ...   vam_1020     hr_1020  \\\n1124         164       98  None    358  ...  13.411765  174.713725   \n1125         165       98  None    357  ...  13.411765  174.717647   \n1126         165       96  None    391  ...  12.705882  174.721569   \n1127         166       96  None    373  ...  12.000000  174.725490   \n1128         166       96  None    414  ...  12.000000  174.729412   \n...          ...      ...   ...    ...  ...        ...         ...   \n1219         179       63  None      0  ...  -3.529412  175.835294   \n1220         179        0  None      0  ...  -2.117647  175.849020   \n1221         179        0  None      0  ...  -2.117647  175.862745   \n1222         178        0  None      0  ...  -1.411765  175.875490   \n1223         177        0  None      0  ...  -1.411765  175.888235   \n\n      slope_1080  vamh_1080   vam_1080     hr_1080  slope_1140  vamh_1140  \\\n1124         NaN  -0.201985  -7.333333  173.771296         NaN        NaN   \n1125         NaN  -0.197684  -6.666667  173.780556         NaN        NaN   \n1126         NaN  -0.189082  -5.333333  173.789815         NaN        NaN   \n1127         NaN  -0.189082  -5.333333  173.800000         NaN        NaN   \n1128         NaN  -0.180765  -4.000000  173.810185         NaN        NaN   \n...          ...        ...        ...         ...         ...        ...   \n1219         NaN  -0.353415 -36.000000  175.225926         NaN  -0.375221   \n1220         NaN  -0.353415 -36.000000  175.239815         NaN  -0.371224   \n1221         NaN  -0.349350 -35.333333  175.253704         NaN  -0.359307   \n1222         NaN  -0.349350 -35.333333  175.267593         NaN  -0.347391   \n1223         NaN  -0.349350 -35.333333  175.279630         NaN  -0.335474   \n\n       vam_1140     hr_1140  \n1124        NaN         NaN  \n1125        NaN         NaN  \n1126        NaN         NaN  \n1127        NaN         NaN  \n1128        NaN         NaN  \n...         ...         ...  \n1219 -40.421053  174.540351  \n1220 -39.789474  174.558772  \n1221 -37.894737  174.576316  \n1222 -36.000000  174.592982  \n1223 -34.105263  174.608772  \n\n[100 rows x 92 columns]",
      "text/html": "<div>\n<style scoped>\n    .dataframe tbody tr th:only-of-type {\n        vertical-align: middle;\n    }\n\n    .dataframe tbody tr th {\n        vertical-align: top;\n    }\n\n    .dataframe thead th {\n        text-align: right;\n    }\n</style>\n<table border=\"1\" class=\"dataframe\">\n  <thead>\n    <tr style=\"text-align: right;\">\n      <th></th>\n      <th>latitude</th>\n      <th>longitude</th>\n      <th>lap</th>\n      <th>altitude</th>\n      <th>distance</th>\n      <th>timestamp</th>\n      <th>heart_rate</th>\n      <th>cadence</th>\n      <th>speed</th>\n      <th>power</th>\n      <th>...</th>\n      <th>vam_1020</th>\n      <th>hr_1020</th>\n      <th>slope_1080</th>\n      <th>vamh_1080</th>\n      <th>vam_1080</th>\n      <th>hr_1080</th>\n      <th>slope_1140</th>\n      <th>vamh_1140</th>\n      <th>vam_1140</th>\n      <th>hr_1140</th>\n    </tr>\n  </thead>\n  <tbody>\n    <tr>\n      <th>1124</th>\n      <td>44.491386</td>\n      <td>11.304648</td>\n      <td>1</td>\n      <td>285.0</td>\n      <td>10749.23</td>\n      <td>2021-12-17 17:22:21+00:00</td>\n      <td>164</td>\n      <td>98</td>\n      <td>None</td>\n      <td>358</td>\n      <td>...</td>\n      <td>13.411765</td>\n      <td>174.713725</td>\n      <td>NaN</td>\n      <td>-0.201985</td>\n      <td>-7.333333</td>\n      <td>173.771296</td>\n      <td>NaN</td>\n      <td>NaN</td>\n      <td>NaN</td>\n      <td>NaN</td>\n    </tr>\n    <tr>\n      <th>1125</th>\n      <td>44.491374</td>\n      <td>11.304441</td>\n      <td>1</td>\n      <td>285.0</td>\n      <td>10765.72</td>\n      <td>2021-12-17 17:22:22+00:00</td>\n      <td>165</td>\n      <td>98</td>\n      <td>None</td>\n      <td>357</td>\n      <td>...</td>\n      <td>13.411765</td>\n      <td>174.717647</td>\n      <td>NaN</td>\n      <td>-0.197684</td>\n      <td>-6.666667</td>\n      <td>173.780556</td>\n      <td>NaN</td>\n      <td>NaN</td>\n      <td>NaN</td>\n      <td>NaN</td>\n    </tr>\n    <tr>\n      <th>1126</th>\n      <td>44.491358</td>\n      <td>11.304250</td>\n      <td>1</td>\n      <td>285.0</td>\n      <td>10780.97</td>\n      <td>2021-12-17 17:22:23+00:00</td>\n      <td>165</td>\n      <td>96</td>\n      <td>None</td>\n      <td>391</td>\n      <td>...</td>\n      <td>12.705882</td>\n      <td>174.721569</td>\n      <td>NaN</td>\n      <td>-0.189082</td>\n      <td>-5.333333</td>\n      <td>173.789815</td>\n      <td>NaN</td>\n      <td>NaN</td>\n      <td>NaN</td>\n      <td>NaN</td>\n    </tr>\n    <tr>\n      <th>1127</th>\n      <td>44.491336</td>\n      <td>11.304037</td>\n      <td>1</td>\n      <td>285.0</td>\n      <td>10798.04</td>\n      <td>2021-12-17 17:22:24+00:00</td>\n      <td>166</td>\n      <td>96</td>\n      <td>None</td>\n      <td>373</td>\n      <td>...</td>\n      <td>12.000000</td>\n      <td>174.725490</td>\n      <td>NaN</td>\n      <td>-0.189082</td>\n      <td>-5.333333</td>\n      <td>173.800000</td>\n      <td>NaN</td>\n      <td>NaN</td>\n      <td>NaN</td>\n      <td>NaN</td>\n    </tr>\n    <tr>\n      <th>1128</th>\n      <td>44.491316</td>\n      <td>11.303850</td>\n      <td>1</td>\n      <td>285.2</td>\n      <td>10813.05</td>\n      <td>2021-12-17 17:22:25+00:00</td>\n      <td>166</td>\n      <td>96</td>\n      <td>None</td>\n      <td>414</td>\n      <td>...</td>\n      <td>12.000000</td>\n      <td>174.729412</td>\n      <td>NaN</td>\n      <td>-0.180765</td>\n      <td>-4.000000</td>\n      <td>173.810185</td>\n      <td>NaN</td>\n      <td>NaN</td>\n      <td>NaN</td>\n      <td>NaN</td>\n    </tr>\n    <tr>\n      <th>...</th>\n      <td>...</td>\n      <td>...</td>\n      <td>...</td>\n      <td>...</td>\n      <td>...</td>\n      <td>...</td>\n      <td>...</td>\n      <td>...</td>\n      <td>...</td>\n      <td>...</td>\n      <td>...</td>\n      <td>...</td>\n      <td>...</td>\n      <td>...</td>\n      <td>...</td>\n      <td>...</td>\n      <td>...</td>\n      <td>...</td>\n      <td>...</td>\n      <td>...</td>\n      <td>...</td>\n    </tr>\n    <tr>\n      <th>1219</th>\n      <td>44.497197</td>\n      <td>11.298295</td>\n      <td>1</td>\n      <td>271.8</td>\n      <td>12071.76</td>\n      <td>2021-12-17 17:23:56+00:00</td>\n      <td>179</td>\n      <td>63</td>\n      <td>None</td>\n      <td>0</td>\n      <td>...</td>\n      <td>-3.529412</td>\n      <td>175.835294</td>\n      <td>NaN</td>\n      <td>-0.353415</td>\n      <td>-36.000000</td>\n      <td>175.225926</td>\n      <td>NaN</td>\n      <td>-0.375221</td>\n      <td>-40.421053</td>\n      <td>174.540351</td>\n    </tr>\n    <tr>\n      <th>1220</th>\n      <td>44.497231</td>\n      <td>11.298337</td>\n      <td>1</td>\n      <td>271.8</td>\n      <td>12076.74</td>\n      <td>2021-12-17 17:23:57+00:00</td>\n      <td>179</td>\n      <td>0</td>\n      <td>None</td>\n      <td>0</td>\n      <td>...</td>\n      <td>-2.117647</td>\n      <td>175.849020</td>\n      <td>NaN</td>\n      <td>-0.353415</td>\n      <td>-36.000000</td>\n      <td>175.239815</td>\n      <td>NaN</td>\n      <td>-0.371224</td>\n      <td>-39.789474</td>\n      <td>174.558772</td>\n    </tr>\n    <tr>\n      <th>1221</th>\n      <td>44.497258</td>\n      <td>11.298372</td>\n      <td>1</td>\n      <td>271.8</td>\n      <td>12080.79</td>\n      <td>2021-12-17 17:23:58+00:00</td>\n      <td>179</td>\n      <td>0</td>\n      <td>None</td>\n      <td>0</td>\n      <td>...</td>\n      <td>-2.117647</td>\n      <td>175.862745</td>\n      <td>NaN</td>\n      <td>-0.349350</td>\n      <td>-35.333333</td>\n      <td>175.253704</td>\n      <td>NaN</td>\n      <td>-0.359307</td>\n      <td>-37.894737</td>\n      <td>174.576316</td>\n    </tr>\n    <tr>\n      <th>1222</th>\n      <td>44.497279</td>\n      <td>11.298398</td>\n      <td>1</td>\n      <td>271.8</td>\n      <td>12083.89</td>\n      <td>2021-12-17 17:23:59+00:00</td>\n      <td>178</td>\n      <td>0</td>\n      <td>None</td>\n      <td>0</td>\n      <td>...</td>\n      <td>-1.411765</td>\n      <td>175.875490</td>\n      <td>NaN</td>\n      <td>-0.349350</td>\n      <td>-35.333333</td>\n      <td>175.267593</td>\n      <td>NaN</td>\n      <td>-0.347391</td>\n      <td>-36.000000</td>\n      <td>174.592982</td>\n    </tr>\n    <tr>\n      <th>1223</th>\n      <td>44.497297</td>\n      <td>11.298420</td>\n      <td>1</td>\n      <td>271.8</td>\n      <td>12086.48</td>\n      <td>2021-12-17 17:24:00+00:00</td>\n      <td>177</td>\n      <td>0</td>\n      <td>None</td>\n      <td>0</td>\n      <td>...</td>\n      <td>-1.411765</td>\n      <td>175.888235</td>\n      <td>NaN</td>\n      <td>-0.349350</td>\n      <td>-35.333333</td>\n      <td>175.279630</td>\n      <td>NaN</td>\n      <td>-0.335474</td>\n      <td>-34.105263</td>\n      <td>174.608772</td>\n    </tr>\n  </tbody>\n</table>\n<p>100 rows × 92 columns</p>\n</div>"
     },
     "execution_count": 64,
     "metadata": {},
     "output_type": "execute_result"
    }
   ],
   "source": [
    "ind.tail(100)"
   ],
   "metadata": {
    "collapsed": false
   }
  },
  {
   "cell_type": "code",
   "execution_count": null,
   "outputs": [],
   "source": [],
   "metadata": {
    "collapsed": false
   }
  }
 ],
 "metadata": {
  "kernelspec": {
   "display_name": "Python 3",
   "language": "python",
   "name": "python3"
  },
  "language_info": {
   "codemirror_mode": {
    "name": "ipython",
    "version": 2
   },
   "file_extension": ".py",
   "mimetype": "text/x-python",
   "name": "python",
   "nbconvert_exporter": "python",
   "pygments_lexer": "ipython2",
   "version": "2.7.6"
  }
 },
 "nbformat": 4,
 "nbformat_minor": 0
}
