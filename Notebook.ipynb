{
 "cells": [
  {
   "cell_type": "markdown",
   "source": [
    "## VAM WAM! cheaters"
   ],
   "metadata": {
    "collapsed": false
   }
  },
  {
   "cell_type": "code",
   "execution_count": 3,
   "metadata": {
    "collapsed": true
   },
   "outputs": [
    {
     "name": "stdout",
     "output_type": "stream",
     "text": [
      "The autoreload extension is already loaded. To reload it, use:\n",
      "  %reload_ext autoreload\n",
      "testdata/Luciano/Indoor/4xADZ_(3xsub60_+_1_free_ride).fit\n"
     ]
    },
    {
     "data": {
      "text/plain": "    latitude   longitude  lap  altitude  distance                 timestamp  \\\n0 -11.664305  166.947732    1      85.2      0.50 2022-01-15 08:14:49+00:00   \n1 -11.664302  166.947719    1      85.2      2.00 2022-01-15 08:14:50+00:00   \n2 -11.664298  166.947701    1      85.2      4.00 2022-01-15 08:14:51+00:00   \n3 -11.664292  166.947682    1      85.4      6.20 2022-01-15 08:14:52+00:00   \n4 -11.664285  166.947660    1      85.4      8.80 2022-01-15 08:14:53+00:00   \n5 -11.664277  166.947637    1      85.4     11.40 2022-01-15 08:14:54+00:00   \n6 -11.664270  166.947612    1      85.6     14.30 2022-01-15 08:14:55+00:00   \n7 -11.664262  166.947585    1      85.6     17.39 2022-01-15 08:14:56+00:00   \n8 -11.664256  166.947556    1      85.8     20.60 2022-01-15 08:14:57+00:00   \n9 -11.664250  166.947525    1      85.8     24.00 2022-01-15 08:14:58+00:00   \n\n   heart_rate  cadence  speed  power  ...  vam_1020  hr_1020  slope_1080  \\\n0          68        1  0.000    131  ...       NaN      NaN         NaN   \n1          68        1  1.550    121  ...       NaN      NaN         NaN   \n2          69       42  1.755    111  ...       NaN      NaN         NaN   \n3          70       50  1.920    131  ...       NaN      NaN         NaN   \n4          71       51  2.068    114  ...       NaN      NaN         NaN   \n5          73       52  2.190    127  ...       NaN      NaN         NaN   \n6          75       52  2.452    142  ...       NaN      NaN         NaN   \n7          76       50  2.672    147  ...       NaN      NaN         NaN   \n8          78       50  2.872    144  ...       NaN      NaN         NaN   \n9          80       49  3.052    140  ...       NaN      NaN         NaN   \n\n   vamh_1080  vam_1080  hr_1080  slope_1140  vamh_1140  vam_1140  hr_1140  \n0        NaN       NaN      NaN         NaN        NaN       NaN      NaN  \n1        NaN       NaN      NaN         NaN        NaN       NaN      NaN  \n2        NaN       NaN      NaN         NaN        NaN       NaN      NaN  \n3        NaN       NaN      NaN         NaN        NaN       NaN      NaN  \n4        NaN       NaN      NaN         NaN        NaN       NaN      NaN  \n5        NaN       NaN      NaN         NaN        NaN       NaN      NaN  \n6        NaN       NaN      NaN         NaN        NaN       NaN      NaN  \n7        NaN       NaN      NaN         NaN        NaN       NaN      NaN  \n8        NaN       NaN      NaN         NaN        NaN       NaN      NaN  \n9        NaN       NaN      NaN         NaN        NaN       NaN      NaN  \n\n[10 rows x 92 columns]",
      "text/html": "<div>\n<style scoped>\n    .dataframe tbody tr th:only-of-type {\n        vertical-align: middle;\n    }\n\n    .dataframe tbody tr th {\n        vertical-align: top;\n    }\n\n    .dataframe thead th {\n        text-align: right;\n    }\n</style>\n<table border=\"1\" class=\"dataframe\">\n  <thead>\n    <tr style=\"text-align: right;\">\n      <th></th>\n      <th>latitude</th>\n      <th>longitude</th>\n      <th>lap</th>\n      <th>altitude</th>\n      <th>distance</th>\n      <th>timestamp</th>\n      <th>heart_rate</th>\n      <th>cadence</th>\n      <th>speed</th>\n      <th>power</th>\n      <th>...</th>\n      <th>vam_1020</th>\n      <th>hr_1020</th>\n      <th>slope_1080</th>\n      <th>vamh_1080</th>\n      <th>vam_1080</th>\n      <th>hr_1080</th>\n      <th>slope_1140</th>\n      <th>vamh_1140</th>\n      <th>vam_1140</th>\n      <th>hr_1140</th>\n    </tr>\n  </thead>\n  <tbody>\n    <tr>\n      <th>0</th>\n      <td>-11.664305</td>\n      <td>166.947732</td>\n      <td>1</td>\n      <td>85.2</td>\n      <td>0.50</td>\n      <td>2022-01-15 08:14:49+00:00</td>\n      <td>68</td>\n      <td>1</td>\n      <td>0.000</td>\n      <td>131</td>\n      <td>...</td>\n      <td>NaN</td>\n      <td>NaN</td>\n      <td>NaN</td>\n      <td>NaN</td>\n      <td>NaN</td>\n      <td>NaN</td>\n      <td>NaN</td>\n      <td>NaN</td>\n      <td>NaN</td>\n      <td>NaN</td>\n    </tr>\n    <tr>\n      <th>1</th>\n      <td>-11.664302</td>\n      <td>166.947719</td>\n      <td>1</td>\n      <td>85.2</td>\n      <td>2.00</td>\n      <td>2022-01-15 08:14:50+00:00</td>\n      <td>68</td>\n      <td>1</td>\n      <td>1.550</td>\n      <td>121</td>\n      <td>...</td>\n      <td>NaN</td>\n      <td>NaN</td>\n      <td>NaN</td>\n      <td>NaN</td>\n      <td>NaN</td>\n      <td>NaN</td>\n      <td>NaN</td>\n      <td>NaN</td>\n      <td>NaN</td>\n      <td>NaN</td>\n    </tr>\n    <tr>\n      <th>2</th>\n      <td>-11.664298</td>\n      <td>166.947701</td>\n      <td>1</td>\n      <td>85.2</td>\n      <td>4.00</td>\n      <td>2022-01-15 08:14:51+00:00</td>\n      <td>69</td>\n      <td>42</td>\n      <td>1.755</td>\n      <td>111</td>\n      <td>...</td>\n      <td>NaN</td>\n      <td>NaN</td>\n      <td>NaN</td>\n      <td>NaN</td>\n      <td>NaN</td>\n      <td>NaN</td>\n      <td>NaN</td>\n      <td>NaN</td>\n      <td>NaN</td>\n      <td>NaN</td>\n    </tr>\n    <tr>\n      <th>3</th>\n      <td>-11.664292</td>\n      <td>166.947682</td>\n      <td>1</td>\n      <td>85.4</td>\n      <td>6.20</td>\n      <td>2022-01-15 08:14:52+00:00</td>\n      <td>70</td>\n      <td>50</td>\n      <td>1.920</td>\n      <td>131</td>\n      <td>...</td>\n      <td>NaN</td>\n      <td>NaN</td>\n      <td>NaN</td>\n      <td>NaN</td>\n      <td>NaN</td>\n      <td>NaN</td>\n      <td>NaN</td>\n      <td>NaN</td>\n      <td>NaN</td>\n      <td>NaN</td>\n    </tr>\n    <tr>\n      <th>4</th>\n      <td>-11.664285</td>\n      <td>166.947660</td>\n      <td>1</td>\n      <td>85.4</td>\n      <td>8.80</td>\n      <td>2022-01-15 08:14:53+00:00</td>\n      <td>71</td>\n      <td>51</td>\n      <td>2.068</td>\n      <td>114</td>\n      <td>...</td>\n      <td>NaN</td>\n      <td>NaN</td>\n      <td>NaN</td>\n      <td>NaN</td>\n      <td>NaN</td>\n      <td>NaN</td>\n      <td>NaN</td>\n      <td>NaN</td>\n      <td>NaN</td>\n      <td>NaN</td>\n    </tr>\n    <tr>\n      <th>5</th>\n      <td>-11.664277</td>\n      <td>166.947637</td>\n      <td>1</td>\n      <td>85.4</td>\n      <td>11.40</td>\n      <td>2022-01-15 08:14:54+00:00</td>\n      <td>73</td>\n      <td>52</td>\n      <td>2.190</td>\n      <td>127</td>\n      <td>...</td>\n      <td>NaN</td>\n      <td>NaN</td>\n      <td>NaN</td>\n      <td>NaN</td>\n      <td>NaN</td>\n      <td>NaN</td>\n      <td>NaN</td>\n      <td>NaN</td>\n      <td>NaN</td>\n      <td>NaN</td>\n    </tr>\n    <tr>\n      <th>6</th>\n      <td>-11.664270</td>\n      <td>166.947612</td>\n      <td>1</td>\n      <td>85.6</td>\n      <td>14.30</td>\n      <td>2022-01-15 08:14:55+00:00</td>\n      <td>75</td>\n      <td>52</td>\n      <td>2.452</td>\n      <td>142</td>\n      <td>...</td>\n      <td>NaN</td>\n      <td>NaN</td>\n      <td>NaN</td>\n      <td>NaN</td>\n      <td>NaN</td>\n      <td>NaN</td>\n      <td>NaN</td>\n      <td>NaN</td>\n      <td>NaN</td>\n      <td>NaN</td>\n    </tr>\n    <tr>\n      <th>7</th>\n      <td>-11.664262</td>\n      <td>166.947585</td>\n      <td>1</td>\n      <td>85.6</td>\n      <td>17.39</td>\n      <td>2022-01-15 08:14:56+00:00</td>\n      <td>76</td>\n      <td>50</td>\n      <td>2.672</td>\n      <td>147</td>\n      <td>...</td>\n      <td>NaN</td>\n      <td>NaN</td>\n      <td>NaN</td>\n      <td>NaN</td>\n      <td>NaN</td>\n      <td>NaN</td>\n      <td>NaN</td>\n      <td>NaN</td>\n      <td>NaN</td>\n      <td>NaN</td>\n    </tr>\n    <tr>\n      <th>8</th>\n      <td>-11.664256</td>\n      <td>166.947556</td>\n      <td>1</td>\n      <td>85.8</td>\n      <td>20.60</td>\n      <td>2022-01-15 08:14:57+00:00</td>\n      <td>78</td>\n      <td>50</td>\n      <td>2.872</td>\n      <td>144</td>\n      <td>...</td>\n      <td>NaN</td>\n      <td>NaN</td>\n      <td>NaN</td>\n      <td>NaN</td>\n      <td>NaN</td>\n      <td>NaN</td>\n      <td>NaN</td>\n      <td>NaN</td>\n      <td>NaN</td>\n      <td>NaN</td>\n    </tr>\n    <tr>\n      <th>9</th>\n      <td>-11.664250</td>\n      <td>166.947525</td>\n      <td>1</td>\n      <td>85.8</td>\n      <td>24.00</td>\n      <td>2022-01-15 08:14:58+00:00</td>\n      <td>80</td>\n      <td>49</td>\n      <td>3.052</td>\n      <td>140</td>\n      <td>...</td>\n      <td>NaN</td>\n      <td>NaN</td>\n      <td>NaN</td>\n      <td>NaN</td>\n      <td>NaN</td>\n      <td>NaN</td>\n      <td>NaN</td>\n      <td>NaN</td>\n      <td>NaN</td>\n      <td>NaN</td>\n    </tr>\n  </tbody>\n</table>\n<p>10 rows × 92 columns</p>\n</div>"
     },
     "execution_count": 3,
     "metadata": {},
     "output_type": "execute_result"
    }
   ],
   "source": [
    "%load_ext autoreload\n",
    "%autoreload 2\n",
    "\n",
    "import pandas as pd\n",
    "import vamwam as v\n",
    "\n",
    "indoor_test_file = 'testdata/Luciano/Indoor/4xADZ_(3xsub60_+_1_free_ride).fit'\n",
    "\n",
    "df = v.dataprep(indoor_test_file)\n",
    "df.head(10)"
   ]
  },
  {
   "cell_type": "code",
   "execution_count": 5,
   "outputs": [
    {
     "data": {
      "application/vnd.plotly.v1+json": {
       "data": [
        {
         "hovertemplate": "variable=slope_3-4<br>interval=%{x}<br>value=%{y}<extra></extra>",
         "legendgroup": "slope_3-4",
         "line": {
          "color": "rgb(247,251,255)",
          "dash": "solid"
         },
         "marker": {
          "symbol": "circle"
         },
         "mode": "lines",
         "name": "slope_3-4",
         "orientation": "v",
         "showlegend": true,
         "x": [
          60.0,
          120.0,
          180.0,
          240.0,
          300.0,
          360.0,
          420.0,
          480.0,
          540.0,
          600.0,
          660.0,
          720.0,
          780.0,
          840.0,
          900.0,
          960.0,
          1020.0,
          1080.0,
          1140.0
         ],
         "xaxis": "x",
         "y": [
          791.9999999999993,
          593.9999999999986,
          435.9999999999991,
          384.0000000000003,
          348.0,
          283.9999999999998,
          241.7142857142861,
          214.50000000000014,
          230.66666666666683,
          240.0,
          261.8181818181818,
          275.0,
          276.9230769230769,
          264.0000000000001,
          234.4000000000001,
          207.74999999999994,
          201.88235294117624,
          226.66666666666666,
          245.684210526316
         ],
         "yaxis": "y",
         "type": "scatter"
        },
        {
         "hovertemplate": "variable=slope_4-5<br>interval=%{x}<br>value=%{y}<extra></extra>",
         "legendgroup": "slope_4-5",
         "line": {
          "color": "rgb(222,235,247)",
          "dash": "solid"
         },
         "marker": {
          "symbol": "circle"
         },
         "mode": "lines",
         "name": "slope_4-5",
         "orientation": "v",
         "showlegend": true,
         "x": [
          60.0,
          120.0,
          180.0,
          240.0,
          300.0,
          360.0,
          420.0,
          480.0,
          540.0,
          600.0,
          660.0,
          720.0,
          780.0,
          840.0,
          900.0,
          960.0,
          1020.0,
          1080.0,
          1140.0
         ],
         "xaxis": "x",
         "y": [
          863.9999999999986,
          714.0000000000003,
          576.0000000000014,
          515.9999999999997,
          484.7999999999998,
          447.9999999999996,
          402.85714285714283,
          376.5000000000003,
          361.33333333333286,
          364.7999999999998,
          373.09090909090895,
          374.0000000000004,
          390.4615384615385,
          396.85714285714295,
          404.7999999999997,
          410.2499999999999,
          395.29411764705884,
          370.0,
          370.1052631578945
         ],
         "yaxis": "y",
         "type": "scatter"
        },
        {
         "hovertemplate": "variable=slope_5-6<br>interval=%{x}<br>value=%{y}<extra></extra>",
         "legendgroup": "slope_5-6",
         "line": {
          "color": "rgb(198,219,239)",
          "dash": "solid"
         },
         "marker": {
          "symbol": "circle"
         },
         "mode": "lines",
         "name": "slope_5-6",
         "orientation": "v",
         "showlegend": true,
         "x": [
          60.0,
          120.0,
          180.0,
          240.0,
          300.0,
          360.0,
          420.0,
          480.0,
          540.0,
          600.0,
          660.0,
          720.0,
          780.0,
          840.0,
          900.0,
          960.0,
          1020.0,
          1080.0,
          1140.0
         ],
         "xaxis": "x",
         "y": [
          1007.9999999999972,
          840.0,
          775.999999999999,
          698.9999999999985,
          614.3999999999992,
          583.9999999999999,
          572.5714285714291,
          548.9999999999995,
          531.9999999999997,
          508.8000000000004,
          494.18181818181824,
          490.0,
          510.461538461538,
          515.1428571428573,
          516.8000000000002,
          529.5000000000002,
          544.2352941176468,
          548.6666666666666,
          550.736842105263
         ],
         "yaxis": "y",
         "type": "scatter"
        },
        {
         "hovertemplate": "variable=slope_6-7<br>interval=%{x}<br>value=%{y}<extra></extra>",
         "legendgroup": "slope_6-7",
         "line": {
          "color": "rgb(158,202,225)",
          "dash": "solid"
         },
         "marker": {
          "symbol": "circle"
         },
         "mode": "lines",
         "name": "slope_6-7",
         "orientation": "v",
         "showlegend": true,
         "x": [
          60.0,
          120.0,
          180.0,
          240.0,
          300.0,
          360.0,
          420.0,
          480.0,
          540.0,
          600.0,
          660.0,
          720.0,
          780.0,
          840.0,
          900.0,
          960.0,
          1020.0,
          1080.0,
          1140.0
         ],
         "xaxis": "x",
         "y": [
          1116.0000000000014,
          1080.0,
          1008.0000000000018,
          966.0000000000014,
          909.5999999999995,
          850.0,
          802.2857142857154,
          733.4999999999997,
          698.6666666666671,
          676.7999999999997,
          654.5454545454545,
          669.0000000000005,
          652.6153846153851,
          646.285714285714,
          660.0,
          654.7500000000001,
          650.8235294117646,
          662.0000000000005,
          685.8947368421051
         ],
         "yaxis": "y",
         "type": "scatter"
        },
        {
         "hovertemplate": "variable=slope_7-8<br>interval=%{x}<br>value=%{y}<extra></extra>",
         "legendgroup": "slope_7-8",
         "line": {
          "color": "rgb(107,174,214)",
          "dash": "solid"
         },
         "marker": {
          "symbol": "circle"
         },
         "mode": "lines",
         "name": "slope_7-8",
         "orientation": "v",
         "showlegend": true,
         "x": [
          60.0,
          120.0,
          180.0,
          240.0,
          300.0,
          360.0,
          420.0,
          480.0,
          540.0,
          600.0,
          660.0,
          720.0,
          780.0,
          840.0,
          900.0,
          960.0,
          1020.0,
          1080.0,
          1140.0
         ],
         "xaxis": "x",
         "y": [
          1212.0000000000027,
          1163.9999999999986,
          1156.0000000000014,
          1128.0000000000007,
          1113.6000000000008,
          1102.0000000000005,
          1098.8571428571433,
          1089.0000000000005,
          1082.6666666666674,
          1082.4000000000005,
          1077.8181818181824,
          1071.0000000000002,
          1037.5384615384623,
          993.4285714285713,
          984.0,
          1011.7500000000007,
          1041.1764705882354,
          1026.6666666666667,
          1043.3684210526317
         ],
         "yaxis": "y",
         "type": "scatter"
        },
        {
         "hovertemplate": "variable=slope_8-9<br>interval=%{x}<br>value=%{y}<extra></extra>",
         "legendgroup": "slope_8-9",
         "line": {
          "color": "rgb(66,146,198)",
          "dash": "solid"
         },
         "marker": {
          "symbol": "circle"
         },
         "mode": "lines",
         "name": "slope_8-9",
         "orientation": "v",
         "showlegend": true,
         "x": [
          60.0,
          120.0,
          180.0,
          240.0,
          300.0,
          360.0,
          420.0,
          480.0,
          540.0,
          600.0,
          660.0,
          720.0,
          780.0,
          840.0,
          900.0,
          960.0,
          1020.0,
          1080.0,
          1140.0
         ],
         "xaxis": "x",
         "y": [
          1284.0000000000057,
          1272.0000000000027,
          1196.0000000000036,
          1170.0,
          1164.0,
          1150.0,
          1150.2857142857147,
          1144.5000000000011,
          1136.0000000000007,
          1130.4000000000003,
          1131.2727272727277,
          1120.0,
          1123.384615384616,
          1122.857142857143,
          1117.6000000000004,
          1113.0000000000002,
          1111.0588235294122,
          1113.9999999999998,
          1112.8421052631581
         ],
         "yaxis": "y",
         "type": "scatter"
        },
        {
         "hovertemplate": "variable=slope_9-10<br>interval=%{x}<br>value=%{y}<extra></extra>",
         "legendgroup": "slope_9-10",
         "line": {
          "color": "rgb(33,113,181)",
          "dash": "solid"
         },
         "marker": {
          "symbol": "circle"
         },
         "mode": "lines",
         "name": "slope_9-10",
         "orientation": "v",
         "showlegend": true,
         "x": [
          60.0,
          120.0,
          180.0,
          240.0,
          300.0,
          360.0,
          420.0,
          480.0,
          540.0,
          600.0,
          660.0,
          720.0,
          780.0,
          840.0,
          900.0,
          960.0,
          1020.0,
          1080.0,
          1140.0
         ],
         "xaxis": "x",
         "y": [
          1307.9999999999973,
          1278.0000000000039,
          1192.0000000000005,
          1170.0,
          1164.0,
          1163.9999999999998,
          1164.0000000000005,
          1158.0000000000007,
          1152.0000000000005,
          1141.2000000000005,
          1135.6363636363637,
          1131.0000000000002,
          1127.0769230769233,
          1122.0000000000002,
          1116.8000000000002,
          1111.5000000000002,
          1111.0588235294122,
          1110.0,
          1112.8421052631581
         ],
         "yaxis": "y",
         "type": "scatter"
        }
       ],
       "layout": {
        "template": {
         "data": {
          "histogram2dcontour": [
           {
            "type": "histogram2dcontour",
            "colorbar": {
             "outlinewidth": 0,
             "ticks": ""
            },
            "colorscale": [
             [
              0.0,
              "#0d0887"
             ],
             [
              0.1111111111111111,
              "#46039f"
             ],
             [
              0.2222222222222222,
              "#7201a8"
             ],
             [
              0.3333333333333333,
              "#9c179e"
             ],
             [
              0.4444444444444444,
              "#bd3786"
             ],
             [
              0.5555555555555556,
              "#d8576b"
             ],
             [
              0.6666666666666666,
              "#ed7953"
             ],
             [
              0.7777777777777778,
              "#fb9f3a"
             ],
             [
              0.8888888888888888,
              "#fdca26"
             ],
             [
              1.0,
              "#f0f921"
             ]
            ]
           }
          ],
          "choropleth": [
           {
            "type": "choropleth",
            "colorbar": {
             "outlinewidth": 0,
             "ticks": ""
            }
           }
          ],
          "histogram2d": [
           {
            "type": "histogram2d",
            "colorbar": {
             "outlinewidth": 0,
             "ticks": ""
            },
            "colorscale": [
             [
              0.0,
              "#0d0887"
             ],
             [
              0.1111111111111111,
              "#46039f"
             ],
             [
              0.2222222222222222,
              "#7201a8"
             ],
             [
              0.3333333333333333,
              "#9c179e"
             ],
             [
              0.4444444444444444,
              "#bd3786"
             ],
             [
              0.5555555555555556,
              "#d8576b"
             ],
             [
              0.6666666666666666,
              "#ed7953"
             ],
             [
              0.7777777777777778,
              "#fb9f3a"
             ],
             [
              0.8888888888888888,
              "#fdca26"
             ],
             [
              1.0,
              "#f0f921"
             ]
            ]
           }
          ],
          "heatmap": [
           {
            "type": "heatmap",
            "colorbar": {
             "outlinewidth": 0,
             "ticks": ""
            },
            "colorscale": [
             [
              0.0,
              "#0d0887"
             ],
             [
              0.1111111111111111,
              "#46039f"
             ],
             [
              0.2222222222222222,
              "#7201a8"
             ],
             [
              0.3333333333333333,
              "#9c179e"
             ],
             [
              0.4444444444444444,
              "#bd3786"
             ],
             [
              0.5555555555555556,
              "#d8576b"
             ],
             [
              0.6666666666666666,
              "#ed7953"
             ],
             [
              0.7777777777777778,
              "#fb9f3a"
             ],
             [
              0.8888888888888888,
              "#fdca26"
             ],
             [
              1.0,
              "#f0f921"
             ]
            ]
           }
          ],
          "heatmapgl": [
           {
            "type": "heatmapgl",
            "colorbar": {
             "outlinewidth": 0,
             "ticks": ""
            },
            "colorscale": [
             [
              0.0,
              "#0d0887"
             ],
             [
              0.1111111111111111,
              "#46039f"
             ],
             [
              0.2222222222222222,
              "#7201a8"
             ],
             [
              0.3333333333333333,
              "#9c179e"
             ],
             [
              0.4444444444444444,
              "#bd3786"
             ],
             [
              0.5555555555555556,
              "#d8576b"
             ],
             [
              0.6666666666666666,
              "#ed7953"
             ],
             [
              0.7777777777777778,
              "#fb9f3a"
             ],
             [
              0.8888888888888888,
              "#fdca26"
             ],
             [
              1.0,
              "#f0f921"
             ]
            ]
           }
          ],
          "contourcarpet": [
           {
            "type": "contourcarpet",
            "colorbar": {
             "outlinewidth": 0,
             "ticks": ""
            }
           }
          ],
          "contour": [
           {
            "type": "contour",
            "colorbar": {
             "outlinewidth": 0,
             "ticks": ""
            },
            "colorscale": [
             [
              0.0,
              "#0d0887"
             ],
             [
              0.1111111111111111,
              "#46039f"
             ],
             [
              0.2222222222222222,
              "#7201a8"
             ],
             [
              0.3333333333333333,
              "#9c179e"
             ],
             [
              0.4444444444444444,
              "#bd3786"
             ],
             [
              0.5555555555555556,
              "#d8576b"
             ],
             [
              0.6666666666666666,
              "#ed7953"
             ],
             [
              0.7777777777777778,
              "#fb9f3a"
             ],
             [
              0.8888888888888888,
              "#fdca26"
             ],
             [
              1.0,
              "#f0f921"
             ]
            ]
           }
          ],
          "surface": [
           {
            "type": "surface",
            "colorbar": {
             "outlinewidth": 0,
             "ticks": ""
            },
            "colorscale": [
             [
              0.0,
              "#0d0887"
             ],
             [
              0.1111111111111111,
              "#46039f"
             ],
             [
              0.2222222222222222,
              "#7201a8"
             ],
             [
              0.3333333333333333,
              "#9c179e"
             ],
             [
              0.4444444444444444,
              "#bd3786"
             ],
             [
              0.5555555555555556,
              "#d8576b"
             ],
             [
              0.6666666666666666,
              "#ed7953"
             ],
             [
              0.7777777777777778,
              "#fb9f3a"
             ],
             [
              0.8888888888888888,
              "#fdca26"
             ],
             [
              1.0,
              "#f0f921"
             ]
            ]
           }
          ],
          "mesh3d": [
           {
            "type": "mesh3d",
            "colorbar": {
             "outlinewidth": 0,
             "ticks": ""
            }
           }
          ],
          "scatter": [
           {
            "fillpattern": {
             "fillmode": "overlay",
             "size": 10,
             "solidity": 0.2
            },
            "type": "scatter"
           }
          ],
          "parcoords": [
           {
            "type": "parcoords",
            "line": {
             "colorbar": {
              "outlinewidth": 0,
              "ticks": ""
             }
            }
           }
          ],
          "scatterpolargl": [
           {
            "type": "scatterpolargl",
            "marker": {
             "colorbar": {
              "outlinewidth": 0,
              "ticks": ""
             }
            }
           }
          ],
          "bar": [
           {
            "error_x": {
             "color": "#2a3f5f"
            },
            "error_y": {
             "color": "#2a3f5f"
            },
            "marker": {
             "line": {
              "color": "#E5ECF6",
              "width": 0.5
             },
             "pattern": {
              "fillmode": "overlay",
              "size": 10,
              "solidity": 0.2
             }
            },
            "type": "bar"
           }
          ],
          "scattergeo": [
           {
            "type": "scattergeo",
            "marker": {
             "colorbar": {
              "outlinewidth": 0,
              "ticks": ""
             }
            }
           }
          ],
          "scatterpolar": [
           {
            "type": "scatterpolar",
            "marker": {
             "colorbar": {
              "outlinewidth": 0,
              "ticks": ""
             }
            }
           }
          ],
          "histogram": [
           {
            "marker": {
             "pattern": {
              "fillmode": "overlay",
              "size": 10,
              "solidity": 0.2
             }
            },
            "type": "histogram"
           }
          ],
          "scattergl": [
           {
            "type": "scattergl",
            "marker": {
             "colorbar": {
              "outlinewidth": 0,
              "ticks": ""
             }
            }
           }
          ],
          "scatter3d": [
           {
            "type": "scatter3d",
            "line": {
             "colorbar": {
              "outlinewidth": 0,
              "ticks": ""
             }
            },
            "marker": {
             "colorbar": {
              "outlinewidth": 0,
              "ticks": ""
             }
            }
           }
          ],
          "scattermapbox": [
           {
            "type": "scattermapbox",
            "marker": {
             "colorbar": {
              "outlinewidth": 0,
              "ticks": ""
             }
            }
           }
          ],
          "scatterternary": [
           {
            "type": "scatterternary",
            "marker": {
             "colorbar": {
              "outlinewidth": 0,
              "ticks": ""
             }
            }
           }
          ],
          "scattercarpet": [
           {
            "type": "scattercarpet",
            "marker": {
             "colorbar": {
              "outlinewidth": 0,
              "ticks": ""
             }
            }
           }
          ],
          "carpet": [
           {
            "aaxis": {
             "endlinecolor": "#2a3f5f",
             "gridcolor": "white",
             "linecolor": "white",
             "minorgridcolor": "white",
             "startlinecolor": "#2a3f5f"
            },
            "baxis": {
             "endlinecolor": "#2a3f5f",
             "gridcolor": "white",
             "linecolor": "white",
             "minorgridcolor": "white",
             "startlinecolor": "#2a3f5f"
            },
            "type": "carpet"
           }
          ],
          "table": [
           {
            "cells": {
             "fill": {
              "color": "#EBF0F8"
             },
             "line": {
              "color": "white"
             }
            },
            "header": {
             "fill": {
              "color": "#C8D4E3"
             },
             "line": {
              "color": "white"
             }
            },
            "type": "table"
           }
          ],
          "barpolar": [
           {
            "marker": {
             "line": {
              "color": "#E5ECF6",
              "width": 0.5
             },
             "pattern": {
              "fillmode": "overlay",
              "size": 10,
              "solidity": 0.2
             }
            },
            "type": "barpolar"
           }
          ],
          "pie": [
           {
            "automargin": true,
            "type": "pie"
           }
          ]
         },
         "layout": {
          "autotypenumbers": "strict",
          "colorway": [
           "#636efa",
           "#EF553B",
           "#00cc96",
           "#ab63fa",
           "#FFA15A",
           "#19d3f3",
           "#FF6692",
           "#B6E880",
           "#FF97FF",
           "#FECB52"
          ],
          "font": {
           "color": "#2a3f5f"
          },
          "hovermode": "closest",
          "hoverlabel": {
           "align": "left"
          },
          "paper_bgcolor": "white",
          "plot_bgcolor": "#E5ECF6",
          "polar": {
           "bgcolor": "#E5ECF6",
           "angularaxis": {
            "gridcolor": "white",
            "linecolor": "white",
            "ticks": ""
           },
           "radialaxis": {
            "gridcolor": "white",
            "linecolor": "white",
            "ticks": ""
           }
          },
          "ternary": {
           "bgcolor": "#E5ECF6",
           "aaxis": {
            "gridcolor": "white",
            "linecolor": "white",
            "ticks": ""
           },
           "baxis": {
            "gridcolor": "white",
            "linecolor": "white",
            "ticks": ""
           },
           "caxis": {
            "gridcolor": "white",
            "linecolor": "white",
            "ticks": ""
           }
          },
          "coloraxis": {
           "colorbar": {
            "outlinewidth": 0,
            "ticks": ""
           }
          },
          "colorscale": {
           "sequential": [
            [
             0.0,
             "#0d0887"
            ],
            [
             0.1111111111111111,
             "#46039f"
            ],
            [
             0.2222222222222222,
             "#7201a8"
            ],
            [
             0.3333333333333333,
             "#9c179e"
            ],
            [
             0.4444444444444444,
             "#bd3786"
            ],
            [
             0.5555555555555556,
             "#d8576b"
            ],
            [
             0.6666666666666666,
             "#ed7953"
            ],
            [
             0.7777777777777778,
             "#fb9f3a"
            ],
            [
             0.8888888888888888,
             "#fdca26"
            ],
            [
             1.0,
             "#f0f921"
            ]
           ],
           "sequentialminus": [
            [
             0.0,
             "#0d0887"
            ],
            [
             0.1111111111111111,
             "#46039f"
            ],
            [
             0.2222222222222222,
             "#7201a8"
            ],
            [
             0.3333333333333333,
             "#9c179e"
            ],
            [
             0.4444444444444444,
             "#bd3786"
            ],
            [
             0.5555555555555556,
             "#d8576b"
            ],
            [
             0.6666666666666666,
             "#ed7953"
            ],
            [
             0.7777777777777778,
             "#fb9f3a"
            ],
            [
             0.8888888888888888,
             "#fdca26"
            ],
            [
             1.0,
             "#f0f921"
            ]
           ],
           "diverging": [
            [
             0,
             "#8e0152"
            ],
            [
             0.1,
             "#c51b7d"
            ],
            [
             0.2,
             "#de77ae"
            ],
            [
             0.3,
             "#f1b6da"
            ],
            [
             0.4,
             "#fde0ef"
            ],
            [
             0.5,
             "#f7f7f7"
            ],
            [
             0.6,
             "#e6f5d0"
            ],
            [
             0.7,
             "#b8e186"
            ],
            [
             0.8,
             "#7fbc41"
            ],
            [
             0.9,
             "#4d9221"
            ],
            [
             1,
             "#276419"
            ]
           ]
          },
          "xaxis": {
           "gridcolor": "white",
           "linecolor": "white",
           "ticks": "",
           "title": {
            "standoff": 15
           },
           "zerolinecolor": "white",
           "automargin": true,
           "zerolinewidth": 2
          },
          "yaxis": {
           "gridcolor": "white",
           "linecolor": "white",
           "ticks": "",
           "title": {
            "standoff": 15
           },
           "zerolinecolor": "white",
           "automargin": true,
           "zerolinewidth": 2
          },
          "scene": {
           "xaxis": {
            "backgroundcolor": "#E5ECF6",
            "gridcolor": "white",
            "linecolor": "white",
            "showbackground": true,
            "ticks": "",
            "zerolinecolor": "white",
            "gridwidth": 2
           },
           "yaxis": {
            "backgroundcolor": "#E5ECF6",
            "gridcolor": "white",
            "linecolor": "white",
            "showbackground": true,
            "ticks": "",
            "zerolinecolor": "white",
            "gridwidth": 2
           },
           "zaxis": {
            "backgroundcolor": "#E5ECF6",
            "gridcolor": "white",
            "linecolor": "white",
            "showbackground": true,
            "ticks": "",
            "zerolinecolor": "white",
            "gridwidth": 2
           }
          },
          "shapedefaults": {
           "line": {
            "color": "#2a3f5f"
           }
          },
          "annotationdefaults": {
           "arrowcolor": "#2a3f5f",
           "arrowhead": 0,
           "arrowwidth": 1
          },
          "geo": {
           "bgcolor": "white",
           "landcolor": "#E5ECF6",
           "subunitcolor": "white",
           "showland": true,
           "showlakes": true,
           "lakecolor": "white"
          },
          "title": {
           "x": 0.05
          },
          "mapbox": {
           "style": "light"
          }
         }
        },
        "xaxis": {
         "anchor": "y",
         "domain": [
          0.0,
          1.0
         ],
         "title": {
          "text": "Seconds"
         }
        },
        "yaxis": {
         "anchor": "x",
         "domain": [
          0.0,
          1.0
         ],
         "title": {
          "text": "VAM/hr"
         }
        },
        "legend": {
         "title": {
          "text": "variable"
         },
         "tracegroupgap": 0
        },
        "title": {
         "text": "Seconds VS VAM"
        },
        "width": 1000,
        "height": 800
       },
       "config": {
        "plotlyServerURL": "https://plot.ly"
       }
      },
      "text/html": "<div>                            <div id=\"306d05b9-7b5f-4fb9-b90d-d6fb26593827\" class=\"plotly-graph-div\" style=\"height:800px; width:1000px;\"></div>            <script type=\"text/javascript\">                require([\"plotly\"], function(Plotly) {                    window.PLOTLYENV=window.PLOTLYENV || {};                                    if (document.getElementById(\"306d05b9-7b5f-4fb9-b90d-d6fb26593827\")) {                    Plotly.newPlot(                        \"306d05b9-7b5f-4fb9-b90d-d6fb26593827\",                        [{\"hovertemplate\":\"variable=slope_3-4<br>interval=%{x}<br>value=%{y}<extra></extra>\",\"legendgroup\":\"slope_3-4\",\"line\":{\"color\":\"rgb(247,251,255)\",\"dash\":\"solid\"},\"marker\":{\"symbol\":\"circle\"},\"mode\":\"lines\",\"name\":\"slope_3-4\",\"orientation\":\"v\",\"showlegend\":true,\"x\":[60.0,120.0,180.0,240.0,300.0,360.0,420.0,480.0,540.0,600.0,660.0,720.0,780.0,840.0,900.0,960.0,1020.0,1080.0,1140.0],\"xaxis\":\"x\",\"y\":[791.9999999999993,593.9999999999986,435.9999999999991,384.0000000000003,348.0,283.9999999999998,241.7142857142861,214.50000000000014,230.66666666666683,240.0,261.8181818181818,275.0,276.9230769230769,264.0000000000001,234.4000000000001,207.74999999999994,201.88235294117624,226.66666666666666,245.684210526316],\"yaxis\":\"y\",\"type\":\"scatter\"},{\"hovertemplate\":\"variable=slope_4-5<br>interval=%{x}<br>value=%{y}<extra></extra>\",\"legendgroup\":\"slope_4-5\",\"line\":{\"color\":\"rgb(222,235,247)\",\"dash\":\"solid\"},\"marker\":{\"symbol\":\"circle\"},\"mode\":\"lines\",\"name\":\"slope_4-5\",\"orientation\":\"v\",\"showlegend\":true,\"x\":[60.0,120.0,180.0,240.0,300.0,360.0,420.0,480.0,540.0,600.0,660.0,720.0,780.0,840.0,900.0,960.0,1020.0,1080.0,1140.0],\"xaxis\":\"x\",\"y\":[863.9999999999986,714.0000000000003,576.0000000000014,515.9999999999997,484.7999999999998,447.9999999999996,402.85714285714283,376.5000000000003,361.33333333333286,364.7999999999998,373.09090909090895,374.0000000000004,390.4615384615385,396.85714285714295,404.7999999999997,410.2499999999999,395.29411764705884,370.0,370.1052631578945],\"yaxis\":\"y\",\"type\":\"scatter\"},{\"hovertemplate\":\"variable=slope_5-6<br>interval=%{x}<br>value=%{y}<extra></extra>\",\"legendgroup\":\"slope_5-6\",\"line\":{\"color\":\"rgb(198,219,239)\",\"dash\":\"solid\"},\"marker\":{\"symbol\":\"circle\"},\"mode\":\"lines\",\"name\":\"slope_5-6\",\"orientation\":\"v\",\"showlegend\":true,\"x\":[60.0,120.0,180.0,240.0,300.0,360.0,420.0,480.0,540.0,600.0,660.0,720.0,780.0,840.0,900.0,960.0,1020.0,1080.0,1140.0],\"xaxis\":\"x\",\"y\":[1007.9999999999972,840.0,775.999999999999,698.9999999999985,614.3999999999992,583.9999999999999,572.5714285714291,548.9999999999995,531.9999999999997,508.8000000000004,494.18181818181824,490.0,510.461538461538,515.1428571428573,516.8000000000002,529.5000000000002,544.2352941176468,548.6666666666666,550.736842105263],\"yaxis\":\"y\",\"type\":\"scatter\"},{\"hovertemplate\":\"variable=slope_6-7<br>interval=%{x}<br>value=%{y}<extra></extra>\",\"legendgroup\":\"slope_6-7\",\"line\":{\"color\":\"rgb(158,202,225)\",\"dash\":\"solid\"},\"marker\":{\"symbol\":\"circle\"},\"mode\":\"lines\",\"name\":\"slope_6-7\",\"orientation\":\"v\",\"showlegend\":true,\"x\":[60.0,120.0,180.0,240.0,300.0,360.0,420.0,480.0,540.0,600.0,660.0,720.0,780.0,840.0,900.0,960.0,1020.0,1080.0,1140.0],\"xaxis\":\"x\",\"y\":[1116.0000000000014,1080.0,1008.0000000000018,966.0000000000014,909.5999999999995,850.0,802.2857142857154,733.4999999999997,698.6666666666671,676.7999999999997,654.5454545454545,669.0000000000005,652.6153846153851,646.285714285714,660.0,654.7500000000001,650.8235294117646,662.0000000000005,685.8947368421051],\"yaxis\":\"y\",\"type\":\"scatter\"},{\"hovertemplate\":\"variable=slope_7-8<br>interval=%{x}<br>value=%{y}<extra></extra>\",\"legendgroup\":\"slope_7-8\",\"line\":{\"color\":\"rgb(107,174,214)\",\"dash\":\"solid\"},\"marker\":{\"symbol\":\"circle\"},\"mode\":\"lines\",\"name\":\"slope_7-8\",\"orientation\":\"v\",\"showlegend\":true,\"x\":[60.0,120.0,180.0,240.0,300.0,360.0,420.0,480.0,540.0,600.0,660.0,720.0,780.0,840.0,900.0,960.0,1020.0,1080.0,1140.0],\"xaxis\":\"x\",\"y\":[1212.0000000000027,1163.9999999999986,1156.0000000000014,1128.0000000000007,1113.6000000000008,1102.0000000000005,1098.8571428571433,1089.0000000000005,1082.6666666666674,1082.4000000000005,1077.8181818181824,1071.0000000000002,1037.5384615384623,993.4285714285713,984.0,1011.7500000000007,1041.1764705882354,1026.6666666666667,1043.3684210526317],\"yaxis\":\"y\",\"type\":\"scatter\"},{\"hovertemplate\":\"variable=slope_8-9<br>interval=%{x}<br>value=%{y}<extra></extra>\",\"legendgroup\":\"slope_8-9\",\"line\":{\"color\":\"rgb(66,146,198)\",\"dash\":\"solid\"},\"marker\":{\"symbol\":\"circle\"},\"mode\":\"lines\",\"name\":\"slope_8-9\",\"orientation\":\"v\",\"showlegend\":true,\"x\":[60.0,120.0,180.0,240.0,300.0,360.0,420.0,480.0,540.0,600.0,660.0,720.0,780.0,840.0,900.0,960.0,1020.0,1080.0,1140.0],\"xaxis\":\"x\",\"y\":[1284.0000000000057,1272.0000000000027,1196.0000000000036,1170.0,1164.0,1150.0,1150.2857142857147,1144.5000000000011,1136.0000000000007,1130.4000000000003,1131.2727272727277,1120.0,1123.384615384616,1122.857142857143,1117.6000000000004,1113.0000000000002,1111.0588235294122,1113.9999999999998,1112.8421052631581],\"yaxis\":\"y\",\"type\":\"scatter\"},{\"hovertemplate\":\"variable=slope_9-10<br>interval=%{x}<br>value=%{y}<extra></extra>\",\"legendgroup\":\"slope_9-10\",\"line\":{\"color\":\"rgb(33,113,181)\",\"dash\":\"solid\"},\"marker\":{\"symbol\":\"circle\"},\"mode\":\"lines\",\"name\":\"slope_9-10\",\"orientation\":\"v\",\"showlegend\":true,\"x\":[60.0,120.0,180.0,240.0,300.0,360.0,420.0,480.0,540.0,600.0,660.0,720.0,780.0,840.0,900.0,960.0,1020.0,1080.0,1140.0],\"xaxis\":\"x\",\"y\":[1307.9999999999973,1278.0000000000039,1192.0000000000005,1170.0,1164.0,1163.9999999999998,1164.0000000000005,1158.0000000000007,1152.0000000000005,1141.2000000000005,1135.6363636363637,1131.0000000000002,1127.0769230769233,1122.0000000000002,1116.8000000000002,1111.5000000000002,1111.0588235294122,1110.0,1112.8421052631581],\"yaxis\":\"y\",\"type\":\"scatter\"}],                        {\"template\":{\"data\":{\"histogram2dcontour\":[{\"type\":\"histogram2dcontour\",\"colorbar\":{\"outlinewidth\":0,\"ticks\":\"\"},\"colorscale\":[[0.0,\"#0d0887\"],[0.1111111111111111,\"#46039f\"],[0.2222222222222222,\"#7201a8\"],[0.3333333333333333,\"#9c179e\"],[0.4444444444444444,\"#bd3786\"],[0.5555555555555556,\"#d8576b\"],[0.6666666666666666,\"#ed7953\"],[0.7777777777777778,\"#fb9f3a\"],[0.8888888888888888,\"#fdca26\"],[1.0,\"#f0f921\"]]}],\"choropleth\":[{\"type\":\"choropleth\",\"colorbar\":{\"outlinewidth\":0,\"ticks\":\"\"}}],\"histogram2d\":[{\"type\":\"histogram2d\",\"colorbar\":{\"outlinewidth\":0,\"ticks\":\"\"},\"colorscale\":[[0.0,\"#0d0887\"],[0.1111111111111111,\"#46039f\"],[0.2222222222222222,\"#7201a8\"],[0.3333333333333333,\"#9c179e\"],[0.4444444444444444,\"#bd3786\"],[0.5555555555555556,\"#d8576b\"],[0.6666666666666666,\"#ed7953\"],[0.7777777777777778,\"#fb9f3a\"],[0.8888888888888888,\"#fdca26\"],[1.0,\"#f0f921\"]]}],\"heatmap\":[{\"type\":\"heatmap\",\"colorbar\":{\"outlinewidth\":0,\"ticks\":\"\"},\"colorscale\":[[0.0,\"#0d0887\"],[0.1111111111111111,\"#46039f\"],[0.2222222222222222,\"#7201a8\"],[0.3333333333333333,\"#9c179e\"],[0.4444444444444444,\"#bd3786\"],[0.5555555555555556,\"#d8576b\"],[0.6666666666666666,\"#ed7953\"],[0.7777777777777778,\"#fb9f3a\"],[0.8888888888888888,\"#fdca26\"],[1.0,\"#f0f921\"]]}],\"heatmapgl\":[{\"type\":\"heatmapgl\",\"colorbar\":{\"outlinewidth\":0,\"ticks\":\"\"},\"colorscale\":[[0.0,\"#0d0887\"],[0.1111111111111111,\"#46039f\"],[0.2222222222222222,\"#7201a8\"],[0.3333333333333333,\"#9c179e\"],[0.4444444444444444,\"#bd3786\"],[0.5555555555555556,\"#d8576b\"],[0.6666666666666666,\"#ed7953\"],[0.7777777777777778,\"#fb9f3a\"],[0.8888888888888888,\"#fdca26\"],[1.0,\"#f0f921\"]]}],\"contourcarpet\":[{\"type\":\"contourcarpet\",\"colorbar\":{\"outlinewidth\":0,\"ticks\":\"\"}}],\"contour\":[{\"type\":\"contour\",\"colorbar\":{\"outlinewidth\":0,\"ticks\":\"\"},\"colorscale\":[[0.0,\"#0d0887\"],[0.1111111111111111,\"#46039f\"],[0.2222222222222222,\"#7201a8\"],[0.3333333333333333,\"#9c179e\"],[0.4444444444444444,\"#bd3786\"],[0.5555555555555556,\"#d8576b\"],[0.6666666666666666,\"#ed7953\"],[0.7777777777777778,\"#fb9f3a\"],[0.8888888888888888,\"#fdca26\"],[1.0,\"#f0f921\"]]}],\"surface\":[{\"type\":\"surface\",\"colorbar\":{\"outlinewidth\":0,\"ticks\":\"\"},\"colorscale\":[[0.0,\"#0d0887\"],[0.1111111111111111,\"#46039f\"],[0.2222222222222222,\"#7201a8\"],[0.3333333333333333,\"#9c179e\"],[0.4444444444444444,\"#bd3786\"],[0.5555555555555556,\"#d8576b\"],[0.6666666666666666,\"#ed7953\"],[0.7777777777777778,\"#fb9f3a\"],[0.8888888888888888,\"#fdca26\"],[1.0,\"#f0f921\"]]}],\"mesh3d\":[{\"type\":\"mesh3d\",\"colorbar\":{\"outlinewidth\":0,\"ticks\":\"\"}}],\"scatter\":[{\"fillpattern\":{\"fillmode\":\"overlay\",\"size\":10,\"solidity\":0.2},\"type\":\"scatter\"}],\"parcoords\":[{\"type\":\"parcoords\",\"line\":{\"colorbar\":{\"outlinewidth\":0,\"ticks\":\"\"}}}],\"scatterpolargl\":[{\"type\":\"scatterpolargl\",\"marker\":{\"colorbar\":{\"outlinewidth\":0,\"ticks\":\"\"}}}],\"bar\":[{\"error_x\":{\"color\":\"#2a3f5f\"},\"error_y\":{\"color\":\"#2a3f5f\"},\"marker\":{\"line\":{\"color\":\"#E5ECF6\",\"width\":0.5},\"pattern\":{\"fillmode\":\"overlay\",\"size\":10,\"solidity\":0.2}},\"type\":\"bar\"}],\"scattergeo\":[{\"type\":\"scattergeo\",\"marker\":{\"colorbar\":{\"outlinewidth\":0,\"ticks\":\"\"}}}],\"scatterpolar\":[{\"type\":\"scatterpolar\",\"marker\":{\"colorbar\":{\"outlinewidth\":0,\"ticks\":\"\"}}}],\"histogram\":[{\"marker\":{\"pattern\":{\"fillmode\":\"overlay\",\"size\":10,\"solidity\":0.2}},\"type\":\"histogram\"}],\"scattergl\":[{\"type\":\"scattergl\",\"marker\":{\"colorbar\":{\"outlinewidth\":0,\"ticks\":\"\"}}}],\"scatter3d\":[{\"type\":\"scatter3d\",\"line\":{\"colorbar\":{\"outlinewidth\":0,\"ticks\":\"\"}},\"marker\":{\"colorbar\":{\"outlinewidth\":0,\"ticks\":\"\"}}}],\"scattermapbox\":[{\"type\":\"scattermapbox\",\"marker\":{\"colorbar\":{\"outlinewidth\":0,\"ticks\":\"\"}}}],\"scatterternary\":[{\"type\":\"scatterternary\",\"marker\":{\"colorbar\":{\"outlinewidth\":0,\"ticks\":\"\"}}}],\"scattercarpet\":[{\"type\":\"scattercarpet\",\"marker\":{\"colorbar\":{\"outlinewidth\":0,\"ticks\":\"\"}}}],\"carpet\":[{\"aaxis\":{\"endlinecolor\":\"#2a3f5f\",\"gridcolor\":\"white\",\"linecolor\":\"white\",\"minorgridcolor\":\"white\",\"startlinecolor\":\"#2a3f5f\"},\"baxis\":{\"endlinecolor\":\"#2a3f5f\",\"gridcolor\":\"white\",\"linecolor\":\"white\",\"minorgridcolor\":\"white\",\"startlinecolor\":\"#2a3f5f\"},\"type\":\"carpet\"}],\"table\":[{\"cells\":{\"fill\":{\"color\":\"#EBF0F8\"},\"line\":{\"color\":\"white\"}},\"header\":{\"fill\":{\"color\":\"#C8D4E3\"},\"line\":{\"color\":\"white\"}},\"type\":\"table\"}],\"barpolar\":[{\"marker\":{\"line\":{\"color\":\"#E5ECF6\",\"width\":0.5},\"pattern\":{\"fillmode\":\"overlay\",\"size\":10,\"solidity\":0.2}},\"type\":\"barpolar\"}],\"pie\":[{\"automargin\":true,\"type\":\"pie\"}]},\"layout\":{\"autotypenumbers\":\"strict\",\"colorway\":[\"#636efa\",\"#EF553B\",\"#00cc96\",\"#ab63fa\",\"#FFA15A\",\"#19d3f3\",\"#FF6692\",\"#B6E880\",\"#FF97FF\",\"#FECB52\"],\"font\":{\"color\":\"#2a3f5f\"},\"hovermode\":\"closest\",\"hoverlabel\":{\"align\":\"left\"},\"paper_bgcolor\":\"white\",\"plot_bgcolor\":\"#E5ECF6\",\"polar\":{\"bgcolor\":\"#E5ECF6\",\"angularaxis\":{\"gridcolor\":\"white\",\"linecolor\":\"white\",\"ticks\":\"\"},\"radialaxis\":{\"gridcolor\":\"white\",\"linecolor\":\"white\",\"ticks\":\"\"}},\"ternary\":{\"bgcolor\":\"#E5ECF6\",\"aaxis\":{\"gridcolor\":\"white\",\"linecolor\":\"white\",\"ticks\":\"\"},\"baxis\":{\"gridcolor\":\"white\",\"linecolor\":\"white\",\"ticks\":\"\"},\"caxis\":{\"gridcolor\":\"white\",\"linecolor\":\"white\",\"ticks\":\"\"}},\"coloraxis\":{\"colorbar\":{\"outlinewidth\":0,\"ticks\":\"\"}},\"colorscale\":{\"sequential\":[[0.0,\"#0d0887\"],[0.1111111111111111,\"#46039f\"],[0.2222222222222222,\"#7201a8\"],[0.3333333333333333,\"#9c179e\"],[0.4444444444444444,\"#bd3786\"],[0.5555555555555556,\"#d8576b\"],[0.6666666666666666,\"#ed7953\"],[0.7777777777777778,\"#fb9f3a\"],[0.8888888888888888,\"#fdca26\"],[1.0,\"#f0f921\"]],\"sequentialminus\":[[0.0,\"#0d0887\"],[0.1111111111111111,\"#46039f\"],[0.2222222222222222,\"#7201a8\"],[0.3333333333333333,\"#9c179e\"],[0.4444444444444444,\"#bd3786\"],[0.5555555555555556,\"#d8576b\"],[0.6666666666666666,\"#ed7953\"],[0.7777777777777778,\"#fb9f3a\"],[0.8888888888888888,\"#fdca26\"],[1.0,\"#f0f921\"]],\"diverging\":[[0,\"#8e0152\"],[0.1,\"#c51b7d\"],[0.2,\"#de77ae\"],[0.3,\"#f1b6da\"],[0.4,\"#fde0ef\"],[0.5,\"#f7f7f7\"],[0.6,\"#e6f5d0\"],[0.7,\"#b8e186\"],[0.8,\"#7fbc41\"],[0.9,\"#4d9221\"],[1,\"#276419\"]]},\"xaxis\":{\"gridcolor\":\"white\",\"linecolor\":\"white\",\"ticks\":\"\",\"title\":{\"standoff\":15},\"zerolinecolor\":\"white\",\"automargin\":true,\"zerolinewidth\":2},\"yaxis\":{\"gridcolor\":\"white\",\"linecolor\":\"white\",\"ticks\":\"\",\"title\":{\"standoff\":15},\"zerolinecolor\":\"white\",\"automargin\":true,\"zerolinewidth\":2},\"scene\":{\"xaxis\":{\"backgroundcolor\":\"#E5ECF6\",\"gridcolor\":\"white\",\"linecolor\":\"white\",\"showbackground\":true,\"ticks\":\"\",\"zerolinecolor\":\"white\",\"gridwidth\":2},\"yaxis\":{\"backgroundcolor\":\"#E5ECF6\",\"gridcolor\":\"white\",\"linecolor\":\"white\",\"showbackground\":true,\"ticks\":\"\",\"zerolinecolor\":\"white\",\"gridwidth\":2},\"zaxis\":{\"backgroundcolor\":\"#E5ECF6\",\"gridcolor\":\"white\",\"linecolor\":\"white\",\"showbackground\":true,\"ticks\":\"\",\"zerolinecolor\":\"white\",\"gridwidth\":2}},\"shapedefaults\":{\"line\":{\"color\":\"#2a3f5f\"}},\"annotationdefaults\":{\"arrowcolor\":\"#2a3f5f\",\"arrowhead\":0,\"arrowwidth\":1},\"geo\":{\"bgcolor\":\"white\",\"landcolor\":\"#E5ECF6\",\"subunitcolor\":\"white\",\"showland\":true,\"showlakes\":true,\"lakecolor\":\"white\"},\"title\":{\"x\":0.05},\"mapbox\":{\"style\":\"light\"}}},\"xaxis\":{\"anchor\":\"y\",\"domain\":[0.0,1.0],\"title\":{\"text\":\"Seconds\"}},\"yaxis\":{\"anchor\":\"x\",\"domain\":[0.0,1.0],\"title\":{\"text\":\"VAM/hr\"}},\"legend\":{\"title\":{\"text\":\"variable\"},\"tracegroupgap\":0},\"title\":{\"text\":\"Seconds VS VAM\"},\"width\":1000,\"height\":800},                        {\"responsive\": true}                    ).then(function(){\n                            \nvar gd = document.getElementById('306d05b9-7b5f-4fb9-b90d-d6fb26593827');\nvar x = new MutationObserver(function (mutations, observer) {{\n        var display = window.getComputedStyle(gd).display;\n        if (!display || display === 'none') {{\n            console.log([gd, 'removed!']);\n            Plotly.purge(gd);\n            observer.disconnect();\n        }}\n}});\n\n// Listen for the removal of the full notebook cells\nvar notebookContainer = gd.closest('#notebook-container');\nif (notebookContainer) {{\n    x.observe(notebookContainer, {childList: true});\n}}\n\n// Listen for the clearing of the current output cell\nvar outputEl = gd.closest('.output');\nif (outputEl) {{\n    x.observe(outputEl, {childList: true});\n}}\n\n                        })                };                });            </script>        </div>"
     },
     "metadata": {},
     "output_type": "display_data"
    },
    {
     "data": {
      "application/vnd.plotly.v1+json": {
       "data": [
        {
         "hovertemplate": "variable=slope_3-4<br>interval=%{x}<br>value=%{y}<extra></extra>",
         "legendgroup": "slope_3-4",
         "line": {
          "color": "rgb(247,251,255)",
          "dash": "solid"
         },
         "marker": {
          "symbol": "circle"
         },
         "mode": "lines",
         "name": "slope_3-4",
         "orientation": "v",
         "showlegend": true,
         "x": [
          60.0,
          120.0,
          180.0,
          240.0,
          300.0,
          360.0,
          420.0,
          480.0,
          540.0,
          600.0,
          660.0,
          720.0,
          780.0,
          840.0,
          900.0,
          960.0,
          1020.0,
          1080.0,
          1140.0
         ],
         "xaxis": "x",
         "y": [
          6.6256933471159165,
          4.803722120014398,
          3.351233218909435,
          2.8529308377493385,
          2.5237721284292296,
          1.9272457645661594,
          1.5000854905117054,
          1.219479253970232,
          1.3762357088718333,
          1.475551583079737,
          1.6825495132121508,
          1.8080824662481771,
          1.8323619211811033,
          1.6936711638649684,
          1.3829987055117372,
          1.1288658132746336,
          1.0667772895527423,
          1.291489405629547,
          1.4836721919287084
         ],
         "yaxis": "y",
         "type": "scatter"
        },
        {
         "hovertemplate": "variable=slope_4-5<br>interval=%{x}<br>value=%{y}<extra></extra>",
         "legendgroup": "slope_4-5",
         "line": {
          "color": "rgb(222,235,247)",
          "dash": "solid"
         },
         "marker": {
          "symbol": "circle"
         },
         "mode": "lines",
         "name": "slope_4-5",
         "orientation": "v",
         "showlegend": true,
         "x": [
          60.0,
          120.0,
          180.0,
          240.0,
          300.0,
          360.0,
          420.0,
          480.0,
          540.0,
          600.0,
          660.0,
          720.0,
          780.0,
          840.0,
          900.0,
          960.0,
          1020.0,
          1080.0,
          1140.0
         ],
         "xaxis": "x",
         "y": [
          7.171627413049976,
          5.766562098020618,
          4.475916670737273,
          3.916196648868569,
          3.6474723506536746,
          3.3159469615754196,
          2.889509632505162,
          2.6173918903042606,
          2.4413566964282607,
          2.459101851764133,
          2.549288192555183,
          2.572869900372166,
          2.7354988245419567,
          2.806236360501947,
          2.8785864874321923,
          2.906062574870684,
          2.7405916781864894,
          2.468825342987726,
          2.457036049700903
         ],
         "yaxis": "y",
         "type": "scatter"
        },
        {
         "hovertemplate": "variable=slope_5-6<br>interval=%{x}<br>value=%{y}<extra></extra>",
         "legendgroup": "slope_5-6",
         "line": {
          "color": "rgb(198,219,239)",
          "dash": "solid"
         },
         "marker": {
          "symbol": "circle"
         },
         "mode": "lines",
         "name": "slope_5-6",
         "orientation": "v",
         "showlegend": true,
         "x": [
          60.0,
          120.0,
          180.0,
          240.0,
          300.0,
          360.0,
          420.0,
          480.0,
          540.0,
          600.0,
          660.0,
          720.0,
          780.0,
          840.0,
          900.0,
          960.0,
          1020.0,
          1080.0,
          1140.0
         ],
         "xaxis": "x",
         "y": [
          7.295296310774727,
          6.605152954809656,
          5.569609750592917,
          4.989876340086892,
          4.695418742775141,
          4.435442075157132,
          4.327724718785759,
          4.100334576361655,
          3.919185815872245,
          3.6898993144765306,
          3.5395680813481065,
          3.498266539419992,
          3.667475633094102,
          3.7089323077199623,
          3.7173911194635676,
          3.835048040966503,
          3.955797199933755,
          4.002469194350186,
          4.024025812526901
         ],
         "yaxis": "y",
         "type": "scatter"
        },
        {
         "hovertemplate": "variable=slope_6-7<br>interval=%{x}<br>value=%{y}<extra></extra>",
         "legendgroup": "slope_6-7",
         "line": {
          "color": "rgb(158,202,225)",
          "dash": "solid"
         },
         "marker": {
          "symbol": "circle"
         },
         "mode": "lines",
         "name": "slope_6-7",
         "orientation": "v",
         "showlegend": true,
         "x": [
          60.0,
          120.0,
          180.0,
          240.0,
          300.0,
          360.0,
          420.0,
          480.0,
          540.0,
          600.0,
          660.0,
          720.0,
          780.0,
          840.0,
          900.0,
          960.0,
          1020.0,
          1080.0,
          1140.0
         ],
         "xaxis": "x",
         "y": [
          8.02031788839703,
          7.721722206078945,
          7.400888384682926,
          6.388057838535556,
          5.91087010591898,
          5.563555506775713,
          5.435414466080803,
          5.399685512463454,
          5.334596802483253,
          5.1072615003237,
          4.928351441904011,
          5.024423471930766,
          4.847746421617362,
          4.765230051389035,
          4.866801642901709,
          4.8110667530406515,
          4.7724344651051505,
          4.840726981014684,
          5.036221971071217
         ],
         "yaxis": "y",
         "type": "scatter"
        },
        {
         "hovertemplate": "variable=slope_7-8<br>interval=%{x}<br>value=%{y}<extra></extra>",
         "legendgroup": "slope_7-8",
         "line": {
          "color": "rgb(107,174,214)",
          "dash": "solid"
         },
         "marker": {
          "symbol": "circle"
         },
         "mode": "lines",
         "name": "slope_7-8",
         "orientation": "v",
         "showlegend": true,
         "x": [
          60.0,
          120.0,
          180.0,
          240.0,
          300.0,
          360.0,
          420.0,
          480.0,
          540.0,
          600.0,
          660.0,
          720.0,
          780.0,
          840.0,
          900.0,
          960.0,
          1020.0,
          1080.0,
          1140.0
         ],
         "xaxis": "x",
         "y": [
          8.790580294061836,
          8.305769079634628,
          8.068841611300694,
          7.981160506934469,
          7.915887902997107,
          7.917636073956383,
          7.888199653120053,
          7.853425568994823,
          7.8416470627330375,
          7.838461726719859,
          7.802544532889013,
          7.768944264546154,
          7.143428450770135,
          6.894516322780405,
          6.581390333003104,
          6.628710106773022,
          6.850503722663297,
          7.109203471185653,
          7.018589920188505
         ],
         "yaxis": "y",
         "type": "scatter"
        },
        {
         "hovertemplate": "variable=slope_8-9<br>interval=%{x}<br>value=%{y}<extra></extra>",
         "legendgroup": "slope_8-9",
         "line": {
          "color": "rgb(66,146,198)",
          "dash": "solid"
         },
         "marker": {
          "symbol": "circle"
         },
         "mode": "lines",
         "name": "slope_8-9",
         "orientation": "v",
         "showlegend": true,
         "x": [
          60.0,
          120.0,
          180.0,
          240.0,
          300.0,
          360.0,
          420.0,
          480.0,
          540.0,
          600.0,
          660.0,
          720.0,
          780.0,
          840.0,
          900.0,
          960.0,
          1020.0,
          1080.0,
          1140.0
         ],
         "xaxis": "x",
         "y": [
          9.713889042117692,
          8.399418913314905,
          8.12115459919016,
          8.226055994950693,
          8.184649359186189,
          8.051425478317467,
          8.076594854477786,
          8.058173580721157,
          8.059726999506172,
          8.038355846019542,
          8.03823602294133,
          8.014557825000498,
          8.01802401926055,
          8.027400280339887,
          8.027128782470704,
          8.014097916727001,
          8.010519043402592,
          8.01273724440289,
          7.998152639061891
         ],
         "yaxis": "y",
         "type": "scatter"
        },
        {
         "hovertemplate": "variable=slope_9-10<br>interval=%{x}<br>value=%{y}<extra></extra>",
         "legendgroup": "slope_9-10",
         "line": {
          "color": "rgb(33,113,181)",
          "dash": "solid"
         },
         "marker": {
          "symbol": "circle"
         },
         "mode": "lines",
         "name": "slope_9-10",
         "orientation": "v",
         "showlegend": true,
         "x": [
          60.0,
          120.0,
          180.0,
          240.0,
          300.0,
          360.0,
          420.0,
          480.0,
          540.0,
          600.0,
          660.0,
          720.0,
          780.0,
          840.0,
          900.0,
          960.0,
          1020.0,
          1080.0,
          1140.0
         ],
         "xaxis": "x",
         "y": [
          10.097999717366196,
          8.970504204149266,
          8.641276592169573,
          8.474446184887482,
          8.467979366031283,
          8.368265846350589,
          8.367216583699863,
          8.340869226523044,
          8.365089325408086,
          8.325104793100842,
          8.395724202396272,
          8.371227330840487,
          8.350453889842656,
          8.41733019751454,
          8.373413494397955,
          8.355752649712898,
          8.275091201897945,
          8.220696567119429,
          8.198877609225919
         ],
         "yaxis": "y",
         "type": "scatter"
        }
       ],
       "layout": {
        "template": {
         "data": {
          "histogram2dcontour": [
           {
            "type": "histogram2dcontour",
            "colorbar": {
             "outlinewidth": 0,
             "ticks": ""
            },
            "colorscale": [
             [
              0.0,
              "#0d0887"
             ],
             [
              0.1111111111111111,
              "#46039f"
             ],
             [
              0.2222222222222222,
              "#7201a8"
             ],
             [
              0.3333333333333333,
              "#9c179e"
             ],
             [
              0.4444444444444444,
              "#bd3786"
             ],
             [
              0.5555555555555556,
              "#d8576b"
             ],
             [
              0.6666666666666666,
              "#ed7953"
             ],
             [
              0.7777777777777778,
              "#fb9f3a"
             ],
             [
              0.8888888888888888,
              "#fdca26"
             ],
             [
              1.0,
              "#f0f921"
             ]
            ]
           }
          ],
          "choropleth": [
           {
            "type": "choropleth",
            "colorbar": {
             "outlinewidth": 0,
             "ticks": ""
            }
           }
          ],
          "histogram2d": [
           {
            "type": "histogram2d",
            "colorbar": {
             "outlinewidth": 0,
             "ticks": ""
            },
            "colorscale": [
             [
              0.0,
              "#0d0887"
             ],
             [
              0.1111111111111111,
              "#46039f"
             ],
             [
              0.2222222222222222,
              "#7201a8"
             ],
             [
              0.3333333333333333,
              "#9c179e"
             ],
             [
              0.4444444444444444,
              "#bd3786"
             ],
             [
              0.5555555555555556,
              "#d8576b"
             ],
             [
              0.6666666666666666,
              "#ed7953"
             ],
             [
              0.7777777777777778,
              "#fb9f3a"
             ],
             [
              0.8888888888888888,
              "#fdca26"
             ],
             [
              1.0,
              "#f0f921"
             ]
            ]
           }
          ],
          "heatmap": [
           {
            "type": "heatmap",
            "colorbar": {
             "outlinewidth": 0,
             "ticks": ""
            },
            "colorscale": [
             [
              0.0,
              "#0d0887"
             ],
             [
              0.1111111111111111,
              "#46039f"
             ],
             [
              0.2222222222222222,
              "#7201a8"
             ],
             [
              0.3333333333333333,
              "#9c179e"
             ],
             [
              0.4444444444444444,
              "#bd3786"
             ],
             [
              0.5555555555555556,
              "#d8576b"
             ],
             [
              0.6666666666666666,
              "#ed7953"
             ],
             [
              0.7777777777777778,
              "#fb9f3a"
             ],
             [
              0.8888888888888888,
              "#fdca26"
             ],
             [
              1.0,
              "#f0f921"
             ]
            ]
           }
          ],
          "heatmapgl": [
           {
            "type": "heatmapgl",
            "colorbar": {
             "outlinewidth": 0,
             "ticks": ""
            },
            "colorscale": [
             [
              0.0,
              "#0d0887"
             ],
             [
              0.1111111111111111,
              "#46039f"
             ],
             [
              0.2222222222222222,
              "#7201a8"
             ],
             [
              0.3333333333333333,
              "#9c179e"
             ],
             [
              0.4444444444444444,
              "#bd3786"
             ],
             [
              0.5555555555555556,
              "#d8576b"
             ],
             [
              0.6666666666666666,
              "#ed7953"
             ],
             [
              0.7777777777777778,
              "#fb9f3a"
             ],
             [
              0.8888888888888888,
              "#fdca26"
             ],
             [
              1.0,
              "#f0f921"
             ]
            ]
           }
          ],
          "contourcarpet": [
           {
            "type": "contourcarpet",
            "colorbar": {
             "outlinewidth": 0,
             "ticks": ""
            }
           }
          ],
          "contour": [
           {
            "type": "contour",
            "colorbar": {
             "outlinewidth": 0,
             "ticks": ""
            },
            "colorscale": [
             [
              0.0,
              "#0d0887"
             ],
             [
              0.1111111111111111,
              "#46039f"
             ],
             [
              0.2222222222222222,
              "#7201a8"
             ],
             [
              0.3333333333333333,
              "#9c179e"
             ],
             [
              0.4444444444444444,
              "#bd3786"
             ],
             [
              0.5555555555555556,
              "#d8576b"
             ],
             [
              0.6666666666666666,
              "#ed7953"
             ],
             [
              0.7777777777777778,
              "#fb9f3a"
             ],
             [
              0.8888888888888888,
              "#fdca26"
             ],
             [
              1.0,
              "#f0f921"
             ]
            ]
           }
          ],
          "surface": [
           {
            "type": "surface",
            "colorbar": {
             "outlinewidth": 0,
             "ticks": ""
            },
            "colorscale": [
             [
              0.0,
              "#0d0887"
             ],
             [
              0.1111111111111111,
              "#46039f"
             ],
             [
              0.2222222222222222,
              "#7201a8"
             ],
             [
              0.3333333333333333,
              "#9c179e"
             ],
             [
              0.4444444444444444,
              "#bd3786"
             ],
             [
              0.5555555555555556,
              "#d8576b"
             ],
             [
              0.6666666666666666,
              "#ed7953"
             ],
             [
              0.7777777777777778,
              "#fb9f3a"
             ],
             [
              0.8888888888888888,
              "#fdca26"
             ],
             [
              1.0,
              "#f0f921"
             ]
            ]
           }
          ],
          "mesh3d": [
           {
            "type": "mesh3d",
            "colorbar": {
             "outlinewidth": 0,
             "ticks": ""
            }
           }
          ],
          "scatter": [
           {
            "fillpattern": {
             "fillmode": "overlay",
             "size": 10,
             "solidity": 0.2
            },
            "type": "scatter"
           }
          ],
          "parcoords": [
           {
            "type": "parcoords",
            "line": {
             "colorbar": {
              "outlinewidth": 0,
              "ticks": ""
             }
            }
           }
          ],
          "scatterpolargl": [
           {
            "type": "scatterpolargl",
            "marker": {
             "colorbar": {
              "outlinewidth": 0,
              "ticks": ""
             }
            }
           }
          ],
          "bar": [
           {
            "error_x": {
             "color": "#2a3f5f"
            },
            "error_y": {
             "color": "#2a3f5f"
            },
            "marker": {
             "line": {
              "color": "#E5ECF6",
              "width": 0.5
             },
             "pattern": {
              "fillmode": "overlay",
              "size": 10,
              "solidity": 0.2
             }
            },
            "type": "bar"
           }
          ],
          "scattergeo": [
           {
            "type": "scattergeo",
            "marker": {
             "colorbar": {
              "outlinewidth": 0,
              "ticks": ""
             }
            }
           }
          ],
          "scatterpolar": [
           {
            "type": "scatterpolar",
            "marker": {
             "colorbar": {
              "outlinewidth": 0,
              "ticks": ""
             }
            }
           }
          ],
          "histogram": [
           {
            "marker": {
             "pattern": {
              "fillmode": "overlay",
              "size": 10,
              "solidity": 0.2
             }
            },
            "type": "histogram"
           }
          ],
          "scattergl": [
           {
            "type": "scattergl",
            "marker": {
             "colorbar": {
              "outlinewidth": 0,
              "ticks": ""
             }
            }
           }
          ],
          "scatter3d": [
           {
            "type": "scatter3d",
            "line": {
             "colorbar": {
              "outlinewidth": 0,
              "ticks": ""
             }
            },
            "marker": {
             "colorbar": {
              "outlinewidth": 0,
              "ticks": ""
             }
            }
           }
          ],
          "scattermapbox": [
           {
            "type": "scattermapbox",
            "marker": {
             "colorbar": {
              "outlinewidth": 0,
              "ticks": ""
             }
            }
           }
          ],
          "scatterternary": [
           {
            "type": "scatterternary",
            "marker": {
             "colorbar": {
              "outlinewidth": 0,
              "ticks": ""
             }
            }
           }
          ],
          "scattercarpet": [
           {
            "type": "scattercarpet",
            "marker": {
             "colorbar": {
              "outlinewidth": 0,
              "ticks": ""
             }
            }
           }
          ],
          "carpet": [
           {
            "aaxis": {
             "endlinecolor": "#2a3f5f",
             "gridcolor": "white",
             "linecolor": "white",
             "minorgridcolor": "white",
             "startlinecolor": "#2a3f5f"
            },
            "baxis": {
             "endlinecolor": "#2a3f5f",
             "gridcolor": "white",
             "linecolor": "white",
             "minorgridcolor": "white",
             "startlinecolor": "#2a3f5f"
            },
            "type": "carpet"
           }
          ],
          "table": [
           {
            "cells": {
             "fill": {
              "color": "#EBF0F8"
             },
             "line": {
              "color": "white"
             }
            },
            "header": {
             "fill": {
              "color": "#C8D4E3"
             },
             "line": {
              "color": "white"
             }
            },
            "type": "table"
           }
          ],
          "barpolar": [
           {
            "marker": {
             "line": {
              "color": "#E5ECF6",
              "width": 0.5
             },
             "pattern": {
              "fillmode": "overlay",
              "size": 10,
              "solidity": 0.2
             }
            },
            "type": "barpolar"
           }
          ],
          "pie": [
           {
            "automargin": true,
            "type": "pie"
           }
          ]
         },
         "layout": {
          "autotypenumbers": "strict",
          "colorway": [
           "#636efa",
           "#EF553B",
           "#00cc96",
           "#ab63fa",
           "#FFA15A",
           "#19d3f3",
           "#FF6692",
           "#B6E880",
           "#FF97FF",
           "#FECB52"
          ],
          "font": {
           "color": "#2a3f5f"
          },
          "hovermode": "closest",
          "hoverlabel": {
           "align": "left"
          },
          "paper_bgcolor": "white",
          "plot_bgcolor": "#E5ECF6",
          "polar": {
           "bgcolor": "#E5ECF6",
           "angularaxis": {
            "gridcolor": "white",
            "linecolor": "white",
            "ticks": ""
           },
           "radialaxis": {
            "gridcolor": "white",
            "linecolor": "white",
            "ticks": ""
           }
          },
          "ternary": {
           "bgcolor": "#E5ECF6",
           "aaxis": {
            "gridcolor": "white",
            "linecolor": "white",
            "ticks": ""
           },
           "baxis": {
            "gridcolor": "white",
            "linecolor": "white",
            "ticks": ""
           },
           "caxis": {
            "gridcolor": "white",
            "linecolor": "white",
            "ticks": ""
           }
          },
          "coloraxis": {
           "colorbar": {
            "outlinewidth": 0,
            "ticks": ""
           }
          },
          "colorscale": {
           "sequential": [
            [
             0.0,
             "#0d0887"
            ],
            [
             0.1111111111111111,
             "#46039f"
            ],
            [
             0.2222222222222222,
             "#7201a8"
            ],
            [
             0.3333333333333333,
             "#9c179e"
            ],
            [
             0.4444444444444444,
             "#bd3786"
            ],
            [
             0.5555555555555556,
             "#d8576b"
            ],
            [
             0.6666666666666666,
             "#ed7953"
            ],
            [
             0.7777777777777778,
             "#fb9f3a"
            ],
            [
             0.8888888888888888,
             "#fdca26"
            ],
            [
             1.0,
             "#f0f921"
            ]
           ],
           "sequentialminus": [
            [
             0.0,
             "#0d0887"
            ],
            [
             0.1111111111111111,
             "#46039f"
            ],
            [
             0.2222222222222222,
             "#7201a8"
            ],
            [
             0.3333333333333333,
             "#9c179e"
            ],
            [
             0.4444444444444444,
             "#bd3786"
            ],
            [
             0.5555555555555556,
             "#d8576b"
            ],
            [
             0.6666666666666666,
             "#ed7953"
            ],
            [
             0.7777777777777778,
             "#fb9f3a"
            ],
            [
             0.8888888888888888,
             "#fdca26"
            ],
            [
             1.0,
             "#f0f921"
            ]
           ],
           "diverging": [
            [
             0,
             "#8e0152"
            ],
            [
             0.1,
             "#c51b7d"
            ],
            [
             0.2,
             "#de77ae"
            ],
            [
             0.3,
             "#f1b6da"
            ],
            [
             0.4,
             "#fde0ef"
            ],
            [
             0.5,
             "#f7f7f7"
            ],
            [
             0.6,
             "#e6f5d0"
            ],
            [
             0.7,
             "#b8e186"
            ],
            [
             0.8,
             "#7fbc41"
            ],
            [
             0.9,
             "#4d9221"
            ],
            [
             1,
             "#276419"
            ]
           ]
          },
          "xaxis": {
           "gridcolor": "white",
           "linecolor": "white",
           "ticks": "",
           "title": {
            "standoff": 15
           },
           "zerolinecolor": "white",
           "automargin": true,
           "zerolinewidth": 2
          },
          "yaxis": {
           "gridcolor": "white",
           "linecolor": "white",
           "ticks": "",
           "title": {
            "standoff": 15
           },
           "zerolinecolor": "white",
           "automargin": true,
           "zerolinewidth": 2
          },
          "scene": {
           "xaxis": {
            "backgroundcolor": "#E5ECF6",
            "gridcolor": "white",
            "linecolor": "white",
            "showbackground": true,
            "ticks": "",
            "zerolinecolor": "white",
            "gridwidth": 2
           },
           "yaxis": {
            "backgroundcolor": "#E5ECF6",
            "gridcolor": "white",
            "linecolor": "white",
            "showbackground": true,
            "ticks": "",
            "zerolinecolor": "white",
            "gridwidth": 2
           },
           "zaxis": {
            "backgroundcolor": "#E5ECF6",
            "gridcolor": "white",
            "linecolor": "white",
            "showbackground": true,
            "ticks": "",
            "zerolinecolor": "white",
            "gridwidth": 2
           }
          },
          "shapedefaults": {
           "line": {
            "color": "#2a3f5f"
           }
          },
          "annotationdefaults": {
           "arrowcolor": "#2a3f5f",
           "arrowhead": 0,
           "arrowwidth": 1
          },
          "geo": {
           "bgcolor": "white",
           "landcolor": "#E5ECF6",
           "subunitcolor": "white",
           "showland": true,
           "showlakes": true,
           "lakecolor": "white"
          },
          "title": {
           "x": 0.05
          },
          "mapbox": {
           "style": "light"
          }
         }
        },
        "xaxis": {
         "anchor": "y",
         "domain": [
          0.0,
          1.0
         ],
         "title": {
          "text": "Seconds"
         }
        },
        "yaxis": {
         "anchor": "x",
         "domain": [
          0.0,
          1.0
         ],
         "title": {
          "text": "VAM/hr"
         }
        },
        "legend": {
         "title": {
          "text": "variable"
         },
         "tracegroupgap": 0
        },
        "title": {
         "text": "Seconds VS VAM/hr"
        },
        "width": 1000,
        "height": 800
       },
       "config": {
        "plotlyServerURL": "https://plot.ly"
       }
      },
      "text/html": "<div>                            <div id=\"7997681a-ce62-4312-8ca7-ae84d7cd46fe\" class=\"plotly-graph-div\" style=\"height:800px; width:1000px;\"></div>            <script type=\"text/javascript\">                require([\"plotly\"], function(Plotly) {                    window.PLOTLYENV=window.PLOTLYENV || {};                                    if (document.getElementById(\"7997681a-ce62-4312-8ca7-ae84d7cd46fe\")) {                    Plotly.newPlot(                        \"7997681a-ce62-4312-8ca7-ae84d7cd46fe\",                        [{\"hovertemplate\":\"variable=slope_3-4<br>interval=%{x}<br>value=%{y}<extra></extra>\",\"legendgroup\":\"slope_3-4\",\"line\":{\"color\":\"rgb(247,251,255)\",\"dash\":\"solid\"},\"marker\":{\"symbol\":\"circle\"},\"mode\":\"lines\",\"name\":\"slope_3-4\",\"orientation\":\"v\",\"showlegend\":true,\"x\":[60.0,120.0,180.0,240.0,300.0,360.0,420.0,480.0,540.0,600.0,660.0,720.0,780.0,840.0,900.0,960.0,1020.0,1080.0,1140.0],\"xaxis\":\"x\",\"y\":[6.6256933471159165,4.803722120014398,3.351233218909435,2.8529308377493385,2.5237721284292296,1.9272457645661594,1.5000854905117054,1.219479253970232,1.3762357088718333,1.475551583079737,1.6825495132121508,1.8080824662481771,1.8323619211811033,1.6936711638649684,1.3829987055117372,1.1288658132746336,1.0667772895527423,1.291489405629547,1.4836721919287084],\"yaxis\":\"y\",\"type\":\"scatter\"},{\"hovertemplate\":\"variable=slope_4-5<br>interval=%{x}<br>value=%{y}<extra></extra>\",\"legendgroup\":\"slope_4-5\",\"line\":{\"color\":\"rgb(222,235,247)\",\"dash\":\"solid\"},\"marker\":{\"symbol\":\"circle\"},\"mode\":\"lines\",\"name\":\"slope_4-5\",\"orientation\":\"v\",\"showlegend\":true,\"x\":[60.0,120.0,180.0,240.0,300.0,360.0,420.0,480.0,540.0,600.0,660.0,720.0,780.0,840.0,900.0,960.0,1020.0,1080.0,1140.0],\"xaxis\":\"x\",\"y\":[7.171627413049976,5.766562098020618,4.475916670737273,3.916196648868569,3.6474723506536746,3.3159469615754196,2.889509632505162,2.6173918903042606,2.4413566964282607,2.459101851764133,2.549288192555183,2.572869900372166,2.7354988245419567,2.806236360501947,2.8785864874321923,2.906062574870684,2.7405916781864894,2.468825342987726,2.457036049700903],\"yaxis\":\"y\",\"type\":\"scatter\"},{\"hovertemplate\":\"variable=slope_5-6<br>interval=%{x}<br>value=%{y}<extra></extra>\",\"legendgroup\":\"slope_5-6\",\"line\":{\"color\":\"rgb(198,219,239)\",\"dash\":\"solid\"},\"marker\":{\"symbol\":\"circle\"},\"mode\":\"lines\",\"name\":\"slope_5-6\",\"orientation\":\"v\",\"showlegend\":true,\"x\":[60.0,120.0,180.0,240.0,300.0,360.0,420.0,480.0,540.0,600.0,660.0,720.0,780.0,840.0,900.0,960.0,1020.0,1080.0,1140.0],\"xaxis\":\"x\",\"y\":[7.295296310774727,6.605152954809656,5.569609750592917,4.989876340086892,4.695418742775141,4.435442075157132,4.327724718785759,4.100334576361655,3.919185815872245,3.6898993144765306,3.5395680813481065,3.498266539419992,3.667475633094102,3.7089323077199623,3.7173911194635676,3.835048040966503,3.955797199933755,4.002469194350186,4.024025812526901],\"yaxis\":\"y\",\"type\":\"scatter\"},{\"hovertemplate\":\"variable=slope_6-7<br>interval=%{x}<br>value=%{y}<extra></extra>\",\"legendgroup\":\"slope_6-7\",\"line\":{\"color\":\"rgb(158,202,225)\",\"dash\":\"solid\"},\"marker\":{\"symbol\":\"circle\"},\"mode\":\"lines\",\"name\":\"slope_6-7\",\"orientation\":\"v\",\"showlegend\":true,\"x\":[60.0,120.0,180.0,240.0,300.0,360.0,420.0,480.0,540.0,600.0,660.0,720.0,780.0,840.0,900.0,960.0,1020.0,1080.0,1140.0],\"xaxis\":\"x\",\"y\":[8.02031788839703,7.721722206078945,7.400888384682926,6.388057838535556,5.91087010591898,5.563555506775713,5.435414466080803,5.399685512463454,5.334596802483253,5.1072615003237,4.928351441904011,5.024423471930766,4.847746421617362,4.765230051389035,4.866801642901709,4.8110667530406515,4.7724344651051505,4.840726981014684,5.036221971071217],\"yaxis\":\"y\",\"type\":\"scatter\"},{\"hovertemplate\":\"variable=slope_7-8<br>interval=%{x}<br>value=%{y}<extra></extra>\",\"legendgroup\":\"slope_7-8\",\"line\":{\"color\":\"rgb(107,174,214)\",\"dash\":\"solid\"},\"marker\":{\"symbol\":\"circle\"},\"mode\":\"lines\",\"name\":\"slope_7-8\",\"orientation\":\"v\",\"showlegend\":true,\"x\":[60.0,120.0,180.0,240.0,300.0,360.0,420.0,480.0,540.0,600.0,660.0,720.0,780.0,840.0,900.0,960.0,1020.0,1080.0,1140.0],\"xaxis\":\"x\",\"y\":[8.790580294061836,8.305769079634628,8.068841611300694,7.981160506934469,7.915887902997107,7.917636073956383,7.888199653120053,7.853425568994823,7.8416470627330375,7.838461726719859,7.802544532889013,7.768944264546154,7.143428450770135,6.894516322780405,6.581390333003104,6.628710106773022,6.850503722663297,7.109203471185653,7.018589920188505],\"yaxis\":\"y\",\"type\":\"scatter\"},{\"hovertemplate\":\"variable=slope_8-9<br>interval=%{x}<br>value=%{y}<extra></extra>\",\"legendgroup\":\"slope_8-9\",\"line\":{\"color\":\"rgb(66,146,198)\",\"dash\":\"solid\"},\"marker\":{\"symbol\":\"circle\"},\"mode\":\"lines\",\"name\":\"slope_8-9\",\"orientation\":\"v\",\"showlegend\":true,\"x\":[60.0,120.0,180.0,240.0,300.0,360.0,420.0,480.0,540.0,600.0,660.0,720.0,780.0,840.0,900.0,960.0,1020.0,1080.0,1140.0],\"xaxis\":\"x\",\"y\":[9.713889042117692,8.399418913314905,8.12115459919016,8.226055994950693,8.184649359186189,8.051425478317467,8.076594854477786,8.058173580721157,8.059726999506172,8.038355846019542,8.03823602294133,8.014557825000498,8.01802401926055,8.027400280339887,8.027128782470704,8.014097916727001,8.010519043402592,8.01273724440289,7.998152639061891],\"yaxis\":\"y\",\"type\":\"scatter\"},{\"hovertemplate\":\"variable=slope_9-10<br>interval=%{x}<br>value=%{y}<extra></extra>\",\"legendgroup\":\"slope_9-10\",\"line\":{\"color\":\"rgb(33,113,181)\",\"dash\":\"solid\"},\"marker\":{\"symbol\":\"circle\"},\"mode\":\"lines\",\"name\":\"slope_9-10\",\"orientation\":\"v\",\"showlegend\":true,\"x\":[60.0,120.0,180.0,240.0,300.0,360.0,420.0,480.0,540.0,600.0,660.0,720.0,780.0,840.0,900.0,960.0,1020.0,1080.0,1140.0],\"xaxis\":\"x\",\"y\":[10.097999717366196,8.970504204149266,8.641276592169573,8.474446184887482,8.467979366031283,8.368265846350589,8.367216583699863,8.340869226523044,8.365089325408086,8.325104793100842,8.395724202396272,8.371227330840487,8.350453889842656,8.41733019751454,8.373413494397955,8.355752649712898,8.275091201897945,8.220696567119429,8.198877609225919],\"yaxis\":\"y\",\"type\":\"scatter\"}],                        {\"template\":{\"data\":{\"histogram2dcontour\":[{\"type\":\"histogram2dcontour\",\"colorbar\":{\"outlinewidth\":0,\"ticks\":\"\"},\"colorscale\":[[0.0,\"#0d0887\"],[0.1111111111111111,\"#46039f\"],[0.2222222222222222,\"#7201a8\"],[0.3333333333333333,\"#9c179e\"],[0.4444444444444444,\"#bd3786\"],[0.5555555555555556,\"#d8576b\"],[0.6666666666666666,\"#ed7953\"],[0.7777777777777778,\"#fb9f3a\"],[0.8888888888888888,\"#fdca26\"],[1.0,\"#f0f921\"]]}],\"choropleth\":[{\"type\":\"choropleth\",\"colorbar\":{\"outlinewidth\":0,\"ticks\":\"\"}}],\"histogram2d\":[{\"type\":\"histogram2d\",\"colorbar\":{\"outlinewidth\":0,\"ticks\":\"\"},\"colorscale\":[[0.0,\"#0d0887\"],[0.1111111111111111,\"#46039f\"],[0.2222222222222222,\"#7201a8\"],[0.3333333333333333,\"#9c179e\"],[0.4444444444444444,\"#bd3786\"],[0.5555555555555556,\"#d8576b\"],[0.6666666666666666,\"#ed7953\"],[0.7777777777777778,\"#fb9f3a\"],[0.8888888888888888,\"#fdca26\"],[1.0,\"#f0f921\"]]}],\"heatmap\":[{\"type\":\"heatmap\",\"colorbar\":{\"outlinewidth\":0,\"ticks\":\"\"},\"colorscale\":[[0.0,\"#0d0887\"],[0.1111111111111111,\"#46039f\"],[0.2222222222222222,\"#7201a8\"],[0.3333333333333333,\"#9c179e\"],[0.4444444444444444,\"#bd3786\"],[0.5555555555555556,\"#d8576b\"],[0.6666666666666666,\"#ed7953\"],[0.7777777777777778,\"#fb9f3a\"],[0.8888888888888888,\"#fdca26\"],[1.0,\"#f0f921\"]]}],\"heatmapgl\":[{\"type\":\"heatmapgl\",\"colorbar\":{\"outlinewidth\":0,\"ticks\":\"\"},\"colorscale\":[[0.0,\"#0d0887\"],[0.1111111111111111,\"#46039f\"],[0.2222222222222222,\"#7201a8\"],[0.3333333333333333,\"#9c179e\"],[0.4444444444444444,\"#bd3786\"],[0.5555555555555556,\"#d8576b\"],[0.6666666666666666,\"#ed7953\"],[0.7777777777777778,\"#fb9f3a\"],[0.8888888888888888,\"#fdca26\"],[1.0,\"#f0f921\"]]}],\"contourcarpet\":[{\"type\":\"contourcarpet\",\"colorbar\":{\"outlinewidth\":0,\"ticks\":\"\"}}],\"contour\":[{\"type\":\"contour\",\"colorbar\":{\"outlinewidth\":0,\"ticks\":\"\"},\"colorscale\":[[0.0,\"#0d0887\"],[0.1111111111111111,\"#46039f\"],[0.2222222222222222,\"#7201a8\"],[0.3333333333333333,\"#9c179e\"],[0.4444444444444444,\"#bd3786\"],[0.5555555555555556,\"#d8576b\"],[0.6666666666666666,\"#ed7953\"],[0.7777777777777778,\"#fb9f3a\"],[0.8888888888888888,\"#fdca26\"],[1.0,\"#f0f921\"]]}],\"surface\":[{\"type\":\"surface\",\"colorbar\":{\"outlinewidth\":0,\"ticks\":\"\"},\"colorscale\":[[0.0,\"#0d0887\"],[0.1111111111111111,\"#46039f\"],[0.2222222222222222,\"#7201a8\"],[0.3333333333333333,\"#9c179e\"],[0.4444444444444444,\"#bd3786\"],[0.5555555555555556,\"#d8576b\"],[0.6666666666666666,\"#ed7953\"],[0.7777777777777778,\"#fb9f3a\"],[0.8888888888888888,\"#fdca26\"],[1.0,\"#f0f921\"]]}],\"mesh3d\":[{\"type\":\"mesh3d\",\"colorbar\":{\"outlinewidth\":0,\"ticks\":\"\"}}],\"scatter\":[{\"fillpattern\":{\"fillmode\":\"overlay\",\"size\":10,\"solidity\":0.2},\"type\":\"scatter\"}],\"parcoords\":[{\"type\":\"parcoords\",\"line\":{\"colorbar\":{\"outlinewidth\":0,\"ticks\":\"\"}}}],\"scatterpolargl\":[{\"type\":\"scatterpolargl\",\"marker\":{\"colorbar\":{\"outlinewidth\":0,\"ticks\":\"\"}}}],\"bar\":[{\"error_x\":{\"color\":\"#2a3f5f\"},\"error_y\":{\"color\":\"#2a3f5f\"},\"marker\":{\"line\":{\"color\":\"#E5ECF6\",\"width\":0.5},\"pattern\":{\"fillmode\":\"overlay\",\"size\":10,\"solidity\":0.2}},\"type\":\"bar\"}],\"scattergeo\":[{\"type\":\"scattergeo\",\"marker\":{\"colorbar\":{\"outlinewidth\":0,\"ticks\":\"\"}}}],\"scatterpolar\":[{\"type\":\"scatterpolar\",\"marker\":{\"colorbar\":{\"outlinewidth\":0,\"ticks\":\"\"}}}],\"histogram\":[{\"marker\":{\"pattern\":{\"fillmode\":\"overlay\",\"size\":10,\"solidity\":0.2}},\"type\":\"histogram\"}],\"scattergl\":[{\"type\":\"scattergl\",\"marker\":{\"colorbar\":{\"outlinewidth\":0,\"ticks\":\"\"}}}],\"scatter3d\":[{\"type\":\"scatter3d\",\"line\":{\"colorbar\":{\"outlinewidth\":0,\"ticks\":\"\"}},\"marker\":{\"colorbar\":{\"outlinewidth\":0,\"ticks\":\"\"}}}],\"scattermapbox\":[{\"type\":\"scattermapbox\",\"marker\":{\"colorbar\":{\"outlinewidth\":0,\"ticks\":\"\"}}}],\"scatterternary\":[{\"type\":\"scatterternary\",\"marker\":{\"colorbar\":{\"outlinewidth\":0,\"ticks\":\"\"}}}],\"scattercarpet\":[{\"type\":\"scattercarpet\",\"marker\":{\"colorbar\":{\"outlinewidth\":0,\"ticks\":\"\"}}}],\"carpet\":[{\"aaxis\":{\"endlinecolor\":\"#2a3f5f\",\"gridcolor\":\"white\",\"linecolor\":\"white\",\"minorgridcolor\":\"white\",\"startlinecolor\":\"#2a3f5f\"},\"baxis\":{\"endlinecolor\":\"#2a3f5f\",\"gridcolor\":\"white\",\"linecolor\":\"white\",\"minorgridcolor\":\"white\",\"startlinecolor\":\"#2a3f5f\"},\"type\":\"carpet\"}],\"table\":[{\"cells\":{\"fill\":{\"color\":\"#EBF0F8\"},\"line\":{\"color\":\"white\"}},\"header\":{\"fill\":{\"color\":\"#C8D4E3\"},\"line\":{\"color\":\"white\"}},\"type\":\"table\"}],\"barpolar\":[{\"marker\":{\"line\":{\"color\":\"#E5ECF6\",\"width\":0.5},\"pattern\":{\"fillmode\":\"overlay\",\"size\":10,\"solidity\":0.2}},\"type\":\"barpolar\"}],\"pie\":[{\"automargin\":true,\"type\":\"pie\"}]},\"layout\":{\"autotypenumbers\":\"strict\",\"colorway\":[\"#636efa\",\"#EF553B\",\"#00cc96\",\"#ab63fa\",\"#FFA15A\",\"#19d3f3\",\"#FF6692\",\"#B6E880\",\"#FF97FF\",\"#FECB52\"],\"font\":{\"color\":\"#2a3f5f\"},\"hovermode\":\"closest\",\"hoverlabel\":{\"align\":\"left\"},\"paper_bgcolor\":\"white\",\"plot_bgcolor\":\"#E5ECF6\",\"polar\":{\"bgcolor\":\"#E5ECF6\",\"angularaxis\":{\"gridcolor\":\"white\",\"linecolor\":\"white\",\"ticks\":\"\"},\"radialaxis\":{\"gridcolor\":\"white\",\"linecolor\":\"white\",\"ticks\":\"\"}},\"ternary\":{\"bgcolor\":\"#E5ECF6\",\"aaxis\":{\"gridcolor\":\"white\",\"linecolor\":\"white\",\"ticks\":\"\"},\"baxis\":{\"gridcolor\":\"white\",\"linecolor\":\"white\",\"ticks\":\"\"},\"caxis\":{\"gridcolor\":\"white\",\"linecolor\":\"white\",\"ticks\":\"\"}},\"coloraxis\":{\"colorbar\":{\"outlinewidth\":0,\"ticks\":\"\"}},\"colorscale\":{\"sequential\":[[0.0,\"#0d0887\"],[0.1111111111111111,\"#46039f\"],[0.2222222222222222,\"#7201a8\"],[0.3333333333333333,\"#9c179e\"],[0.4444444444444444,\"#bd3786\"],[0.5555555555555556,\"#d8576b\"],[0.6666666666666666,\"#ed7953\"],[0.7777777777777778,\"#fb9f3a\"],[0.8888888888888888,\"#fdca26\"],[1.0,\"#f0f921\"]],\"sequentialminus\":[[0.0,\"#0d0887\"],[0.1111111111111111,\"#46039f\"],[0.2222222222222222,\"#7201a8\"],[0.3333333333333333,\"#9c179e\"],[0.4444444444444444,\"#bd3786\"],[0.5555555555555556,\"#d8576b\"],[0.6666666666666666,\"#ed7953\"],[0.7777777777777778,\"#fb9f3a\"],[0.8888888888888888,\"#fdca26\"],[1.0,\"#f0f921\"]],\"diverging\":[[0,\"#8e0152\"],[0.1,\"#c51b7d\"],[0.2,\"#de77ae\"],[0.3,\"#f1b6da\"],[0.4,\"#fde0ef\"],[0.5,\"#f7f7f7\"],[0.6,\"#e6f5d0\"],[0.7,\"#b8e186\"],[0.8,\"#7fbc41\"],[0.9,\"#4d9221\"],[1,\"#276419\"]]},\"xaxis\":{\"gridcolor\":\"white\",\"linecolor\":\"white\",\"ticks\":\"\",\"title\":{\"standoff\":15},\"zerolinecolor\":\"white\",\"automargin\":true,\"zerolinewidth\":2},\"yaxis\":{\"gridcolor\":\"white\",\"linecolor\":\"white\",\"ticks\":\"\",\"title\":{\"standoff\":15},\"zerolinecolor\":\"white\",\"automargin\":true,\"zerolinewidth\":2},\"scene\":{\"xaxis\":{\"backgroundcolor\":\"#E5ECF6\",\"gridcolor\":\"white\",\"linecolor\":\"white\",\"showbackground\":true,\"ticks\":\"\",\"zerolinecolor\":\"white\",\"gridwidth\":2},\"yaxis\":{\"backgroundcolor\":\"#E5ECF6\",\"gridcolor\":\"white\",\"linecolor\":\"white\",\"showbackground\":true,\"ticks\":\"\",\"zerolinecolor\":\"white\",\"gridwidth\":2},\"zaxis\":{\"backgroundcolor\":\"#E5ECF6\",\"gridcolor\":\"white\",\"linecolor\":\"white\",\"showbackground\":true,\"ticks\":\"\",\"zerolinecolor\":\"white\",\"gridwidth\":2}},\"shapedefaults\":{\"line\":{\"color\":\"#2a3f5f\"}},\"annotationdefaults\":{\"arrowcolor\":\"#2a3f5f\",\"arrowhead\":0,\"arrowwidth\":1},\"geo\":{\"bgcolor\":\"white\",\"landcolor\":\"#E5ECF6\",\"subunitcolor\":\"white\",\"showland\":true,\"showlakes\":true,\"lakecolor\":\"white\"},\"title\":{\"x\":0.05},\"mapbox\":{\"style\":\"light\"}}},\"xaxis\":{\"anchor\":\"y\",\"domain\":[0.0,1.0],\"title\":{\"text\":\"Seconds\"}},\"yaxis\":{\"anchor\":\"x\",\"domain\":[0.0,1.0],\"title\":{\"text\":\"VAM/hr\"}},\"legend\":{\"title\":{\"text\":\"variable\"},\"tracegroupgap\":0},\"title\":{\"text\":\"Seconds VS VAM/hr\"},\"width\":1000,\"height\":800},                        {\"responsive\": true}                    ).then(function(){\n                            \nvar gd = document.getElementById('7997681a-ce62-4312-8ca7-ae84d7cd46fe');\nvar x = new MutationObserver(function (mutations, observer) {{\n        var display = window.getComputedStyle(gd).display;\n        if (!display || display === 'none') {{\n            console.log([gd, 'removed!']);\n            Plotly.purge(gd);\n            observer.disconnect();\n        }}\n}});\n\n// Listen for the removal of the full notebook cells\nvar notebookContainer = gd.closest('#notebook-container');\nif (notebookContainer) {{\n    x.observe(notebookContainer, {childList: true});\n}}\n\n// Listen for the clearing of the current output cell\nvar outputEl = gd.closest('.output');\nif (outputEl) {{\n    x.observe(outputEl, {childList: true});\n}}\n\n                        })                };                });            </script>        </div>"
     },
     "metadata": {},
     "output_type": "display_data"
    }
   ],
   "source": [
    "v.plot_vam(df)"
   ],
   "metadata": {
    "collapsed": false
   }
  },
  {
   "cell_type": "code",
   "execution_count": null,
   "outputs": [],
   "source": [],
   "metadata": {
    "collapsed": false
   }
  }
 ],
 "metadata": {
  "kernelspec": {
   "display_name": "Python 3",
   "language": "python",
   "name": "python3"
  },
  "language_info": {
   "codemirror_mode": {
    "name": "ipython",
    "version": 2
   },
   "file_extension": ".py",
   "mimetype": "text/x-python",
   "name": "python",
   "nbconvert_exporter": "python",
   "pygments_lexer": "ipython2",
   "version": "2.7.6"
  }
 },
 "nbformat": 4,
 "nbformat_minor": 0
}
