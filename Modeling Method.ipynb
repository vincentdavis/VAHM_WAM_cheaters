{
 "cells": [
  {
   "cell_type": "code",
   "execution_count": 29,
   "metadata": {
    "collapsed": true
   },
   "outputs": [
    {
     "name": "stdout",
     "output_type": "stream",
     "text": [
      "The autoreload extension is already loaded. To reload it, use:\n",
      "  %reload_ext autoreload\n",
      "testdata/indoor/Zwift_Zwift_Fast_Fridays_Bologna_Time_Trial_E_.fit\n",
      "testdata/Luciano/Indoor/Zwift_-_Group_Ride__Rapha_Rising_Stage_3_on_Climber_s_Gambit_in_Watopia.fit\n",
      "testdata/outdoor/Morning_Ride.fit\n"
     ]
    }
   ],
   "source": [
    "%load_ext autoreload\n",
    "%autoreload 2\n",
    "\n",
    "import pandas as pd\n",
    "import warnings\n",
    "warnings.filterwarnings('ignore')\n",
    "from vamwam import dataprep, vam_compare, plot_vam, vam_curves\n",
    "\n",
    "indoor_test_file = 'testdata/indoor/Zwift_Zwift_Fast_Fridays_Bologna_Time_Trial_E_.fit'\n",
    "outdoor_test_file = 'testdata/outdoor/Morning_Ride.fit'\n",
    "indoorL_file = 'testdata/Luciano/Indoor/Zwift_-_Group_Ride__Rapha_Rising_Stage_3_on_Climber_s_Gambit_in_Watopia.fit'\n",
    "# load data\n",
    "ind = dataprep(indoor_test_file)\n",
    "indoorL = dataprep(indoorL_file)\n",
    "outd = dataprep(outdoor_test_file)\n"
   ]
  },
  {
   "cell_type": "code",
   "execution_count": 8,
   "outputs": [
    {
     "name": "stdout",
     "output_type": "stream",
     "text": [
      "                                 OLS Regression Results                                \n",
      "=======================================================================================\n",
      "Dep. Variable:                      y   R-squared (uncentered):                   0.910\n",
      "Model:                            OLS   Adj. R-squared (uncentered):              0.910\n",
      "Method:                 Least Squares   F-statistic:                              4133.\n",
      "Date:                Sun, 11 Dec 2022   Prob (F-statistic):                        0.00\n",
      "Time:                        09:34:52   Log-Likelihood:                         -5326.2\n",
      "No. Observations:                1223   AIC:                                  1.066e+04\n",
      "Df Residuals:                    1220   BIC:                                  1.067e+04\n",
      "Df Model:                           3                                                  \n",
      "Covariance Type:            nonrobust                                                  \n",
      "==============================================================================\n",
      "                 coef    std err          t      P>|t|      [0.025      0.975]\n",
      "------------------------------------------------------------------------------\n",
      "speed          1.8073      0.172     10.523      0.000       1.470       2.144\n",
      "speedsqrd      0.0498      0.011      4.698      0.000       0.029       0.071\n",
      "slope        695.5262      8.670     80.225      0.000     678.517     712.535\n",
      "==============================================================================\n",
      "Omnibus:                       92.851   Durbin-Watson:                   1.156\n",
      "Prob(Omnibus):                  0.000   Jarque-Bera (JB):              189.935\n",
      "Skew:                           0.487   Prob(JB):                     5.70e-42\n",
      "Kurtosis:                       4.666   Cond. No.                     3.05e+03\n",
      "==============================================================================\n",
      "\n",
      "Notes:\n",
      "[1] R² is computed without centering (uncentered) since the model does not contain a constant.\n",
      "[2] Standard Errors assume that the covariance matrix of the errors is correctly specified.\n",
      "[3] The condition number is large, 3.05e+03. This might indicate that there are\n",
      "strong multicollinearity or other numerical problems.\n"
     ]
    }
   ],
   "source": [
    "x = ind[['speed', 'speedsqrd', 'slope']]\n",
    "# x = sm.add_constant(x)\n",
    "y = ind['power']/ind['speed']\n",
    "\n",
    "import statsmodels.api as sm\n",
    "mod = sm.OLS(y, x, missing='drop')\n",
    "res = mod.fit()\n",
    "print(res.summary())"
   ],
   "metadata": {
    "collapsed": false
   }
  },
  {
   "cell_type": "code",
   "execution_count": 36,
   "outputs": [
    {
     "name": "stdout",
     "output_type": "stream",
     "text": [
      "                                 OLS Regression Results                                \n",
      "=======================================================================================\n",
      "Dep. Variable:                      y   R-squared (uncentered):                   0.914\n",
      "Model:                            OLS   Adj. R-squared (uncentered):              0.914\n",
      "Method:                 Least Squares   F-statistic:                              3207.\n",
      "Date:                Sun, 11 Dec 2022   Prob (F-statistic):                        0.00\n",
      "Time:                        10:36:01   Log-Likelihood:                         -4075.8\n",
      "No. Observations:                 909   AIC:                                      8158.\n",
      "Df Residuals:                     906   BIC:                                      8172.\n",
      "Df Model:                           3                                                  \n",
      "Covariance Type:            nonrobust                                                  \n",
      "==============================================================================\n",
      "                 coef    std err          t      P>|t|      [0.025      0.975]\n",
      "------------------------------------------------------------------------------\n",
      "speed          6.0129      0.896      6.707      0.000       4.254       7.772\n",
      "speedsqrd     -0.5737      0.085     -6.712      0.000      -0.741      -0.406\n",
      "slope        720.5893     28.953     24.888      0.000     663.766     777.413\n",
      "==============================================================================\n",
      "Omnibus:                       99.860   Durbin-Watson:                   0.712\n",
      "Prob(Omnibus):                  0.000   Jarque-Bera (JB):              280.273\n",
      "Skew:                          -0.563   Prob(JB):                     1.38e-61\n",
      "Kurtosis:                       5.477   Cond. No.                     2.07e+03\n",
      "==============================================================================\n",
      "\n",
      "Notes:\n",
      "[1] R² is computed without centering (uncentered) since the model does not contain a constant.\n",
      "[2] Standard Errors assume that the covariance matrix of the errors is correctly specified.\n",
      "[3] The condition number is large, 2.07e+03. This might indicate that there are\n",
      "strong multicollinearity or other numerical problems.\n"
     ]
    }
   ],
   "source": [
    "data = outd[(outd['speed']>1) & (outd['slope']>0.05)].dropna(subset=['speed', 'speedsqrd', 'slope', 'power'])\n",
    "x = data[['speed', 'speedsqrd', 'slope']]\n",
    "# x = sm.add_constant(x)\n",
    "y = data['power']/data['speed']\n",
    "\n",
    "import statsmodels.api as sm\n",
    "mod = sm.OLS(y, x, missing='drop')\n",
    "res = mod.fit()\n",
    "print(res.summary())"
   ],
   "metadata": {
    "collapsed": false
   }
  },
  {
   "cell_type": "code",
   "execution_count": 24,
   "outputs": [
    {
     "name": "stdout",
     "output_type": "stream",
     "text": [
      "                                 OLS Regression Results                                \n",
      "=======================================================================================\n",
      "Dep. Variable:                      y   R-squared (uncentered):                   0.963\n",
      "Model:                            OLS   Adj. R-squared (uncentered):              0.963\n",
      "Method:                 Least Squares   F-statistic:                              8054.\n",
      "Date:                Sun, 11 Dec 2022   Prob (F-statistic):                        0.00\n",
      "Time:                        09:55:44   Log-Likelihood:                         -3781.5\n",
      "No. Observations:                 925   AIC:                                      7569.\n",
      "Df Residuals:                     922   BIC:                                      7584.\n",
      "Df Model:                           3                                                  \n",
      "Covariance Type:            nonrobust                                                  \n",
      "==============================================================================\n",
      "                 coef    std err          t      P>|t|      [0.025      0.975]\n",
      "------------------------------------------------------------------------------\n",
      "speed          9.4842      0.561     16.908      0.000       8.383      10.585\n",
      "speedsqrd     -0.8363      0.038    -22.051      0.000      -0.911      -0.762\n",
      "slope        547.6372     19.867     27.565      0.000     508.647     586.628\n",
      "==============================================================================\n",
      "Omnibus:                      522.807   Durbin-Watson:                   0.649\n",
      "Prob(Omnibus):                  0.000   Jarque-Bera (JB):             8324.943\n",
      "Skew:                          -2.231   Prob(JB):                         0.00\n",
      "Kurtosis:                      17.003   Cond. No.                     2.37e+03\n",
      "==============================================================================\n",
      "\n",
      "Notes:\n",
      "[1] R² is computed without centering (uncentered) since the model does not contain a constant.\n",
      "[2] Standard Errors assume that the covariance matrix of the errors is correctly specified.\n",
      "[3] The condition number is large, 2.37e+03. This might indicate that there are\n",
      "strong multicollinearity or other numerical problems.\n"
     ]
    }
   ],
   "source": [
    "# indoorL\n",
    "data = indoorL[(indoorL['speed']>1) & (indoorL['slope']>0.06)].dropna(subset=['speed', 'speedsqrd', 'slope', 'power'])\n",
    "x = data[['speed', 'speedsqrd', 'slope']]\n",
    "# x = sm.add_constant(x)\n",
    "y = data['power']/data['speed']\n",
    "\n",
    "import statsmodels.api as sm\n",
    "mod = sm.OLS(y, x, missing='drop')\n",
    "res = mod.fit()\n",
    "print(res.summary())"
   ],
   "metadata": {
    "collapsed": false
   }
  },
  {
   "cell_type": "code",
   "execution_count": 25,
   "outputs": [
    {
     "name": "stdout",
     "output_type": "stream",
     "text": [
      "                                 OLS Regression Results                                \n",
      "=======================================================================================\n",
      "Dep. Variable:                      y   R-squared (uncentered):                   0.898\n",
      "Model:                            OLS   Adj. R-squared (uncentered):              0.898\n",
      "Method:                 Least Squares   F-statistic:                              4234.\n",
      "Date:                Sun, 11 Dec 2022   Prob (F-statistic):                        0.00\n",
      "Time:                        09:56:13   Log-Likelihood:                         -4840.0\n",
      "No. Observations:                1447   AIC:                                      9686.\n",
      "Df Residuals:                    1444   BIC:                                      9702.\n",
      "Df Model:                           3                                                  \n",
      "Covariance Type:            nonrobust                                                  \n",
      "==============================================================================\n",
      "                 coef    std err          t      P>|t|      [0.025      0.975]\n",
      "------------------------------------------------------------------------------\n",
      "speed          4.6892      0.072     65.000      0.000       4.548       4.831\n",
      "speedsqrd     -0.2265      0.005    -44.873      0.000      -0.236      -0.217\n",
      "slope         58.0903      7.337      7.917      0.000      43.697      72.483\n",
      "==============================================================================\n",
      "Omnibus:                      435.449   Durbin-Watson:                   0.437\n",
      "Prob(Omnibus):                  0.000   Jarque-Bera (JB):             1794.516\n",
      "Skew:                           1.391   Prob(JB):                         0.00\n",
      "Kurtosis:                       7.693   Cond. No.                     8.17e+03\n",
      "==============================================================================\n",
      "\n",
      "Notes:\n",
      "[1] R² is computed without centering (uncentered) since the model does not contain a constant.\n",
      "[2] Standard Errors assume that the covariance matrix of the errors is correctly specified.\n",
      "[3] The condition number is large, 8.17e+03. This might indicate that there are\n",
      "strong multicollinearity or other numerical problems.\n"
     ]
    }
   ],
   "source": [
    "data = indoorL[(indoorL['speed']>1) & (indoorL['slope']<0.02)].dropna(subset=['speed', 'speedsqrd', 'slope', 'power'])\n",
    "x = data[['speed', 'speedsqrd', 'slope']]\n",
    "# x = sm.add_constant(x)\n",
    "y = data['power']/data['speed']\n",
    "\n",
    "import statsmodels.api as sm\n",
    "mod = sm.OLS(y, x, missing='drop')\n",
    "res = mod.fit()\n",
    "print(res.summary())"
   ],
   "metadata": {
    "collapsed": false
   }
  },
  {
   "cell_type": "code",
   "execution_count": null,
   "outputs": [],
   "source": [],
   "metadata": {
    "collapsed": false
   }
  }
 ],
 "metadata": {
  "kernelspec": {
   "display_name": "Python 3",
   "language": "python",
   "name": "python3"
  },
  "language_info": {
   "codemirror_mode": {
    "name": "ipython",
    "version": 2
   },
   "file_extension": ".py",
   "mimetype": "text/x-python",
   "name": "python",
   "nbconvert_exporter": "python",
   "pygments_lexer": "ipython2",
   "version": "2.7.6"
  }
 },
 "nbformat": 4,
 "nbformat_minor": 0
}
