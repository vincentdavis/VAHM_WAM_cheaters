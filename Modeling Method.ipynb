{
 "cells": [
  {
   "cell_type": "code",
   "execution_count": 20,
   "metadata": {
    "collapsed": true
   },
   "outputs": [
    {
     "name": "stdout",
     "output_type": "stream",
     "text": [
      "The autoreload extension is already loaded. To reload it, use:\n",
      "  %reload_ext autoreload\n",
      "Loading: testdata/indoor/Zwift_Zwift_Fast_Fridays_Bologna_Time_Trial_E_.fit\n",
      "Loading: testdata/Luciano/Indoor/Zwift_-_Group_Ride__Rapha_Rising_Stage_3_on_Climber_s_Gambit_in_Watopia.fit\n",
      "Loading: testdata/outdoor/Morning_Ride.fit\n"
     ]
    }
   ],
   "source": [
    "%load_ext autoreload\n",
    "%autoreload 2\n",
    "\n",
    "import pandas as pd\n",
    "import warnings\n",
    "warnings.filterwarnings('ignore')\n",
    "from loadfiles import load_fit\n",
    "from vamwam import dataprep\n",
    "\n",
    "indoor_1 = 'testdata/indoor/Zwift_Zwift_Fast_Fridays_Bologna_Time_Trial_E_.fit'\n",
    "indoor_2 = 'testdata/Luciano/Indoor/Zwift_-_Group_Ride__Rapha_Rising_Stage_3_on_Climber_s_Gambit_in_Watopia.fit'\n",
    "outdoor_1 = 'testdata/outdoor/Morning_Ride.fit'\n",
    "\n",
    "# load data\n",
    "in1 = dataprep(load_fit(indoor_1))\n",
    "in2 = dataprep(load_fit(indoor_2))\n",
    "out1 = dataprep(load_fit(outdoor_1))\n"
   ]
  },
  {
   "cell_type": "code",
   "execution_count": 21,
   "outputs": [
    {
     "name": "stdout",
     "output_type": "stream",
     "text": [
      "                                 OLS Regression Results                                \n",
      "=======================================================================================\n",
      "Dep. Variable:                      y   R-squared (uncentered):                   0.910\n",
      "Model:                            OLS   Adj. R-squared (uncentered):              0.910\n",
      "Method:                 Least Squares   F-statistic:                              4133.\n",
      "Date:                Thu, 15 Dec 2022   Prob (F-statistic):                        0.00\n",
      "Time:                        11:11:15   Log-Likelihood:                         -5326.2\n",
      "No. Observations:                1223   AIC:                                  1.066e+04\n",
      "Df Residuals:                    1220   BIC:                                  1.067e+04\n",
      "Df Model:                           3                                                  \n",
      "Covariance Type:            nonrobust                                                  \n",
      "==============================================================================\n",
      "                 coef    std err          t      P>|t|      [0.025      0.975]\n",
      "------------------------------------------------------------------------------\n",
      "speed          1.8073      0.172     10.523      0.000       1.470       2.144\n",
      "speedsqrd      0.0498      0.011      4.698      0.000       0.029       0.071\n",
      "slope        695.5262      8.670     80.225      0.000     678.517     712.535\n",
      "==============================================================================\n",
      "Omnibus:                       92.851   Durbin-Watson:                   1.156\n",
      "Prob(Omnibus):                  0.000   Jarque-Bera (JB):              189.935\n",
      "Skew:                           0.487   Prob(JB):                     5.70e-42\n",
      "Kurtosis:                       4.666   Cond. No.                     3.05e+03\n",
      "==============================================================================\n",
      "\n",
      "Notes:\n",
      "[1] R² is computed without centering (uncentered) since the model does not contain a constant.\n",
      "[2] Standard Errors assume that the covariance matrix of the errors is correctly specified.\n",
      "[3] The condition number is large, 3.05e+03. This might indicate that there are\n",
      "strong multicollinearity or other numerical problems.\n"
     ]
    }
   ],
   "source": [
    "x = in1[['speed', 'speedsqrd', 'slope']]\n",
    "# x = sm.add_constant(x)\n",
    "y = in1['power']/in1['speed']\n",
    "\n",
    "import statsmodels.api as sm\n",
    "mod = sm.OLS(y, x, missing='drop')\n",
    "res = mod.fit()\n",
    "print(res.summary())"
   ],
   "metadata": {
    "collapsed": false
   }
  },
  {
   "cell_type": "code",
   "execution_count": 22,
   "outputs": [
    {
     "name": "stdout",
     "output_type": "stream",
     "text": [
      "                                 OLS Regression Results                                \n",
      "=======================================================================================\n",
      "Dep. Variable:                      y   R-squared (uncentered):                   0.914\n",
      "Model:                            OLS   Adj. R-squared (uncentered):              0.914\n",
      "Method:                 Least Squares   F-statistic:                              3207.\n",
      "Date:                Thu, 15 Dec 2022   Prob (F-statistic):                        0.00\n",
      "Time:                        11:11:24   Log-Likelihood:                         -4075.8\n",
      "No. Observations:                 909   AIC:                                      8158.\n",
      "Df Residuals:                     906   BIC:                                      8172.\n",
      "Df Model:                           3                                                  \n",
      "Covariance Type:            nonrobust                                                  \n",
      "==============================================================================\n",
      "                 coef    std err          t      P>|t|      [0.025      0.975]\n",
      "------------------------------------------------------------------------------\n",
      "speed          6.0129      0.896      6.707      0.000       4.254       7.772\n",
      "speedsqrd     -0.5737      0.085     -6.712      0.000      -0.741      -0.406\n",
      "slope        720.5893     28.953     24.888      0.000     663.766     777.413\n",
      "==============================================================================\n",
      "Omnibus:                       99.860   Durbin-Watson:                   0.712\n",
      "Prob(Omnibus):                  0.000   Jarque-Bera (JB):              280.273\n",
      "Skew:                          -0.563   Prob(JB):                     1.38e-61\n",
      "Kurtosis:                       5.477   Cond. No.                     2.07e+03\n",
      "==============================================================================\n",
      "\n",
      "Notes:\n",
      "[1] R² is computed without centering (uncentered) since the model does not contain a constant.\n",
      "[2] Standard Errors assume that the covariance matrix of the errors is correctly specified.\n",
      "[3] The condition number is large, 2.07e+03. This might indicate that there are\n",
      "strong multicollinearity or other numerical problems.\n"
     ]
    }
   ],
   "source": [
    "data = out1[(out1['speed']>1) & (out1['slope']>0.05)].dropna(subset=['speed', 'speedsqrd', 'slope', 'power'])\n",
    "x = data[['speed', 'speedsqrd', 'slope']]\n",
    "# x = sm.add_constant(x)\n",
    "y = data['power']/data['speed']\n",
    "\n",
    "import statsmodels.api as sm\n",
    "mod = sm.OLS(y, x, missing='drop')\n",
    "res = mod.fit()\n",
    "print(res.summary())"
   ],
   "metadata": {
    "collapsed": false
   }
  },
  {
   "cell_type": "code",
   "execution_count": 23,
   "outputs": [
    {
     "name": "stdout",
     "output_type": "stream",
     "text": [
      "                                 OLS Regression Results                                \n",
      "=======================================================================================\n",
      "Dep. Variable:                      y   R-squared (uncentered):                   0.911\n",
      "Model:                            OLS   Adj. R-squared (uncentered):              0.910\n",
      "Method:                 Least Squares   F-statistic:                              3108.\n",
      "Date:                Thu, 15 Dec 2022   Prob (F-statistic):                        0.00\n",
      "Time:                        11:11:35   Log-Likelihood:                         -5319.8\n",
      "No. Observations:                1222   AIC:                                  1.065e+04\n",
      "Df Residuals:                    1218   BIC:                                  1.067e+04\n",
      "Df Model:                           4                                                  \n",
      "Covariance Type:            nonrobust                                                  \n",
      "==============================================================================\n",
      "                 coef    std err          t      P>|t|      [0.025      0.975]\n",
      "------------------------------------------------------------------------------\n",
      "speed          1.8342      0.172     10.656      0.000       1.496       2.172\n",
      "speedsqrd      0.0477      0.011      4.485      0.000       0.027       0.069\n",
      "slope        695.1800      8.662     80.256      0.000     678.186     712.174\n",
      "accpower       0.1101      0.050      2.208      0.027       0.012       0.208\n",
      "==============================================================================\n",
      "Omnibus:                       93.210   Durbin-Watson:                   1.205\n",
      "Prob(Omnibus):                  0.000   Jarque-Bera (JB):              189.838\n",
      "Skew:                           0.491   Prob(JB):                     5.99e-42\n",
      "Kurtosis:                       4.663   Cond. No.                     3.05e+03\n",
      "==============================================================================\n",
      "\n",
      "Notes:\n",
      "[1] R² is computed without centering (uncentered) since the model does not contain a constant.\n",
      "[2] Standard Errors assume that the covariance matrix of the errors is correctly specified.\n",
      "[3] The condition number is large, 3.05e+03. This might indicate that there are\n",
      "strong multicollinearity or other numerical problems.\n"
     ]
    }
   ],
   "source": [
    "# indoorL\n",
    "data = in1[(in1['speed']>1)].dropna(subset=['speed', 'speedsqrd', 'slope', 'power'])\n",
    "x = data[['speed', 'speedsqrd', 'slope', 'accpower']]\n",
    "# x = sm.add_constant(x)\n",
    "y = data['avgpower']/data['speed']\n",
    "\n",
    "import statsmodels.api as sm\n",
    "mod = sm.OLS(y, x, missing='drop')\n",
    "res = mod.fit()\n",
    "print(res.summary())"
   ],
   "metadata": {
    "collapsed": false
   }
  },
  {
   "cell_type": "code",
   "execution_count": 18,
   "outputs": [
    {
     "name": "stdout",
     "output_type": "stream",
     "text": [
      "                                 OLS Regression Results                                \n",
      "=======================================================================================\n",
      "Dep. Variable:                      y   R-squared (uncentered):                   0.974\n",
      "Model:                            OLS   Adj. R-squared (uncentered):              0.974\n",
      "Method:                 Least Squares   F-statistic:                              8784.\n",
      "Date:                Wed, 14 Dec 2022   Prob (F-statistic):                        0.00\n",
      "Time:                        20:09:03   Log-Likelihood:                         -3613.2\n",
      "No. Observations:                 925   AIC:                                      7234.\n",
      "Df Residuals:                     921   BIC:                                      7254.\n",
      "Df Model:                           4                                                  \n",
      "Covariance Type:            nonrobust                                                  \n",
      "==============================================================================\n",
      "                 coef    std err          t      P>|t|      [0.025      0.975]\n",
      "------------------------------------------------------------------------------\n",
      "speed          4.7807      0.523      9.140      0.000       3.754       5.807\n",
      "speedsqrd     -0.2801      0.042     -6.665      0.000      -0.363      -0.198\n",
      "slope        665.4364     17.576     37.861      0.000     630.943     699.930\n",
      "accpower       4.9971      0.249     20.108      0.000       4.509       5.485\n",
      "==============================================================================\n",
      "Omnibus:                      292.770   Durbin-Watson:                   1.282\n",
      "Prob(Omnibus):                  0.000   Jarque-Bera (JB):             1968.934\n",
      "Skew:                          -1.270   Prob(JB):                         0.00\n",
      "Kurtosis:                       9.681   Cond. No.                     2.52e+03\n",
      "==============================================================================\n",
      "\n",
      "Notes:\n",
      "[1] R² is computed without centering (uncentered) since the model does not contain a constant.\n",
      "[2] Standard Errors assume that the covariance matrix of the errors is correctly specified.\n",
      "[3] The condition number is large, 2.52e+03. This might indicate that there are\n",
      "strong multicollinearity or other numerical problems.\n"
     ]
    }
   ],
   "source": [
    "data = in1[(in1['speed']>1) & (in1['slope']>0.06)].dropna(subset=['speed', 'speedsqrd', 'slope', 'power'])\n",
    "x = data[['speed', 'speedsqrd', 'slope', 'accpower']]\n",
    "# x = sm.add_constant(x)\n",
    "y = data['avgpower']/data['speed']\n",
    "\n",
    "import statsmodels.api as sm\n",
    "mod = sm.OLS(y, x, missing='drop')\n",
    "res = mod.fit()\n",
    "print(res.summary())"
   ],
   "metadata": {
    "collapsed": false
   }
  },
  {
   "cell_type": "code",
   "execution_count": null,
   "outputs": [],
   "source": [],
   "metadata": {
    "collapsed": false
   }
  }
 ],
 "metadata": {
  "kernelspec": {
   "display_name": "Python 3",
   "language": "python",
   "name": "python3"
  },
  "language_info": {
   "codemirror_mode": {
    "name": "ipython",
    "version": 2
   },
   "file_extension": ".py",
   "mimetype": "text/x-python",
   "name": "python",
   "nbconvert_exporter": "python",
   "pygments_lexer": "ipython2",
   "version": "2.7.6"
  }
 },
 "nbformat": 4,
 "nbformat_minor": 0
}
